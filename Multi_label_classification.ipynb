{
  "nbformat": 4,
  "nbformat_minor": 0,
  "metadata": {
    "colab": {
      "name": "Multi-label classification.ipynb",
      "provenance": [],
      "collapsed_sections": [
        "Jl4cbS9l41pN"
      ],
      "authorship_tag": "ABX9TyN2kS93+r6nVUttgSZmoNNq",
      "include_colab_link": true
    },
    "kernelspec": {
      "name": "python3",
      "display_name": "Python 3"
    },
    "language_info": {
      "name": "python"
    },
    "accelerator": "GPU"
  },
  "cells": [
    {
      "cell_type": "markdown",
      "metadata": {
        "id": "view-in-github",
        "colab_type": "text"
      },
      "source": [
        "<a href=\"https://colab.research.google.com/github/gitudaniel/fastai-course-notes/blob/main/Multi_label_classification.ipynb\" target=\"_parent\"><img src=\"https://colab.research.google.com/assets/colab-badge.svg\" alt=\"Open In Colab\"/></a>"
      ]
    },
    {
      "cell_type": "markdown",
      "metadata": {
        "id": "tFGRReDpxES0"
      },
      "source": [
        "## Introduction\n",
        "\n",
        "- Multi-label classification refers to the problem of identifying the categories of objects in an image where there may be more than one type of object in an image.\n",
        "\n",
        "- There may be more than one kind of object, or there may be no objects at all in the classes that you're looking for.\n",
        "\n",
        "- In practice, it is probably more common to have some images with zero matches or more than one match. We should therefore expect multi-label classifiers to be more widely applicable than single label classifiers.\n",
        "\n",
        "- First, we'll see how a multi-label dataset looks like, then we'll explain how to get it ready for our model.\n",
        "\n",
        "- We'll then see that the architecture does not change from the last chapter (pet breeds classification), only the loss function does."
      ]
    },
    {
      "cell_type": "markdown",
      "metadata": {
        "id": "GxrGnDES0nmC"
      },
      "source": [
        "## The data\n",
        "\n",
        "- We're going to use the *Pascal dataset*, which can have more than one classified object per image."
      ]
    },
    {
      "cell_type": "code",
      "metadata": {
        "id": "jqWzc6dk0mpm",
        "colab": {
          "base_uri": "https://localhost:8080/"
        },
        "outputId": "5c4a9fdd-9dd7-48cd-f16d-9ae555a9c9e5"
      },
      "source": [
        "!pip install --upgrade fastai"
      ],
      "execution_count": null,
      "outputs": [
        {
          "output_type": "stream",
          "text": [
            "Requirement already up-to-date: fastai in /usr/local/lib/python3.7/dist-packages (2.3.1)\n",
            "Requirement already satisfied, skipping upgrade: scipy in /usr/local/lib/python3.7/dist-packages (from fastai) (1.4.1)\n",
            "Requirement already satisfied, skipping upgrade: pip in /usr/local/lib/python3.7/dist-packages (from fastai) (19.3.1)\n",
            "Requirement already satisfied, skipping upgrade: pyyaml in /usr/local/lib/python3.7/dist-packages (from fastai) (3.13)\n",
            "Requirement already satisfied, skipping upgrade: spacy<4 in /usr/local/lib/python3.7/dist-packages (from fastai) (2.2.4)\n",
            "Requirement already satisfied, skipping upgrade: scikit-learn in /usr/local/lib/python3.7/dist-packages (from fastai) (0.22.2.post1)\n",
            "Requirement already satisfied, skipping upgrade: packaging in /usr/local/lib/python3.7/dist-packages (from fastai) (20.9)\n",
            "Requirement already satisfied, skipping upgrade: torchvision>=0.8.2 in /usr/local/lib/python3.7/dist-packages (from fastai) (0.9.1+cu101)\n",
            "Requirement already satisfied, skipping upgrade: requests in /usr/local/lib/python3.7/dist-packages (from fastai) (2.23.0)\n",
            "Requirement already satisfied, skipping upgrade: fastcore<1.4,>=1.3.8 in /usr/local/lib/python3.7/dist-packages (from fastai) (1.3.20)\n",
            "Requirement already satisfied, skipping upgrade: matplotlib in /usr/local/lib/python3.7/dist-packages (from fastai) (3.2.2)\n",
            "Requirement already satisfied, skipping upgrade: pandas in /usr/local/lib/python3.7/dist-packages (from fastai) (1.1.5)\n",
            "Requirement already satisfied, skipping upgrade: pillow>6.0.0 in /usr/local/lib/python3.7/dist-packages (from fastai) (7.1.2)\n",
            "Requirement already satisfied, skipping upgrade: torch<1.9,>=1.7.0 in /usr/local/lib/python3.7/dist-packages (from fastai) (1.8.1+cu101)\n",
            "Requirement already satisfied, skipping upgrade: fastprogress>=0.2.4 in /usr/local/lib/python3.7/dist-packages (from fastai) (1.0.0)\n",
            "Requirement already satisfied, skipping upgrade: numpy>=1.13.3 in /usr/local/lib/python3.7/dist-packages (from scipy->fastai) (1.19.5)\n",
            "Requirement already satisfied, skipping upgrade: setuptools in /usr/local/lib/python3.7/dist-packages (from spacy<4->fastai) (56.1.0)\n",
            "Requirement already satisfied, skipping upgrade: tqdm<5.0.0,>=4.38.0 in /usr/local/lib/python3.7/dist-packages (from spacy<4->fastai) (4.41.1)\n",
            "Requirement already satisfied, skipping upgrade: catalogue<1.1.0,>=0.0.7 in /usr/local/lib/python3.7/dist-packages (from spacy<4->fastai) (1.0.0)\n",
            "Requirement already satisfied, skipping upgrade: blis<0.5.0,>=0.4.0 in /usr/local/lib/python3.7/dist-packages (from spacy<4->fastai) (0.4.1)\n",
            "Requirement already satisfied, skipping upgrade: plac<1.2.0,>=0.9.6 in /usr/local/lib/python3.7/dist-packages (from spacy<4->fastai) (1.1.3)\n",
            "Requirement already satisfied, skipping upgrade: cymem<2.1.0,>=2.0.2 in /usr/local/lib/python3.7/dist-packages (from spacy<4->fastai) (2.0.5)\n",
            "Requirement already satisfied, skipping upgrade: wasabi<1.1.0,>=0.4.0 in /usr/local/lib/python3.7/dist-packages (from spacy<4->fastai) (0.8.2)\n",
            "Requirement already satisfied, skipping upgrade: srsly<1.1.0,>=1.0.2 in /usr/local/lib/python3.7/dist-packages (from spacy<4->fastai) (1.0.5)\n",
            "Requirement already satisfied, skipping upgrade: thinc==7.4.0 in /usr/local/lib/python3.7/dist-packages (from spacy<4->fastai) (7.4.0)\n",
            "Requirement already satisfied, skipping upgrade: murmurhash<1.1.0,>=0.28.0 in /usr/local/lib/python3.7/dist-packages (from spacy<4->fastai) (1.0.5)\n",
            "Requirement already satisfied, skipping upgrade: preshed<3.1.0,>=3.0.2 in /usr/local/lib/python3.7/dist-packages (from spacy<4->fastai) (3.0.5)\n",
            "Requirement already satisfied, skipping upgrade: joblib>=0.11 in /usr/local/lib/python3.7/dist-packages (from scikit-learn->fastai) (1.0.1)\n",
            "Requirement already satisfied, skipping upgrade: pyparsing>=2.0.2 in /usr/local/lib/python3.7/dist-packages (from packaging->fastai) (2.4.7)\n",
            "Requirement already satisfied, skipping upgrade: chardet<4,>=3.0.2 in /usr/local/lib/python3.7/dist-packages (from requests->fastai) (3.0.4)\n",
            "Requirement already satisfied, skipping upgrade: certifi>=2017.4.17 in /usr/local/lib/python3.7/dist-packages (from requests->fastai) (2020.12.5)\n",
            "Requirement already satisfied, skipping upgrade: idna<3,>=2.5 in /usr/local/lib/python3.7/dist-packages (from requests->fastai) (2.10)\n",
            "Requirement already satisfied, skipping upgrade: urllib3!=1.25.0,!=1.25.1,<1.26,>=1.21.1 in /usr/local/lib/python3.7/dist-packages (from requests->fastai) (1.24.3)\n",
            "Requirement already satisfied, skipping upgrade: cycler>=0.10 in /usr/local/lib/python3.7/dist-packages (from matplotlib->fastai) (0.10.0)\n",
            "Requirement already satisfied, skipping upgrade: kiwisolver>=1.0.1 in /usr/local/lib/python3.7/dist-packages (from matplotlib->fastai) (1.3.1)\n",
            "Requirement already satisfied, skipping upgrade: python-dateutil>=2.1 in /usr/local/lib/python3.7/dist-packages (from matplotlib->fastai) (2.8.1)\n",
            "Requirement already satisfied, skipping upgrade: pytz>=2017.2 in /usr/local/lib/python3.7/dist-packages (from pandas->fastai) (2018.9)\n",
            "Requirement already satisfied, skipping upgrade: typing-extensions in /usr/local/lib/python3.7/dist-packages (from torch<1.9,>=1.7.0->fastai) (3.7.4.3)\n",
            "Requirement already satisfied, skipping upgrade: importlib-metadata>=0.20; python_version < \"3.8\" in /usr/local/lib/python3.7/dist-packages (from catalogue<1.1.0,>=0.0.7->spacy<4->fastai) (4.0.1)\n",
            "Requirement already satisfied, skipping upgrade: six in /usr/local/lib/python3.7/dist-packages (from cycler>=0.10->matplotlib->fastai) (1.15.0)\n",
            "Requirement already satisfied, skipping upgrade: zipp>=0.5 in /usr/local/lib/python3.7/dist-packages (from importlib-metadata>=0.20; python_version < \"3.8\"->catalogue<1.1.0,>=0.0.7->spacy<4->fastai) (3.4.1)\n"
          ],
          "name": "stdout"
        }
      ]
    },
    {
      "cell_type": "code",
      "metadata": {
        "id": "_60EyT0l05PE"
      },
      "source": [
        "from fastai.vision.all import *"
      ],
      "execution_count": null,
      "outputs": []
    },
    {
      "cell_type": "code",
      "metadata": {
        "id": "wWKroitr1Sqc"
      },
      "source": [
        "path = untar_data(URLs.PASCAL_2007)"
      ],
      "execution_count": null,
      "outputs": []
    },
    {
      "cell_type": "markdown",
      "metadata": {
        "id": "qr1CXo3k1iNp"
      },
      "source": [
        "- This dataset comes with a CSV file telling us what labels to use for each image"
      ]
    },
    {
      "cell_type": "code",
      "metadata": {
        "colab": {
          "base_uri": "https://localhost:8080/",
          "height": 206
        },
        "id": "Bs7sFJ4k1g6q",
        "outputId": "889e5797-53c8-4310-f501-1e7c7eec2440"
      },
      "source": [
        "df = pd.read_csv(path/'train.csv')\n",
        "df.head()"
      ],
      "execution_count": null,
      "outputs": [
        {
          "output_type": "execute_result",
          "data": {
            "text/html": [
              "<div>\n",
              "<style scoped>\n",
              "    .dataframe tbody tr th:only-of-type {\n",
              "        vertical-align: middle;\n",
              "    }\n",
              "\n",
              "    .dataframe tbody tr th {\n",
              "        vertical-align: top;\n",
              "    }\n",
              "\n",
              "    .dataframe thead th {\n",
              "        text-align: right;\n",
              "    }\n",
              "</style>\n",
              "<table border=\"1\" class=\"dataframe\">\n",
              "  <thead>\n",
              "    <tr style=\"text-align: right;\">\n",
              "      <th></th>\n",
              "      <th>fname</th>\n",
              "      <th>labels</th>\n",
              "      <th>is_valid</th>\n",
              "    </tr>\n",
              "  </thead>\n",
              "  <tbody>\n",
              "    <tr>\n",
              "      <th>0</th>\n",
              "      <td>000005.jpg</td>\n",
              "      <td>chair</td>\n",
              "      <td>True</td>\n",
              "    </tr>\n",
              "    <tr>\n",
              "      <th>1</th>\n",
              "      <td>000007.jpg</td>\n",
              "      <td>car</td>\n",
              "      <td>True</td>\n",
              "    </tr>\n",
              "    <tr>\n",
              "      <th>2</th>\n",
              "      <td>000009.jpg</td>\n",
              "      <td>horse person</td>\n",
              "      <td>True</td>\n",
              "    </tr>\n",
              "    <tr>\n",
              "      <th>3</th>\n",
              "      <td>000012.jpg</td>\n",
              "      <td>car</td>\n",
              "      <td>False</td>\n",
              "    </tr>\n",
              "    <tr>\n",
              "      <th>4</th>\n",
              "      <td>000016.jpg</td>\n",
              "      <td>bicycle</td>\n",
              "      <td>True</td>\n",
              "    </tr>\n",
              "  </tbody>\n",
              "</table>\n",
              "</div>"
            ],
            "text/plain": [
              "        fname        labels  is_valid\n",
              "0  000005.jpg         chair      True\n",
              "1  000007.jpg           car      True\n",
              "2  000009.jpg  horse person      True\n",
              "3  000012.jpg           car     False\n",
              "4  000016.jpg       bicycle      True"
            ]
          },
          "metadata": {
            "tags": []
          },
          "execution_count": 52
        }
      ]
    },
    {
      "cell_type": "markdown",
      "metadata": {
        "id": "Syc1HrBQ10fR"
      },
      "source": [
        "- We can see that the list of categories in each image is shown as a space delimited string."
      ]
    },
    {
      "cell_type": "markdown",
      "metadata": {
        "id": "ZA4nXKe02KSj"
      },
      "source": [
        "## Pandas and DataFrames\n",
        "\n",
        "- *Pandas* is a Python library that is used to manipulate and analyse tabular and timeseries data.\n",
        "\n",
        "- The main class is `DataFrame` which represents a table of rows and columns.\n",
        "\n",
        "- You can get a DataFrame from a CSV file, a database table, python dictionaries etc.\n",
        "\n",
        "- In Jupyter a DataFrame is formatted as a table\n",
        "\n",
        "- The `iloc` (integer location) property lets you access rows and columns of a DataFrame as if it is a matrix"
      ]
    },
    {
      "cell_type": "code",
      "metadata": {
        "colab": {
          "base_uri": "https://localhost:8080/"
        },
        "id": "QBTNc4UK1tu9",
        "outputId": "b1c4d43c-46da-45fe-e4a4-6e2575777dca"
      },
      "source": [
        "# everything from the first column\n",
        "df.iloc[:,0]"
      ],
      "execution_count": null,
      "outputs": [
        {
          "output_type": "execute_result",
          "data": {
            "text/plain": [
              "0       000005.jpg\n",
              "1       000007.jpg\n",
              "2       000009.jpg\n",
              "3       000012.jpg\n",
              "4       000016.jpg\n",
              "           ...    \n",
              "5006    009954.jpg\n",
              "5007    009955.jpg\n",
              "5008    009958.jpg\n",
              "5009    009959.jpg\n",
              "5010    009961.jpg\n",
              "Name: fname, Length: 5011, dtype: object"
            ]
          },
          "metadata": {
            "tags": []
          },
          "execution_count": 53
        }
      ]
    },
    {
      "cell_type": "code",
      "metadata": {
        "colab": {
          "base_uri": "https://localhost:8080/"
        },
        "id": "WI6YXHdp235a",
        "outputId": "c0ce6a73-002a-42e8-8c19-62551a37247b"
      },
      "source": [
        "# everything from the first row\n",
        "df.iloc[0,:]\n",
        "\n",
        "# trailing ':'s are always optional in numpy, PyTorch, pandas etc\n",
        "# so this is equivalent\n",
        "df.iloc[0]"
      ],
      "execution_count": null,
      "outputs": [
        {
          "output_type": "execute_result",
          "data": {
            "text/plain": [
              "fname       000005.jpg\n",
              "labels           chair\n",
              "is_valid          True\n",
              "Name: 0, dtype: object"
            ]
          },
          "metadata": {
            "tags": []
          },
          "execution_count": 54
        }
      ]
    },
    {
      "cell_type": "markdown",
      "metadata": {
        "id": "CP3cWplZ3pel"
      },
      "source": [
        "- You can grab a column by name by indexing into a DataFrame directly:"
      ]
    },
    {
      "cell_type": "code",
      "metadata": {
        "colab": {
          "base_uri": "https://localhost:8080/"
        },
        "id": "e883kImn28Xw",
        "outputId": "96e86bd3-03a2-4fb7-b512-736a31eec342"
      },
      "source": [
        "df['fname']"
      ],
      "execution_count": null,
      "outputs": [
        {
          "output_type": "execute_result",
          "data": {
            "text/plain": [
              "0       000005.jpg\n",
              "1       000007.jpg\n",
              "2       000009.jpg\n",
              "3       000012.jpg\n",
              "4       000016.jpg\n",
              "           ...    \n",
              "5006    009954.jpg\n",
              "5007    009955.jpg\n",
              "5008    009958.jpg\n",
              "5009    009959.jpg\n",
              "5010    009961.jpg\n",
              "Name: fname, Length: 5011, dtype: object"
            ]
          },
          "metadata": {
            "tags": []
          },
          "execution_count": 55
        }
      ]
    },
    {
      "cell_type": "markdown",
      "metadata": {
        "id": "eIuAwf4U3w1N"
      },
      "source": [
        "- You can create new columns and do calculations using columns:"
      ]
    },
    {
      "cell_type": "code",
      "metadata": {
        "colab": {
          "base_uri": "https://localhost:8080/",
          "height": 112
        },
        "id": "htuAKDOC3uml",
        "outputId": "d840aa51-744a-4c14-fd02-669d8705c2a4"
      },
      "source": [
        "tmp_df = pd.DataFrame({'a': [1,2], 'b': [3,4]})\n",
        "tmp_df"
      ],
      "execution_count": null,
      "outputs": [
        {
          "output_type": "execute_result",
          "data": {
            "text/html": [
              "<div>\n",
              "<style scoped>\n",
              "    .dataframe tbody tr th:only-of-type {\n",
              "        vertical-align: middle;\n",
              "    }\n",
              "\n",
              "    .dataframe tbody tr th {\n",
              "        vertical-align: top;\n",
              "    }\n",
              "\n",
              "    .dataframe thead th {\n",
              "        text-align: right;\n",
              "    }\n",
              "</style>\n",
              "<table border=\"1\" class=\"dataframe\">\n",
              "  <thead>\n",
              "    <tr style=\"text-align: right;\">\n",
              "      <th></th>\n",
              "      <th>a</th>\n",
              "      <th>b</th>\n",
              "    </tr>\n",
              "  </thead>\n",
              "  <tbody>\n",
              "    <tr>\n",
              "      <th>0</th>\n",
              "      <td>1</td>\n",
              "      <td>3</td>\n",
              "    </tr>\n",
              "    <tr>\n",
              "      <th>1</th>\n",
              "      <td>2</td>\n",
              "      <td>4</td>\n",
              "    </tr>\n",
              "  </tbody>\n",
              "</table>\n",
              "</div>"
            ],
            "text/plain": [
              "   a  b\n",
              "0  1  3\n",
              "1  2  4"
            ]
          },
          "metadata": {
            "tags": []
          },
          "execution_count": 56
        }
      ]
    },
    {
      "cell_type": "code",
      "metadata": {
        "colab": {
          "base_uri": "https://localhost:8080/",
          "height": 112
        },
        "id": "1awjlHEO3-A3",
        "outputId": "41d89e00-444e-4030-ee31-89de3b7eac55"
      },
      "source": [
        "tmp_df['c'] = tmp_df['a'] + tmp_df['b']\n",
        "tmp_df"
      ],
      "execution_count": null,
      "outputs": [
        {
          "output_type": "execute_result",
          "data": {
            "text/html": [
              "<div>\n",
              "<style scoped>\n",
              "    .dataframe tbody tr th:only-of-type {\n",
              "        vertical-align: middle;\n",
              "    }\n",
              "\n",
              "    .dataframe tbody tr th {\n",
              "        vertical-align: top;\n",
              "    }\n",
              "\n",
              "    .dataframe thead th {\n",
              "        text-align: right;\n",
              "    }\n",
              "</style>\n",
              "<table border=\"1\" class=\"dataframe\">\n",
              "  <thead>\n",
              "    <tr style=\"text-align: right;\">\n",
              "      <th></th>\n",
              "      <th>a</th>\n",
              "      <th>b</th>\n",
              "      <th>c</th>\n",
              "    </tr>\n",
              "  </thead>\n",
              "  <tbody>\n",
              "    <tr>\n",
              "      <th>0</th>\n",
              "      <td>1</td>\n",
              "      <td>3</td>\n",
              "      <td>4</td>\n",
              "    </tr>\n",
              "    <tr>\n",
              "      <th>1</th>\n",
              "      <td>2</td>\n",
              "      <td>4</td>\n",
              "      <td>6</td>\n",
              "    </tr>\n",
              "  </tbody>\n",
              "</table>\n",
              "</div>"
            ],
            "text/plain": [
              "   a  b  c\n",
              "0  1  3  4\n",
              "1  2  4  6"
            ]
          },
          "metadata": {
            "tags": []
          },
          "execution_count": 57
        }
      ]
    },
    {
      "cell_type": "markdown",
      "metadata": {
        "id": "OKiGUztb4YpF"
      },
      "source": [
        "- Pandas is a fast and flexible library, unfortunately, its API can be rather confusing and surprising and takes a while to get familiar with it.\n",
        "\n",
        "- The book *'Python for Data Analysis'* by Wes McKinney (creator of Pandas) does a great job of covering libraries like Pandas, matplotlib and numpy"
      ]
    },
    {
      "cell_type": "markdown",
      "metadata": {
        "id": "Jl4cbS9l41pN"
      },
      "source": [
        "## Constructing a data block\n",
        "\n",
        "- To convert from a `DataFrame` object to a `DataLoaders` object, we use the data block API for creating a `DataLoaders` object.\n",
        "\n",
        "- As we have seen, PyTorch and fastai have two main classes for representing and accessing a training set or validation set:\n",
        "  - `Dataset` :: a collection which returns a tuple of your independent and dependent variables for a single item.\n",
        "  - `DataLoader` :: an iterator which provides a stream of mini batches, where each mini batch consists of a batch of independent variables and a batch of dependent variables."
      ]
    },
    {
      "cell_type": "code",
      "metadata": {
        "id": "o4zizvja4Dqz",
        "colab": {
          "base_uri": "https://localhost:8080/"
        },
        "outputId": "feefac8d-918c-42e4-fc88-fed311becd91"
      },
      "source": [
        "# example dataset\n",
        "\"\"\"A dataset is anything you can index into and take the length of it.\n",
        "When you index into a dataset, you expect to get back a tuple with the independent and dependent variable.\n",
        "\"\"\"\n",
        "a = list(enumerate(string.ascii_lowercase))\n",
        "a[0], len(a)"
      ],
      "execution_count": null,
      "outputs": [
        {
          "output_type": "execute_result",
          "data": {
            "text/plain": [
              "((0, 'a'), 26)"
            ]
          },
          "metadata": {
            "tags": []
          },
          "execution_count": 58
        }
      ]
    },
    {
      "cell_type": "code",
      "metadata": {
        "colab": {
          "base_uri": "https://localhost:8080/"
        },
        "id": "rQ0GAq6O7srf",
        "outputId": "dfe6c8ff-d1a7-4ea0-a867-d6c27c925d64"
      },
      "source": [
        "# example dataloader\n",
        "# a mini-batch is made up of a mini-batch of the independent variable\n",
        "# and a mini-batch of the dependent variable\n",
        "dl_a = DataLoader(a, batch_size=8, shuffle=True)\n",
        "b = first(dl_a)  # grab the first value from the iterator\n",
        "b"
      ],
      "execution_count": null,
      "outputs": [
        {
          "output_type": "execute_result",
          "data": {
            "text/plain": [
              "(tensor([20, 12,  2,  7, 18,  5, 23, 24]),\n",
              " ('u', 'm', 'c', 'h', 's', 'f', 'x', 'y'))"
            ]
          },
          "metadata": {
            "tags": []
          },
          "execution_count": 59
        }
      ]
    },
    {
      "cell_type": "code",
      "metadata": {
        "colab": {
          "base_uri": "https://localhost:8080/"
        },
        "id": "kQ3Kpk7g72zB",
        "outputId": "3344d644-4cf9-4040-b356-ce40e69bff7d"
      },
      "source": [
        "list(zip(b[0], b[1]))"
      ],
      "execution_count": null,
      "outputs": [
        {
          "output_type": "execute_result",
          "data": {
            "text/plain": [
              "[(tensor(20), 'u'),\n",
              " (tensor(12), 'm'),\n",
              " (tensor(2), 'c'),\n",
              " (tensor(7), 'h'),\n",
              " (tensor(18), 's'),\n",
              " (tensor(5), 'f'),\n",
              " (tensor(23), 'x'),\n",
              " (tensor(24), 'y')]"
            ]
          },
          "metadata": {
            "tags": []
          },
          "execution_count": 60
        }
      ]
    },
    {
      "cell_type": "code",
      "metadata": {
        "colab": {
          "base_uri": "https://localhost:8080/"
        },
        "id": "mK7b09Q49F6J",
        "outputId": "1eb2a151-0367-42ba-87ea-941d3acef857"
      },
      "source": [
        "\"\"\"*b means insert into this parameter list each element of b\"\"\"\n",
        "list(zip(*b))"
      ],
      "execution_count": null,
      "outputs": [
        {
          "output_type": "execute_result",
          "data": {
            "text/plain": [
              "[(tensor(20), 'u'),\n",
              " (tensor(12), 'm'),\n",
              " (tensor(2), 'c'),\n",
              " (tensor(7), 'h'),\n",
              " (tensor(18), 's'),\n",
              " (tensor(5), 'f'),\n",
              " (tensor(23), 'x'),\n",
              " (tensor(24), 'y')]"
            ]
          },
          "metadata": {
            "tags": []
          },
          "execution_count": 61
        }
      ]
    },
    {
      "cell_type": "markdown",
      "metadata": {
        "id": "gnDdDtl595AW"
      },
      "source": [
        "- On top of these, fastai provides two classes for bringing your training and validation sets together:\n",
        "  - `Datasets` :: an object containing a training and validation `Dataset`\n",
        "  - `DataLoaders` :: an object containing a training `DataLoader` and a validation `DataLoader`.\n",
        "\n",
        "- Normally, you don't start with an enumeration as we've seen above with an independent and dependent variable.\n",
        "\n",
        "- Normally, you start with a filename. You then transform your filename into an image by opening it, and a label by looking at the filename and grabbing something from it.\n",
        "\n",
        "- This is what `Datasets` does."
      ]
    },
    {
      "cell_type": "code",
      "metadata": {
        "colab": {
          "base_uri": "https://localhost:8080/"
        },
        "id": "NC8SsRp69JuD",
        "outputId": "b3352b67-165b-4fe7-ba01-97789802667a"
      },
      "source": [
        "a = list(string.ascii_lowercase)\n",
        "a[0], len(a)  # this is still a dataset -> we can index into it and get the length"
      ],
      "execution_count": null,
      "outputs": [
        {
          "output_type": "execute_result",
          "data": {
            "text/plain": [
              "('a', 26)"
            ]
          },
          "metadata": {
            "tags": []
          },
          "execution_count": 62
        }
      ]
    },
    {
      "cell_type": "code",
      "metadata": {
        "colab": {
          "base_uri": "https://localhost:8080/"
        },
        "id": "ijv_RReh_11c",
        "outputId": "5efe4d0e-a4b4-4a44-91d3-f65ea2d3869e"
      },
      "source": [
        "dss = Datasets(a)\n",
        "dss[0]"
      ],
      "execution_count": null,
      "outputs": [
        {
          "output_type": "execute_result",
          "data": {
            "text/plain": [
              "('a',)"
            ]
          },
          "metadata": {
            "tags": []
          },
          "execution_count": 63
        }
      ]
    },
    {
      "cell_type": "markdown",
      "metadata": {
        "id": "0dX6bxZG_8zF"
      },
      "source": [
        "- If we pass our list to Datasets we get back a tuple with just one item.\n",
        "\n",
        "- In practice, what we really want to do is to take this tuple and do something to compute the independent and dependent variable."
      ]
    },
    {
      "cell_type": "code",
      "metadata": {
        "id": "jN_xZ1k4_70b"
      },
      "source": [
        "def f1(o): return o+'a'  # independent variable has \"a\" at the end\n",
        "def f2(o): return o+'b'  # dependent variable has \"b\" at the end"
      ],
      "execution_count": null,
      "outputs": []
    },
    {
      "cell_type": "markdown",
      "metadata": {
        "id": "LDoLWl_VA-H1"
      },
      "source": [
        "- We can now call Datasets, passing in a and we can pass in a list of transformations to do."
      ]
    },
    {
      "cell_type": "code",
      "metadata": {
        "colab": {
          "base_uri": "https://localhost:8080/"
        },
        "id": "7FmN6kZmAm8E",
        "outputId": "d9d8b632-1521-40c5-e0a0-5219ab1895d8"
      },
      "source": [
        "dss = Datasets(a, [[f1]])\n",
        "dss[0]"
      ],
      "execution_count": null,
      "outputs": [
        {
          "output_type": "execute_result",
          "data": {
            "text/plain": [
              "('aa',)"
            ]
          },
          "metadata": {
            "tags": []
          },
          "execution_count": 65
        }
      ]
    },
    {
      "cell_type": "markdown",
      "metadata": {
        "id": "4UnqddarBODZ"
      },
      "source": [
        "- If you pass multiple functions, it's going to do multiple things."
      ]
    },
    {
      "cell_type": "code",
      "metadata": {
        "colab": {
          "base_uri": "https://localhost:8080/"
        },
        "id": "lsBDtLECAv25",
        "outputId": "64faca38-33ca-4498-d6b7-932b139cad33"
      },
      "source": [
        "dss = Datasets(a, [[f1,f2]])\n",
        "dss[0]"
      ],
      "execution_count": null,
      "outputs": [
        {
          "output_type": "execute_result",
          "data": {
            "text/plain": [
              "('aab',)"
            ]
          },
          "metadata": {
            "tags": []
          },
          "execution_count": 66
        }
      ]
    },
    {
      "cell_type": "markdown",
      "metadata": {
        "id": "k3bpUTZzBaiH"
      },
      "source": [
        "- The transformations are a list of lists because you can also pass in a list containing `f1` and a list containing `f2`.\n",
        "\n",
        "- What this does is it takes each element of `a`, passes it through the first list of functions, then start again and pass it throught the second list of functions."
      ]
    },
    {
      "cell_type": "code",
      "metadata": {
        "colab": {
          "base_uri": "https://localhost:8080/"
        },
        "id": "PEfPTg_LBVCt",
        "outputId": "440c36b9-66ba-4192-c6ba-a12127e343ee"
      },
      "source": [
        "dss = Datasets(a, [[f1], [f2]])\n",
        "dss[0]"
      ],
      "execution_count": null,
      "outputs": [
        {
          "output_type": "execute_result",
          "data": {
            "text/plain": [
              "('aa', 'ab')"
            ]
          },
          "metadata": {
            "tags": []
          },
          "execution_count": 67
        }
      ]
    },
    {
      "cell_type": "markdown",
      "metadata": {
        "id": "eyPEgFeuB8wp"
      },
      "source": [
        "- This is the main way we build up independent and dependent variables in fastai.\n",
        "\n",
        "- We start with something like a filename and we pass it through two lists of functions.\n",
        "\n",
        "- One of them generally opens up the image and the other parses the filename to give you an independent and dependent variable.\n",
        "\n",
        "- You can then create the `DataLoaders` from the `Datasets` by passing  in the datasets and the batch_size"
      ]
    },
    {
      "cell_type": "code",
      "metadata": {
        "colab": {
          "base_uri": "https://localhost:8080/"
        },
        "id": "bGSUiERmB69L",
        "outputId": "bc714c7b-9bd0-4541-c144-f4e18487f8f4"
      },
      "source": [
        "dls = DataLoaders.from_dsets(dss, batch_size=4)\n",
        "first(dls.train)"
      ],
      "execution_count": null,
      "outputs": [
        {
          "output_type": "execute_result",
          "data": {
            "text/plain": [
              "(('aa', 'wa', 'ka', 'xa'), ('ab', 'wb', 'kb', 'xb'))"
            ]
          },
          "metadata": {
            "tags": []
          },
          "execution_count": 68
        }
      ]
    },
    {
      "cell_type": "markdown",
      "metadata": {
        "id": "_9ZUAL2Zn1LX"
      },
      "source": [
        "- When we create a `DataBlock`, we build up gradually, step-by-step, and use the notebook to check our data along the way.\n",
        "\n",
        "- This is a great way to make sure that you maintain momentum as you are coding and its easy to debug because if there are any problems, it's the code you just typed."
      ]
    },
    {
      "cell_type": "code",
      "metadata": {
        "id": "RTHZNTnzCzzr"
      },
      "source": [
        "# data block with no parameters\n",
        "dblock = DataBlock()"
      ],
      "execution_count": null,
      "outputs": []
    },
    {
      "cell_type": "markdown",
      "metadata": {
        "id": "uPOYQInroT5e"
      },
      "source": [
        "- We can create a `Datasets` object from this. The only thing needed is a source, in this case, our dataframe:"
      ]
    },
    {
      "cell_type": "code",
      "metadata": {
        "id": "vlSsQ-G0oRgN"
      },
      "source": [
        "dsets = dblock.datasets(df)"
      ],
      "execution_count": null,
      "outputs": []
    },
    {
      "cell_type": "markdown",
      "metadata": {
        "id": "ITOhn4OUokUN"
      },
      "source": [
        "- This contains a `train` and a `valid` dataset, which we can index into:"
      ]
    },
    {
      "cell_type": "code",
      "metadata": {
        "colab": {
          "base_uri": "https://localhost:8080/"
        },
        "id": "fTmmbovZofi-",
        "outputId": "8e6f89d1-eecd-4732-e775-caad3f91e6a5"
      },
      "source": [
        "len(dsets.train), len(dsets.valid)"
      ],
      "execution_count": null,
      "outputs": [
        {
          "output_type": "execute_result",
          "data": {
            "text/plain": [
              "(4009, 1002)"
            ]
          },
          "metadata": {
            "tags": []
          },
          "execution_count": 71
        }
      ]
    },
    {
      "cell_type": "code",
      "metadata": {
        "colab": {
          "base_uri": "https://localhost:8080/"
        },
        "id": "E9EX4Oezor_r",
        "outputId": "f3e31caf-8ac0-438a-b6e1-0fd3e3dd221a"
      },
      "source": [
        "x, y = dsets.train[0]\n",
        "x, y"
      ],
      "execution_count": null,
      "outputs": [
        {
          "output_type": "execute_result",
          "data": {
            "text/plain": [
              "(fname       002896.jpg\n",
              " labels            bird\n",
              " is_valid          True\n",
              " Name: 1451, dtype: object, fname       002896.jpg\n",
              " labels            bird\n",
              " is_valid          True\n",
              " Name: 1451, dtype: object)"
            ]
          },
          "metadata": {
            "tags": []
          },
          "execution_count": 72
        }
      ]
    },
    {
      "cell_type": "markdown",
      "metadata": {
        "id": "o-TTbMMspXeJ"
      },
      "source": [
        "- This simply returns a row of the dataframe twice.\n",
        "\n",
        "- This is because by default, the datablock assumes we have two things: input and target.\n",
        "\n",
        "- We are going to need to grab the appropriate fields from the DataFrame by passing `get_x` and `get_y` functions:"
      ]
    },
    {
      "cell_type": "code",
      "metadata": {
        "colab": {
          "base_uri": "https://localhost:8080/",
          "height": 35
        },
        "id": "mKL8SR7Jo_sc",
        "outputId": "a8d8b612-df50-4e4d-98d3-1f9bcd4291de"
      },
      "source": [
        "x['fname']"
      ],
      "execution_count": null,
      "outputs": [
        {
          "output_type": "execute_result",
          "data": {
            "application/vnd.google.colaboratory.intrinsic+json": {
              "type": "string"
            },
            "text/plain": [
              "'002896.jpg'"
            ]
          },
          "metadata": {
            "tags": []
          },
          "execution_count": 73
        }
      ]
    },
    {
      "cell_type": "code",
      "metadata": {
        "colab": {
          "base_uri": "https://localhost:8080/",
          "height": 35
        },
        "id": "XHJz4mwCptnP",
        "outputId": "c5ccd9df-137c-4824-b821-0ea1385090d1"
      },
      "source": [
        "x['labels']"
      ],
      "execution_count": null,
      "outputs": [
        {
          "output_type": "execute_result",
          "data": {
            "application/vnd.google.colaboratory.intrinsic+json": {
              "type": "string"
            },
            "text/plain": [
              "'bird'"
            ]
          },
          "metadata": {
            "tags": []
          },
          "execution_count": 74
        }
      ]
    },
    {
      "cell_type": "code",
      "metadata": {
        "colab": {
          "base_uri": "https://localhost:8080/"
        },
        "id": "Km6xqFazpzd6",
        "outputId": "31143cb3-c8c4-40b8-f598-80cbd68a92d6"
      },
      "source": [
        "dblock = DataBlock(get_x=lambda r: r['fname'], get_y=lambda r: r['labels'])\n",
        "dsets = dblock.datasets(df)\n",
        "dsets.train[0]"
      ],
      "execution_count": null,
      "outputs": [
        {
          "output_type": "execute_result",
          "data": {
            "text/plain": [
              "('007336.jpg', 'person')"
            ]
          },
          "metadata": {
            "tags": []
          },
          "execution_count": 75
        }
      ]
    },
    {
      "cell_type": "markdown",
      "metadata": {
        "id": "WMcLRvknqcLr"
      },
      "source": [
        "- Python's *lambda* keyword is just a shortcut for defining and then referring to a function.\n",
        "\n",
        "- The above is identical to the following more verbose approach:"
      ]
    },
    {
      "cell_type": "code",
      "metadata": {
        "colab": {
          "base_uri": "https://localhost:8080/"
        },
        "id": "VJLU9TxXqApU",
        "outputId": "94d95611-bc68-4951-e289-d49ad5f978fc"
      },
      "source": [
        "def get_x(r): return r['fname']\n",
        "def get_y(r): return r['labels']\n",
        "\n",
        "dblock = DataBlock(get_x=get_x, get_y=get_y)\n",
        "dsets = dblock.datasets(df)\n",
        "dsets.train[0]"
      ],
      "execution_count": null,
      "outputs": [
        {
          "output_type": "execute_result",
          "data": {
            "text/plain": [
              "('007101.jpg', 'train')"
            ]
          },
          "metadata": {
            "tags": []
          },
          "execution_count": 76
        }
      ]
    },
    {
      "cell_type": "markdown",
      "metadata": {
        "id": "u7Kzg3AYrQBI"
      },
      "source": [
        "- We don't get the same result every time we create a new dataset because the random split is done differently each time.\n",
        "\n",
        "- Lambda functions are great for quickly iterating, however, they are not compatible with serialization (saving).\n",
        "\n",
        "- Use the more verbose approach if you want to export your `Learner` after training (python doesn't like saving things that contain lambdas).\n",
        "\n",
        "- The independent variable will need to be converted into a complete path, so that we can open it as an image.\n",
        "\n",
        "- The dependent variable will need to be split on the space character so that it becomes a list."
      ]
    },
    {
      "cell_type": "code",
      "metadata": {
        "id": "3GkUXJazq3I5"
      },
      "source": [
        "Path.BASE_PATH = path"
      ],
      "execution_count": null,
      "outputs": []
    },
    {
      "cell_type": "code",
      "metadata": {
        "colab": {
          "base_uri": "https://localhost:8080/"
        },
        "id": "EmbUJNPIs_Pz",
        "outputId": "5bf647d7-e85b-4f8b-ec80-1936824b5421"
      },
      "source": [
        "def get_x(r): return path/'train'/r['fname']\n",
        "def get_y(r): return r['labels'].split()\n",
        "\n",
        "dblock = DataBlock(get_x=get_x, get_y=get_y)\n",
        "dsets = dblock.datasets(df)\n",
        "dsets.train[0]"
      ],
      "execution_count": null,
      "outputs": [
        {
          "output_type": "execute_result",
          "data": {
            "text/plain": [
              "(Path('train/004195.jpg'), ['horse', 'person'])"
            ]
          },
          "metadata": {
            "tags": []
          },
          "execution_count": 78
        }
      ]
    },
    {
      "cell_type": "markdown",
      "metadata": {
        "id": "FFJlNs8rtf7I"
      },
      "source": [
        "- To actually open the image and do the conversion to tensors, we will need to use a set of transforms; block types will provide us with those.\n",
        "\n",
        "- The `ImageBlock` will work fine, because we have a path that points to a valid image.\n",
        "\n",
        "- The `CategoryBlock` is not going to work because it returns a single integer but we need to have multiple labels for each item.\n",
        "\n",
        "- To solve this we use a `MultiCategoryBlock` which expects to receive a list of strings."
      ]
    },
    {
      "cell_type": "code",
      "metadata": {
        "colab": {
          "base_uri": "https://localhost:8080/"
        },
        "id": "aKPuEZuptOdR",
        "outputId": "f518a649-91de-4ce2-c26c-4de03442dae7"
      },
      "source": [
        "dblock = DataBlock(blocks=(ImageBlock, MultiCategoryBlock),\n",
        "                   get_x=get_x, get_y=get_y)\n",
        "dsets = dblock.datasets(df)\n",
        "dsets.train[0]"
      ],
      "execution_count": null,
      "outputs": [
        {
          "output_type": "execute_result",
          "data": {
            "text/plain": [
              "(PILImage mode=RGB size=500x224,\n",
              " TensorMultiCategory([0., 0., 0., 0., 1., 0., 0., 0., 1., 0., 0., 0., 0., 0., 0., 0., 0., 0.,\n",
              "         0., 1.]))"
            ]
          },
          "metadata": {
            "tags": []
          },
          "execution_count": 79
        }
      ]
    },
    {
      "cell_type": "markdown",
      "metadata": {
        "id": "wmsY1ih0bF26"
      },
      "source": [
        "- As you can see, our list of categories is not encoded in the same way it was for the CategoryBlock.\n",
        "\n",
        "- In the case of the CategoryBlock, we had a single integer, representing which category was present, based on its location in our vocab.\n",
        "\n",
        "- In this case, we instead have a list of zeros, with a one in any position where that category is present, e.g. if there is a one in the second and fourth positions, that means that vocab items two and four are present in this image.\n",
        "\n",
        "- This is known as *one hot encoding*.\n",
        "\n",
        "- We can't use a list of category indices because each list would be a different length, and PyTorch requires tensors, where everything has to be the same length.\n",
        "\n",
        "> `One hot encoding`: using a vector of zeros, with a one in each location that is represented in the data, to encode a list of integers.\n",
        "\n",
        "- Let's check what the categories represent for this example:"
      ]
    },
    {
      "cell_type": "code",
      "metadata": {
        "id": "UeYOAQaNuhTj",
        "colab": {
          "base_uri": "https://localhost:8080/"
        },
        "outputId": "edca15db-63b2-4c9d-b8c7-9835843aa576"
      },
      "source": [
        "idxs = torch.where(dsets.train[0][1] == 1.)[0]\n",
        "dsets.train.vocab[idxs]"
      ],
      "execution_count": null,
      "outputs": [
        {
          "output_type": "execute_result",
          "data": {
            "text/plain": [
              "(#3) ['bottle','chair','tvmonitor']"
            ]
          },
          "metadata": {
            "tags": []
          },
          "execution_count": 80
        }
      ]
    },
    {
      "cell_type": "markdown",
      "metadata": {
        "id": "Qdas2KDdd6bk"
      },
      "source": [
        "- With numpy arrays, PyTorch tensors, and fastai's `L` class, you can index directly using a list or vector, which makes a lot of code (such as this example) more clearer and consise.\n",
        "\n",
        "- We have ignored the column `is_valid` up until now, which means that `DataBlock` has been using a random split by default.\n",
        "\n",
        "- Our DataFrame there's a column telling us what validation set to use. If the dataset you're given tells you what validation set to use, you should generally use it. That way, you can compare your validation set results to someone elses.\n",
        "\n",
        "- To explicitly choose the elemens of our validation set, we need to write a function and pass it to `splitter` (or use one of fastai's predefined functions or classes).\n",
        "\n",
        "- It will take the items (here our whole dataframe) and must return two (or more) integers."
      ]
    },
    {
      "cell_type": "code",
      "metadata": {
        "colab": {
          "base_uri": "https://localhost:8080/"
        },
        "id": "-ETdY1I0c0ev",
        "outputId": "8bd2d67d-1ef4-46b4-eecc-51d91097265a"
      },
      "source": [
        "def splitter(df):\n",
        "  train = df.index[~df['is_valid']].tolist()\n",
        "  valid = df.index[df['is_valid']].tolist()\n",
        "  return train, valid\n",
        "\n",
        "dblock = DataBlock(blocks=(ImageBlock, MultiCategoryBlock),\n",
        "                   splitter=splitter,\n",
        "                   get_x=get_x,\n",
        "                   get_y=get_y)\n",
        "\n",
        "dsets = dblock.datasets(df)\n",
        "dsets.train[0]"
      ],
      "execution_count": null,
      "outputs": [
        {
          "output_type": "execute_result",
          "data": {
            "text/plain": [
              "(PILImage mode=RGB size=500x333,\n",
              " TensorMultiCategory([0., 0., 0., 0., 0., 0., 1., 0., 0., 0., 0., 0., 0., 0., 0., 0., 0., 0.,\n",
              "         0., 0.]))"
            ]
          },
          "metadata": {
            "tags": []
          },
          "execution_count": 81
        }
      ]
    },
    {
      "cell_type": "code",
      "metadata": {
        "colab": {
          "base_uri": "https://localhost:8080/",
          "height": 206
        },
        "id": "aWopAG3mc3GU",
        "outputId": "c8f23d88-0d3c-4e68-9d6d-f6acfbc42817"
      },
      "source": [
        "df.head()"
      ],
      "execution_count": null,
      "outputs": [
        {
          "output_type": "execute_result",
          "data": {
            "text/html": [
              "<div>\n",
              "<style scoped>\n",
              "    .dataframe tbody tr th:only-of-type {\n",
              "        vertical-align: middle;\n",
              "    }\n",
              "\n",
              "    .dataframe tbody tr th {\n",
              "        vertical-align: top;\n",
              "    }\n",
              "\n",
              "    .dataframe thead th {\n",
              "        text-align: right;\n",
              "    }\n",
              "</style>\n",
              "<table border=\"1\" class=\"dataframe\">\n",
              "  <thead>\n",
              "    <tr style=\"text-align: right;\">\n",
              "      <th></th>\n",
              "      <th>fname</th>\n",
              "      <th>labels</th>\n",
              "      <th>is_valid</th>\n",
              "    </tr>\n",
              "  </thead>\n",
              "  <tbody>\n",
              "    <tr>\n",
              "      <th>0</th>\n",
              "      <td>000005.jpg</td>\n",
              "      <td>chair</td>\n",
              "      <td>True</td>\n",
              "    </tr>\n",
              "    <tr>\n",
              "      <th>1</th>\n",
              "      <td>000007.jpg</td>\n",
              "      <td>car</td>\n",
              "      <td>True</td>\n",
              "    </tr>\n",
              "    <tr>\n",
              "      <th>2</th>\n",
              "      <td>000009.jpg</td>\n",
              "      <td>horse person</td>\n",
              "      <td>True</td>\n",
              "    </tr>\n",
              "    <tr>\n",
              "      <th>3</th>\n",
              "      <td>000012.jpg</td>\n",
              "      <td>car</td>\n",
              "      <td>False</td>\n",
              "    </tr>\n",
              "    <tr>\n",
              "      <th>4</th>\n",
              "      <td>000016.jpg</td>\n",
              "      <td>bicycle</td>\n",
              "      <td>True</td>\n",
              "    </tr>\n",
              "  </tbody>\n",
              "</table>\n",
              "</div>"
            ],
            "text/plain": [
              "        fname        labels  is_valid\n",
              "0  000005.jpg         chair      True\n",
              "1  000007.jpg           car      True\n",
              "2  000009.jpg  horse person      True\n",
              "3  000012.jpg           car     False\n",
              "4  000016.jpg       bicycle      True"
            ]
          },
          "metadata": {
            "tags": []
          },
          "execution_count": 82
        }
      ]
    },
    {
      "cell_type": "code",
      "metadata": {
        "id": "7RSfYryldqJ6"
      },
      "source": [
        "valid = df.index[~df['is_valid']]"
      ],
      "execution_count": null,
      "outputs": []
    },
    {
      "cell_type": "code",
      "metadata": {
        "colab": {
          "base_uri": "https://localhost:8080/"
        },
        "id": "Xijf-H-0duut",
        "outputId": "44b5b0fd-e65d-4b89-e790-d9fff47f521c"
      },
      "source": [
        "valid"
      ],
      "execution_count": null,
      "outputs": [
        {
          "output_type": "execute_result",
          "data": {
            "text/plain": [
              "Int64Index([   3,    5,    9,   11,   13,   14,   15,   16,   17,   20,\n",
              "            ...\n",
              "            4991, 4993, 4996, 4998, 4999, 5000, 5001, 5004, 5009, 5010],\n",
              "           dtype='int64', length=2501)"
            ]
          },
          "metadata": {
            "tags": []
          },
          "execution_count": 84
        }
      ]
    },
    {
      "cell_type": "code",
      "metadata": {
        "colab": {
          "base_uri": "https://localhost:8080/"
        },
        "id": "np6Wt_nZdzFX",
        "outputId": "58201e49-0ecb-4d39-820e-f68576a1267c"
      },
      "source": [
        "len(valid)"
      ],
      "execution_count": null,
      "outputs": [
        {
          "output_type": "execute_result",
          "data": {
            "text/plain": [
              "2501"
            ]
          },
          "metadata": {
            "tags": []
          },
          "execution_count": 85
        }
      ]
    },
    {
      "cell_type": "markdown",
      "metadata": {
        "id": "e6tPGz6o9enu"
      },
      "source": [
        "- A `DataLoader` collates items from a `Dataset` into a mini-batch.\n",
        "\n",
        "- This is a tuple of tensors, where each tensor simply stacks the items from a similar location in the `Dataset` item (image & category in this case).\n",
        "\n",
        "- We need to ensure that every item is of the same size.\n",
        "\n",
        "- We do this using `RandomResizedCrop`:"
      ]
    },
    {
      "cell_type": "code",
      "metadata": {
        "id": "BYmOU--_d0KN"
      },
      "source": [
        "dblock = DataBlock(blocks=(ImageBlock, MultiCategoryBlock),\n",
        "                   splitter=splitter,\n",
        "                   get_x=get_x,\n",
        "                   get_y=get_y,\n",
        "                   item_tfms=RandomResizedCrop(128, min_scale=0.35))\n",
        "dls = dblock.dataloaders(df)"
      ],
      "execution_count": null,
      "outputs": []
    },
    {
      "cell_type": "markdown",
      "metadata": {
        "id": "xcaAOqYc-hD8"
      },
      "source": [
        "- We can now display a sample of our data."
      ]
    },
    {
      "cell_type": "code",
      "metadata": {
        "colab": {
          "base_uri": "https://localhost:8080/",
          "height": 195
        },
        "id": "hBoNy5GQ-eqd",
        "outputId": "f831e434-d174-47a8-d2fd-4ba1bd8d71c0"
      },
      "source": [
        "dls.show_batch(nrows=1, ncols=3)"
      ],
      "execution_count": null,
      "outputs": [
        {
          "output_type": "display_data",
          "data": {
            "image/png": "[encoded data removed]",
            "text/plain": [
              "<Figure size 648x216 with 3 Axes>"
            ]
          },
          "metadata": {
            "tags": [],
            "needs_background": "light"
          }
        }
      ]
    },
    {
      "cell_type": "markdown",
      "metadata": {
        "id": "m4OrPNfe-7FC"
      },
      "source": [
        "- If anything goes wrong when you create your `DataLoaders` from your `DataBlock`, or if you want to view exactly what happens with your `DataBlock`, you can use the `summary` method."
      ]
    },
    {
      "cell_type": "code",
      "metadata": {
        "colab": {
          "base_uri": "https://localhost:8080/"
        },
        "id": "Wg4TUY-j-pXn",
        "outputId": "2f547451-8625-4ea1-abc1-dfc134d54a95"
      },
      "source": [
        "dblock.summary(df)"
      ],
      "execution_count": null,
      "outputs": [
        {
          "output_type": "stream",
          "text": [
            "Setting-up type transforms pipelines\n",
            "Collecting items from            fname          labels  is_valid\n",
            "0     000005.jpg           chair      True\n",
            "1     000007.jpg             car      True\n",
            "2     000009.jpg    horse person      True\n",
            "3     000012.jpg             car     False\n",
            "4     000016.jpg         bicycle      True\n",
            "...          ...             ...       ...\n",
            "5006  009954.jpg    horse person      True\n",
            "5007  009955.jpg            boat      True\n",
            "5008  009958.jpg  person bicycle      True\n",
            "5009  009959.jpg             car     False\n",
            "5010  009961.jpg             dog     False\n",
            "\n",
            "[5011 rows x 3 columns]\n",
            "Found 5011 items\n",
            "2 datasets of sizes 2501,2510\n",
            "Setting up Pipeline: get_x -> PILBase.create\n",
            "Setting up Pipeline: get_y -> MultiCategorize -- {'vocab': None, 'sort': True, 'add_na': False} -> OneHotEncode -- {'c': None}\n",
            "\n",
            "Building one sample\n",
            "  Pipeline: get_x -> PILBase.create\n",
            "    starting from\n",
            "      fname       000012.jpg\n",
            "labels             car\n",
            "is_valid         False\n",
            "Name: 3, dtype: object\n",
            "    applying get_x gives\n",
            "      /root/.fastai/data/pascal_2007/train/000012.jpg\n",
            "    applying PILBase.create gives\n",
            "      PILImage mode=RGB size=500x333\n",
            "  Pipeline: get_y -> MultiCategorize -- {'vocab': None, 'sort': True, 'add_na': False} -> OneHotEncode -- {'c': None}\n",
            "    starting from\n",
            "      fname       000012.jpg\n",
            "labels             car\n",
            "is_valid         False\n",
            "Name: 3, dtype: object\n",
            "    applying get_y gives\n",
            "      [car]\n",
            "    applying MultiCategorize -- {'vocab': None, 'sort': True, 'add_na': False} gives\n",
            "      TensorMultiCategory([6])\n",
            "    applying OneHotEncode -- {'c': None} gives\n",
            "      TensorMultiCategory([0., 0., 0., 0., 0., 0., 1., 0., 0., 0., 0., 0., 0., 0., 0., 0., 0., 0.,\n",
            "        0., 0.])\n",
            "\n",
            "Final sample: (PILImage mode=RGB size=500x333, TensorMultiCategory([0., 0., 0., 0., 0., 0., 1., 0., 0., 0., 0., 0., 0., 0., 0., 0., 0., 0.,\n",
            "        0., 0.]))\n",
            "\n",
            "\n",
            "Collecting items from            fname          labels  is_valid\n",
            "0     000005.jpg           chair      True\n",
            "1     000007.jpg             car      True\n",
            "2     000009.jpg    horse person      True\n",
            "3     000012.jpg             car     False\n",
            "4     000016.jpg         bicycle      True\n",
            "...          ...             ...       ...\n",
            "5006  009954.jpg    horse person      True\n",
            "5007  009955.jpg            boat      True\n",
            "5008  009958.jpg  person bicycle      True\n",
            "5009  009959.jpg             car     False\n",
            "5010  009961.jpg             dog     False\n",
            "\n",
            "[5011 rows x 3 columns]\n",
            "Found 5011 items\n",
            "2 datasets of sizes 2501,2510\n",
            "Setting up Pipeline: get_x -> PILBase.create\n",
            "Setting up Pipeline: get_y -> MultiCategorize -- {'vocab': None, 'sort': True, 'add_na': False} -> OneHotEncode -- {'c': None}\n",
            "Setting up after_item: Pipeline: RandomResizedCrop -- {'size': (128, 128), 'min_scale': 0.35, 'ratio': (0.75, 1.3333333333333333), 'resamples': (2, 0), 'val_xtra': 0.14, 'max_scale': 1.0, 'p': 1.0} -> ToTensor\n",
            "Setting up before_batch: Pipeline: \n",
            "Setting up after_batch: Pipeline: IntToFloatTensor -- {'div': 255.0, 'div_mask': 1}\n",
            "\n",
            "Building one batch\n",
            "Applying item_tfms to the first sample:\n",
            "  Pipeline: RandomResizedCrop -- {'size': (128, 128), 'min_scale': 0.35, 'ratio': (0.75, 1.3333333333333333), 'resamples': (2, 0), 'val_xtra': 0.14, 'max_scale': 1.0, 'p': 1.0} -> ToTensor\n",
            "    starting from\n",
            "      (PILImage mode=RGB size=500x333, TensorMultiCategory([0., 0., 0., 0., 0., 0., 1., 0., 0., 0., 0., 0., 0., 0., 0., 0., 0., 0.,\n",
            "        0., 0.]))\n",
            "    applying RandomResizedCrop -- {'size': (128, 128), 'min_scale': 0.35, 'ratio': (0.75, 1.3333333333333333), 'resamples': (2, 0), 'val_xtra': 0.14, 'max_scale': 1.0, 'p': 1.0} gives\n",
            "      (PILImage mode=RGB size=128x128, TensorMultiCategory([0., 0., 0., 0., 0., 0., 1., 0., 0., 0., 0., 0., 0., 0., 0., 0., 0., 0.,\n",
            "        0., 0.]))\n",
            "    applying ToTensor gives\n",
            "      (TensorImage of size 3x128x128, TensorMultiCategory([0., 0., 0., 0., 0., 0., 1., 0., 0., 0., 0., 0., 0., 0., 0., 0., 0., 0.,\n",
            "        0., 0.]))\n",
            "\n",
            "Adding the next 3 samples\n",
            "\n",
            "No before_batch transform to apply\n",
            "\n",
            "Collating items in a batch\n",
            "\n",
            "Applying batch_tfms to the batch built\n",
            "  Pipeline: IntToFloatTensor -- {'div': 255.0, 'div_mask': 1}\n",
            "    starting from\n",
            "      (TensorImage of size 4x3x128x128, TensorMultiCategory of size 4x20)\n",
            "    applying IntToFloatTensor -- {'div': 255.0, 'div_mask': 1} gives\n",
            "      (TensorImage of size 4x3x128x128, TensorMultiCategory of size 4x20)\n"
          ],
          "name": "stdout"
        }
      ]
    },
    {
      "cell_type": "markdown",
      "metadata": {
        "id": "ROLbvdY8ANzV"
      },
      "source": [
        "## Binary cross entropy\n",
        "\n",
        "- We'll now create our `Learner`.\n",
        "\n",
        "- A `Learner` object contains 4 things:\n",
        "  - the model\n",
        "  - a `DataLoaders` object\n",
        "  - an `Optimizer`\n",
        "  - the loss function to use\n",
        "\n",
        "- We already have our `DataLoaders`, and we can leverage fastai's `resnet` models, and we know how to create an `SGD` optimizer.\n",
        "\n",
        "- Let's focus on ensuring we have a suitable loss function.\n",
        "\n",
        "- To do this, let's use `cnn_learner` to create a `Learner`, so we can look at its activations:"
      ]
    },
    {
      "cell_type": "code",
      "metadata": {
        "id": "HIIObNIu_JsT",
        "colab": {
          "base_uri": "https://localhost:8080/"
        },
        "outputId": "2cae2eb2-8725-4dba-d442-95c9ea65fb47"
      },
      "source": [
        "learn = cnn_learner(dls, resnet18)\n",
        "\n",
        "# move model to the GPU\n",
        "learn.model.cuda()"
      ],
      "execution_count": null,
      "outputs": [
        {
          "output_type": "execute_result",
          "data": {
            "text/plain": [
              "Sequential(\n",
              "  (0): Sequential(\n",
              "    (0): Conv2d(3, 64, kernel_size=(7, 7), stride=(2, 2), padding=(3, 3), bias=False)\n",
              "    (1): BatchNorm2d(64, eps=1e-05, momentum=0.1, affine=True, track_running_stats=True)\n",
              "    (2): ReLU(inplace=True)\n",
              "    (3): MaxPool2d(kernel_size=3, stride=2, padding=1, dilation=1, ceil_mode=False)\n",
              "    (4): Sequential(\n",
              "      (0): BasicBlock(\n",
              "        (conv1): Conv2d(64, 64, kernel_size=(3, 3), stride=(1, 1), padding=(1, 1), bias=False)\n",
              "        (bn1): BatchNorm2d(64, eps=1e-05, momentum=0.1, affine=True, track_running_stats=True)\n",
              "        (relu): ReLU(inplace=True)\n",
              "        (conv2): Conv2d(64, 64, kernel_size=(3, 3), stride=(1, 1), padding=(1, 1), bias=False)\n",
              "        (bn2): BatchNorm2d(64, eps=1e-05, momentum=0.1, affine=True, track_running_stats=True)\n",
              "      )\n",
              "      (1): BasicBlock(\n",
              "        (conv1): Conv2d(64, 64, kernel_size=(3, 3), stride=(1, 1), padding=(1, 1), bias=False)\n",
              "        (bn1): BatchNorm2d(64, eps=1e-05, momentum=0.1, affine=True, track_running_stats=True)\n",
              "        (relu): ReLU(inplace=True)\n",
              "        (conv2): Conv2d(64, 64, kernel_size=(3, 3), stride=(1, 1), padding=(1, 1), bias=False)\n",
              "        (bn2): BatchNorm2d(64, eps=1e-05, momentum=0.1, affine=True, track_running_stats=True)\n",
              "      )\n",
              "    )\n",
              "    (5): Sequential(\n",
              "      (0): BasicBlock(\n",
              "        (conv1): Conv2d(64, 128, kernel_size=(3, 3), stride=(2, 2), padding=(1, 1), bias=False)\n",
              "        (bn1): BatchNorm2d(128, eps=1e-05, momentum=0.1, affine=True, track_running_stats=True)\n",
              "        (relu): ReLU(inplace=True)\n",
              "        (conv2): Conv2d(128, 128, kernel_size=(3, 3), stride=(1, 1), padding=(1, 1), bias=False)\n",
              "        (bn2): BatchNorm2d(128, eps=1e-05, momentum=0.1, affine=True, track_running_stats=True)\n",
              "        (downsample): Sequential(\n",
              "          (0): Conv2d(64, 128, kernel_size=(1, 1), stride=(2, 2), bias=False)\n",
              "          (1): BatchNorm2d(128, eps=1e-05, momentum=0.1, affine=True, track_running_stats=True)\n",
              "        )\n",
              "      )\n",
              "      (1): BasicBlock(\n",
              "        (conv1): Conv2d(128, 128, kernel_size=(3, 3), stride=(1, 1), padding=(1, 1), bias=False)\n",
              "        (bn1): BatchNorm2d(128, eps=1e-05, momentum=0.1, affine=True, track_running_stats=True)\n",
              "        (relu): ReLU(inplace=True)\n",
              "        (conv2): Conv2d(128, 128, kernel_size=(3, 3), stride=(1, 1), padding=(1, 1), bias=False)\n",
              "        (bn2): BatchNorm2d(128, eps=1e-05, momentum=0.1, affine=True, track_running_stats=True)\n",
              "      )\n",
              "    )\n",
              "    (6): Sequential(\n",
              "      (0): BasicBlock(\n",
              "        (conv1): Conv2d(128, 256, kernel_size=(3, 3), stride=(2, 2), padding=(1, 1), bias=False)\n",
              "        (bn1): BatchNorm2d(256, eps=1e-05, momentum=0.1, affine=True, track_running_stats=True)\n",
              "        (relu): ReLU(inplace=True)\n",
              "        (conv2): Conv2d(256, 256, kernel_size=(3, 3), stride=(1, 1), padding=(1, 1), bias=False)\n",
              "        (bn2): BatchNorm2d(256, eps=1e-05, momentum=0.1, affine=True, track_running_stats=True)\n",
              "        (downsample): Sequential(\n",
              "          (0): Conv2d(128, 256, kernel_size=(1, 1), stride=(2, 2), bias=False)\n",
              "          (1): BatchNorm2d(256, eps=1e-05, momentum=0.1, affine=True, track_running_stats=True)\n",
              "        )\n",
              "      )\n",
              "      (1): BasicBlock(\n",
              "        (conv1): Conv2d(256, 256, kernel_size=(3, 3), stride=(1, 1), padding=(1, 1), bias=False)\n",
              "        (bn1): BatchNorm2d(256, eps=1e-05, momentum=0.1, affine=True, track_running_stats=True)\n",
              "        (relu): ReLU(inplace=True)\n",
              "        (conv2): Conv2d(256, 256, kernel_size=(3, 3), stride=(1, 1), padding=(1, 1), bias=False)\n",
              "        (bn2): BatchNorm2d(256, eps=1e-05, momentum=0.1, affine=True, track_running_stats=True)\n",
              "      )\n",
              "    )\n",
              "    (7): Sequential(\n",
              "      (0): BasicBlock(\n",
              "        (conv1): Conv2d(256, 512, kernel_size=(3, 3), stride=(2, 2), padding=(1, 1), bias=False)\n",
              "        (bn1): BatchNorm2d(512, eps=1e-05, momentum=0.1, affine=True, track_running_stats=True)\n",
              "        (relu): ReLU(inplace=True)\n",
              "        (conv2): Conv2d(512, 512, kernel_size=(3, 3), stride=(1, 1), padding=(1, 1), bias=False)\n",
              "        (bn2): BatchNorm2d(512, eps=1e-05, momentum=0.1, affine=True, track_running_stats=True)\n",
              "        (downsample): Sequential(\n",
              "          (0): Conv2d(256, 512, kernel_size=(1, 1), stride=(2, 2), bias=False)\n",
              "          (1): BatchNorm2d(512, eps=1e-05, momentum=0.1, affine=True, track_running_stats=True)\n",
              "        )\n",
              "      )\n",
              "      (1): BasicBlock(\n",
              "        (conv1): Conv2d(512, 512, kernel_size=(3, 3), stride=(1, 1), padding=(1, 1), bias=False)\n",
              "        (bn1): BatchNorm2d(512, eps=1e-05, momentum=0.1, affine=True, track_running_stats=True)\n",
              "        (relu): ReLU(inplace=True)\n",
              "        (conv2): Conv2d(512, 512, kernel_size=(3, 3), stride=(1, 1), padding=(1, 1), bias=False)\n",
              "        (bn2): BatchNorm2d(512, eps=1e-05, momentum=0.1, affine=True, track_running_stats=True)\n",
              "      )\n",
              "    )\n",
              "  )\n",
              "  (1): Sequential(\n",
              "    (0): AdaptiveConcatPool2d(\n",
              "      (ap): AdaptiveAvgPool2d(output_size=1)\n",
              "      (mp): AdaptiveMaxPool2d(output_size=1)\n",
              "    )\n",
              "    (1): Flatten(full=False)\n",
              "    (2): BatchNorm1d(1024, eps=1e-05, momentum=0.1, affine=True, track_running_stats=True)\n",
              "    (3): Dropout(p=0.25, inplace=False)\n",
              "    (4): Linear(in_features=1024, out_features=512, bias=False)\n",
              "    (5): ReLU(inplace=True)\n",
              "    (6): BatchNorm1d(512, eps=1e-05, momentum=0.1, affine=True, track_running_stats=True)\n",
              "    (7): Dropout(p=0.5, inplace=False)\n",
              "    (8): Linear(in_features=512, out_features=20, bias=False)\n",
              "  )\n",
              ")"
            ]
          },
          "metadata": {
            "tags": []
          },
          "execution_count": 89
        }
      ]
    },
    {
      "cell_type": "markdown",
      "metadata": {
        "id": "JLcJX2I-BGmZ"
      },
      "source": [
        "- The model in a `Learner` is generally an object of a class inheriting from `nn.Module`.\n",
        "\n",
        "- By passing it your independent variable as a mini batch, you can call it using parentheses and it will return the activations from the final layer of your model.\n",
        "\n",
        "- Let's try it out by grabbing a mini batch from our `DataLoader`, and then passing it to the model:"
      ]
    },
    {
      "cell_type": "code",
      "metadata": {
        "colab": {
          "base_uri": "https://localhost:8080/",
          "height": 35
        },
        "id": "plNAn_kM0sXF",
        "outputId": "06830339-733d-49f5-c6fe-8c441d97101b"
      },
      "source": [
        "# get GPU device name\n",
        "torch.cuda.get_device_name()"
      ],
      "execution_count": null,
      "outputs": [
        {
          "output_type": "execute_result",
          "data": {
            "application/vnd.google.colaboratory.intrinsic+json": {
              "type": "string"
            },
            "text/plain": [
              "'Tesla T4'"
            ]
          },
          "metadata": {
            "tags": []
          },
          "execution_count": 90
        }
      ]
    },
    {
      "cell_type": "code",
      "metadata": {
        "colab": {
          "base_uri": "https://localhost:8080/"
        },
        "id": "C7BkZIXv2Pwc",
        "outputId": "74a0ff66-6c3a-4b46-cdb7-35d9b8f9a9a6"
      },
      "source": [
        "torch.cuda.is_available()"
      ],
      "execution_count": null,
      "outputs": [
        {
          "output_type": "execute_result",
          "data": {
            "text/plain": [
              "True"
            ]
          },
          "metadata": {
            "tags": []
          },
          "execution_count": 91
        }
      ]
    },
    {
      "cell_type": "code",
      "metadata": {
        "colab": {
          "base_uri": "https://localhost:8080/"
        },
        "id": "xdHfpbxyBAug",
        "outputId": "57326b52-720e-42da-c011-3c7a9304c666"
      },
      "source": [
        "x, y = dls.train.one_batch()\n",
        "activs = learn.model(x)\n",
        "activs.shape"
      ],
      "execution_count": null,
      "outputs": [
        {
          "output_type": "execute_result",
          "data": {
            "text/plain": [
              "torch.Size([64, 20])"
            ]
          },
          "metadata": {
            "tags": []
          },
          "execution_count": 92
        }
      ]
    },
    {
      "cell_type": "markdown",
      "metadata": {
        "id": "N3NVROhVB7RQ"
      },
      "source": [
        "- `activs` has this shape because we have a batch size of 64 and we need to calculate the probability of each of 20 categories.\n",
        "\n",
        "- You should be able to predict what the shape of the activations will look like and confirm it using `activations.shape`.\n",
        "\n",
        "- If your shape differs from the actual value, understand where you went wrong or confirm whether there is a problem with your code."
      ]
    },
    {
      "cell_type": "code",
      "metadata": {
        "id": "2D4x0WPrBzp0",
        "colab": {
          "base_uri": "https://localhost:8080/"
        },
        "outputId": "76a0d840-77c0-40dd-aa56-0be01b786c23"
      },
      "source": [
        "activs[0]"
      ],
      "execution_count": null,
      "outputs": [
        {
          "output_type": "execute_result",
          "data": {
            "text/plain": [
              "tensor([ 0.9873, -0.1954, -1.9214, -2.5749, -1.9890,  0.3620, -0.1439,  3.3077,\n",
              "        -1.6808,  2.6641, -1.0578, -0.8381, -2.9310, -1.4611,  2.5631, -0.8486,\n",
              "        -1.2985, -2.1779, -3.1202,  0.8508], device='cuda:0',\n",
              "       grad_fn=<SelectBackward>)"
            ]
          },
          "metadata": {
            "tags": []
          },
          "execution_count": 93
        }
      ]
    },
    {
      "cell_type": "markdown",
      "metadata": {
        "id": "orTaHI4uPn8B"
      },
      "source": [
        "> **Note:** Knowing how to manually get a mini batch, pass it into a model and look at the activations and loss is really important for debugging your model. It is also very helpful for learning, so that you can see exactly what's going on.\n",
        "\n",
        "- Above we see our 20 activations.\n",
        "\n",
        "-This is not a trained model, it is a pretrained model with a random set of final layer weights so at this point the specific numbers don't mean anything.\n",
        "\n",
        "- They also aren't scaled between zero and one.\n",
        "\n",
        "- We can use the `sigmoid` function to scale activations to be between zero and one and calculate the loss based on this with the addition of `log`"
      ]
    },
    {
      "cell_type": "code",
      "metadata": {
        "id": "7V_-v58KPitI"
      },
      "source": [
        "def binary_cross_entropy(inputs, targets):\n",
        "  inputs = inputs.sigmoid()\n",
        "  return torch.where(targets==1, 1-inputs, inputs).log().mean()"
      ],
      "execution_count": null,
      "outputs": []
    },
    {
      "cell_type": "markdown",
      "metadata": {
        "id": "o390s3OtRe1H"
      },
      "source": [
        "- Because we have a one-hot encoded dependent variable, we can't directly use `nll_loss` or `softmax` (and therefore we can't use `cross_entropy`):\n",
        "    - **softmax** requires that all predictions sum to one, and tends to push one activation to be much larger than the others (due to the use of `exp`); however, we may well have multiple objects that we're confident appear in an image, so restricting the maximun sum of activations to one is not a good idea. By the same reasoning, we may want the sum to be *less* than one, if we don't think that *any* of the categories appear in an image.\n",
        "\n",
        "    - **nll_loss** returns the value of just one activation: the single activation corresponding with the single label for an item. This doesn't make sense when we have multiple labels.\n",
        "\n",
        "- Binary cross entropy is identical to the loss function we used earlier with our MNIST dataset (3's vs 7's) only with the addition of `.log()`.\n",
        "\n",
        "- Because we can use broadcasting in PyTorch and element-wise arithmetic, when we pass a whole matrix to `torch.where()` (one-hot encoded dependent variable) the operations will be applied to each column separately and every item separately i.e. each activation will be compared to each target for each column.\n",
        "\n",
        "- This means that our `binary cross entropy` function is going to be just like our MNIST loss function. But rather than just being is this a number 3, it will be able to tell whether it is a dog, cat, person etc.\n",
        "\n",
        "- We have expanded our MNIST loss function to handle higher dimensional tensors without doing any extra work.\n",
        "\n",
        "- PyTorch already provides the binary cross entropy function for us.\n",
        "\n",
        "- `F.binary_cross_entropy` and its module equivalent `nn.BCELoss`, calculate cross entropy on a one-hot encoded target, but do not include the initial `sigmoid`.\n",
        "\n",
        "- Normally, for one-hot encoded targets you'll want `F.binary_cross_entropy_with_logits` (or `nn.BCEWithLogitLoss`), which do both sigmoid and binary cross entropy in a single function, as in our example above.\n",
        "\n",
        "- The equivalent for single-label datasets (MNIST or Pets), where the target is encoded as a single integer is `F.nll_loss` or `nn.NLLLoss` for the version without the initial softmax, and `F.cross_entropy` or `nn.CrossEntropyLoss` for the version with initial softmax.\n",
        "\n",
        "- Since we have a one-hot encoded target, we'll use `BCEWithLogitsLoss`:"
      ]
    },
    {
      "cell_type": "code",
      "metadata": {
        "id": "114YavQWRNmm",
        "colab": {
          "base_uri": "https://localhost:8080/"
        },
        "outputId": "18ab2881-4970-4e02-a47d-5312ae61c193"
      },
      "source": [
        "loss_func = nn.BCEWithLogitsLoss()\n",
        "loss = loss_func(activs, y)\n",
        "loss"
      ],
      "execution_count": null,
      "outputs": [
        {
          "output_type": "execute_result",
          "data": {
            "text/plain": [
              "TensorMultiCategory(1.0280, device='cuda:0', grad_fn=<AliasBackward>)"
            ]
          },
          "metadata": {
            "tags": []
          },
          "execution_count": 95
        }
      ]
    },
    {
      "cell_type": "markdown",
      "metadata": {
        "id": "wLwIWlwDXpxa"
      },
      "source": [
        "- fastai knows that the `DataLoaders` have multiple category labels, so it will use `nn.BCEWithLogitsLoss` by default. We therefore don't have to specify the loss function (but we can if we want to).\n",
        "\n",
        "- One change compared to the last chapter is the metric we use: since we are in a multilabel problem, we can't use the accuracy function.\n",
        "\n",
        "- Accuracy compares our inputs to our targets like so:\n",
        "    ```python\n",
        "    def accuracy(inp, targ, axis=-1):\n",
        "      \"Compute accuracy with `targ` when `pred` is bs * n_classes\"\n",
        "      pred = inp.argmax(dim=axis)\n",
        "      return (pred == targ).float().mean()\n",
        "    ```\n",
        "\n",
        "- Accuracy only works for single label datasets like MNIST or Pets.\n",
        "\n",
        "- It takes the inputs (final layer activations) and it does the `argmax` (finds the index of the largest number in the activations). It then compares whether the prediction is equal to the target and gets the floating point mean.\n",
        "\n",
        "- The class predicted will therefore be the one with the highest activation.\n",
        "\n",
        "- `argmax` only makes sense if there's a single maximum thing that we're looking for and in this case we could have more than one prediction on a single image.\n",
        "\n",
        "- After applying sigmoid to our activations (make them between 0 and 1), we need to decide which ones are 0s and which one are 1s by picking a *threshold*.\n",
        "\n",
        "- Each value above the threshold is considered a 1, and each value lower than the threshold will be considered a 0:\n"
      ]
    },
    {
      "cell_type": "code",
      "metadata": {
        "id": "JtHHwfYpzLTy"
      },
      "source": [
        "def accuracy_multi(inp, targ, threshold=0.5, sigmoid=True):\n",
        "    \"Compute accuracy when `inp` and `targ` are the same size.\"\n",
        "    if sigmoid: inp = inp.sigmoid()\n",
        "    return ((inp > threshold) == targ.bool()).float().mean()"
      ],
      "execution_count": null,
      "outputs": []
    },
    {
      "cell_type": "markdown",
      "metadata": {
        "id": "E-nDd6EOwx8R"
      },
      "source": [
        "- When we create our learner, we have to pass to the metrics argument a function.\n",
        "\n",
        "- If we pass `accuracy_multi` directly as a function, it will use the default value for `threshold` which is 0.5.\n",
        "\n",
        "- We might want to adjust that default and create a new version of `accuracy_multi` that has a different default.\n",
        "\n",
        "- To help with this, there is a Python function called `partial`.\n",
        "\n",
        "- It allows us to bind a function with some arguments, or keyword arguments, making a new version of that function that, whenever it is called, always includes those arguments."
      ]
    },
    {
      "cell_type": "code",
      "metadata": {
        "id": "wb2eZf1gXZ2u",
        "colab": {
          "base_uri": "https://localhost:8080/"
        },
        "outputId": "6271d953-a9e0-48a1-c7a6-cb6c3089e569"
      },
      "source": [
        "def say_hello(name, say_what='Hello'): return f\"{say_what} {name}\"\n",
        "say_hello('Jeremy'), say_hello('Jeremy', 'Ahoy!')"
      ],
      "execution_count": null,
      "outputs": [
        {
          "output_type": "execute_result",
          "data": {
            "text/plain": [
              "('Hello Jeremy', 'Ahoy! Jeremy')"
            ]
          },
          "metadata": {
            "tags": []
          },
          "execution_count": 97
        }
      ]
    },
    {
      "cell_type": "markdown",
      "metadata": {
        "id": "bURgtWxCyUbW"
      },
      "source": [
        "- We can switch to a French version using `partial`"
      ]
    },
    {
      "cell_type": "code",
      "metadata": {
        "id": "KOzubTwnwRtq",
        "colab": {
          "base_uri": "https://localhost:8080/"
        },
        "outputId": "560ab438-73ff-4591-c0fe-6fc6912beed0"
      },
      "source": [
        "f = partial(say_hello, say_what='Bonjour')\n",
        "f('Jeremy'), f('Sylvain')"
      ],
      "execution_count": null,
      "outputs": [
        {
          "output_type": "execute_result",
          "data": {
            "text/plain": [
              "('Bonjour Jeremy', 'Bonjour Sylvain')"
            ]
          },
          "metadata": {
            "tags": []
          },
          "execution_count": 98
        }
      ]
    },
    {
      "cell_type": "markdown",
      "metadata": {
        "id": "QLo-SBv3y2fS"
      },
      "source": [
        "- We can now train our model.\n",
        "\n",
        "- Let's try setting the accuracy threshold to 0.2 for our metric:"
      ]
    },
    {
      "cell_type": "code",
      "metadata": {
        "colab": {
          "base_uri": "https://localhost:8080/",
          "height": 301
        },
        "id": "TuGYwc53yfQ1",
        "outputId": "e894ea39-7a3a-4414-b21b-c15511ab4118"
      },
      "source": [
        "learn = cnn_learner(dls, resnet50, metrics=partial(accuracy_multi, threshold=0.2))\n",
        "learn.fine_tune(3, base_lr=3e-3, freeze_epochs=4)"
      ],
      "execution_count": 101,
      "outputs": [
        {
          "output_type": "display_data",
          "data": {
            "text/html": [
              "<table border=\"1\" class=\"dataframe\">\n",
              "  <thead>\n",
              "    <tr style=\"text-align: left;\">\n",
              "      <th>epoch</th>\n",
              "      <th>train_loss</th>\n",
              "      <th>valid_loss</th>\n",
              "      <th>accuracy_multi</th>\n",
              "      <th>time</th>\n",
              "    </tr>\n",
              "  </thead>\n",
              "  <tbody>\n",
              "    <tr>\n",
              "      <td>0</td>\n",
              "      <td>0.947806</td>\n",
              "      <td>0.694623</td>\n",
              "      <td>0.240359</td>\n",
              "      <td>00:28</td>\n",
              "    </tr>\n",
              "    <tr>\n",
              "      <td>1</td>\n",
              "      <td>0.825072</td>\n",
              "      <td>0.564893</td>\n",
              "      <td>0.284661</td>\n",
              "      <td>00:27</td>\n",
              "    </tr>\n",
              "    <tr>\n",
              "      <td>2</td>\n",
              "      <td>0.603640</td>\n",
              "      <td>0.201840</td>\n",
              "      <td>0.810896</td>\n",
              "      <td>00:28</td>\n",
              "    </tr>\n",
              "    <tr>\n",
              "      <td>3</td>\n",
              "      <td>0.361842</td>\n",
              "      <td>0.125813</td>\n",
              "      <td>0.939880</td>\n",
              "      <td>00:27</td>\n",
              "    </tr>\n",
              "  </tbody>\n",
              "</table>"
            ],
            "text/plain": [
              "<IPython.core.display.HTML object>"
            ]
          },
          "metadata": {
            "tags": []
          }
        },
        {
          "output_type": "display_data",
          "data": {
            "text/html": [
              "<table border=\"1\" class=\"dataframe\">\n",
              "  <thead>\n",
              "    <tr style=\"text-align: left;\">\n",
              "      <th>epoch</th>\n",
              "      <th>train_loss</th>\n",
              "      <th>valid_loss</th>\n",
              "      <th>accuracy_multi</th>\n",
              "      <th>time</th>\n",
              "    </tr>\n",
              "  </thead>\n",
              "  <tbody>\n",
              "    <tr>\n",
              "      <td>0</td>\n",
              "      <td>0.131729</td>\n",
              "      <td>0.117391</td>\n",
              "      <td>0.938586</td>\n",
              "      <td>00:28</td>\n",
              "    </tr>\n",
              "    <tr>\n",
              "      <td>1</td>\n",
              "      <td>0.115234</td>\n",
              "      <td>0.104194</td>\n",
              "      <td>0.951394</td>\n",
              "      <td>00:28</td>\n",
              "    </tr>\n",
              "    <tr>\n",
              "      <td>2</td>\n",
              "      <td>0.096509</td>\n",
              "      <td>0.102367</td>\n",
              "      <td>0.953247</td>\n",
              "      <td>00:28</td>\n",
              "    </tr>\n",
              "  </tbody>\n",
              "</table>"
            ],
            "text/plain": [
              "<IPython.core.display.HTML object>"
            ]
          },
          "metadata": {
            "tags": []
          }
        }
      ]
    },
    {
      "cell_type": "markdown",
      "metadata": {
        "id": "eqz0Te446pw_"
      },
      "source": [
        "- Picking a threshold is important.\n",
        "\n",
        "- If you pick a threshold that's too low, you'll often be failing to select correctly labelled objects.\n",
        "\n",
        "- We can see this by changing our metric, then calling `validate`, which returns the validation loss and metrics:"
      ]
    },
    {
      "cell_type": "code",
      "metadata": {
        "id": "FjQQIFAVz0XE",
        "colab": {
          "base_uri": "https://localhost:8080/",
          "height": 34
        },
        "outputId": "b46aa7e6-e43a-4984-bca4-f5ce505254af"
      },
      "source": [
        "learn.metrics = partial(accuracy_multi, threshold=0.1)\n",
        "learn.validate()"
      ],
      "execution_count": 102,
      "outputs": [
        {
          "output_type": "display_data",
          "data": {
            "text/html": [
              ""
            ],
            "text/plain": [
              "<IPython.core.display.HTML object>"
            ]
          },
          "metadata": {
            "tags": []
          }
        },
        {
          "output_type": "execute_result",
          "data": {
            "text/plain": [
              "(#2) [0.10236704349517822,0.9331871867179871]"
            ]
          },
          "metadata": {
            "tags": []
          },
          "execution_count": 102
        }
      ]
    },
    {
      "cell_type": "markdown",
      "metadata": {
        "id": "nnYmsuYk7Z76"
      },
      "source": [
        "- If you pick a threshold that's too high, you'll often be selecting correctly labelled objects:"
      ]
    },
    {
      "cell_type": "code",
      "metadata": {
        "colab": {
          "base_uri": "https://localhost:8080/",
          "height": 34
        },
        "id": "2gXwmS077Dql",
        "outputId": "e29e1568-8c87-4046-da89-d4969faac036"
      },
      "source": [
        "learn.metrics = partial(accuracy_multi, threshold=0.99)\n",
        "learn.validate()"
      ],
      "execution_count": 103,
      "outputs": [
        {
          "output_type": "display_data",
          "data": {
            "text/html": [
              ""
            ],
            "text/plain": [
              "<IPython.core.display.HTML object>"
            ]
          },
          "metadata": {
            "tags": []
          }
        },
        {
          "output_type": "execute_result",
          "data": {
            "text/plain": [
              "(#2) [0.10236704349517822,0.9449402689933777]"
            ]
          },
          "metadata": {
            "tags": []
          },
          "execution_count": 103
        }
      ]
    },
    {
      "cell_type": "markdown",
      "metadata": {
        "id": "Fzkg4tZS7sP3"
      },
      "source": [
        "- We can find the best threshold by trying a few levels and seeing what works best.\n",
        "\n",
        "- This is much faster if we just grab the predictions once:"
      ]
    },
    {
      "cell_type": "code",
      "metadata": {
        "colab": {
          "base_uri": "https://localhost:8080/",
          "height": 17
        },
        "id": "b2oJM82C7ln5",
        "outputId": "41277dee-69e4-4511-e163-c5f81552be21"
      },
      "source": [
        "preds, targs = learn.get_preds()"
      ],
      "execution_count": 104,
      "outputs": [
        {
          "output_type": "display_data",
          "data": {
            "text/html": [
              ""
            ],
            "text/plain": [
              "<IPython.core.display.HTML object>"
            ]
          },
          "metadata": {
            "tags": []
          }
        }
      ]
    },
    {
      "cell_type": "markdown",
      "metadata": {
        "id": "cVqDzZ6J7_7j"
      },
      "source": [
        "- We can then call the metric directly.\n",
        "\n",
        "- Note that by default `get_preds` applies the output activation function (sigmoid in this case) for us.\n",
        "\n",
        "- We'll need to tell `accuracy_multi` not to apply it:"
      ]
    },
    {
      "cell_type": "code",
      "metadata": {
        "colab": {
          "base_uri": "https://localhost:8080/"
        },
        "id": "481bIuHa75T7",
        "outputId": "f245f4bb-c299-443e-acfa-db91781ee7f2"
      },
      "source": [
        "accuracy_multi(preds, targs, threshold=0.9, sigmoid=False)"
      ],
      "execution_count": 105,
      "outputs": [
        {
          "output_type": "execute_result",
          "data": {
            "text/plain": [
              "TensorMultiCategory(0.9567)"
            ]
          },
          "metadata": {
            "tags": []
          },
          "execution_count": 105
        }
      ]
    },
    {
      "cell_type": "markdown",
      "metadata": {
        "id": "6bUbmg1Z8pTk"
      },
      "source": [
        "- We can now use this approach to find the best threshold level:"
      ]
    },
    {
      "cell_type": "code",
      "metadata": {
        "colab": {
          "base_uri": "https://localhost:8080/",
          "height": 265
        },
        "id": "o5Haxn8v8T-U",
        "outputId": "423477b7-5a9f-4986-b0c2-6d297fb41333"
      },
      "source": [
        "xs = torch.linspace(0.05, 0.95, 29)  # give me 29 numbers between 0.05 & 0.95 inclusive\n",
        "accs = [accuracy_multi(preds, targs, threshold=i, sigmoid=False) for i in xs]\n",
        "plt.plot(xs, accs);"
      ],
      "execution_count": 108,
      "outputs": [
        {
          "output_type": "display_data",
          "data": {
            "image/png": "[encoded data removed]",
            "text/plain": [
              "<Figure size 432x288 with 1 Axes>"
            ]
          },
          "metadata": {
            "tags": [],
            "needs_background": "light"
          }
        }
      ]
    },
    {
      "cell_type": "markdown",
      "metadata": {
        "id": "w8VTCgt69oEb"
      },
      "source": [
        "- In this case, we're using the validation set to pick a hyperparameter (the threshold), which is the purpose of the validation set.\n",
        "\n",
        "- Some students have expressed concern that we might be overfitting to the validation set since we're trying lots of values to see which is the best.\n",
        "\n",
        "- As you can see in the plot, changing the threshold results in a smooth curve, so we're clearly not picking some random outlier.\n",
        "\n",
        "- This is a good example of where you have to be careful of the difference between theory (don't try lots of hyperparameter values or you might overfit the validation set) versus practice (if the relationship is smooth, then it's fine to do this)."
      ]
    }
  ]
}