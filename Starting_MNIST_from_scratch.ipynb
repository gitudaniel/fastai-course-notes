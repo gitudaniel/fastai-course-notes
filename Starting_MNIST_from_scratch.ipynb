{
  "nbformat": 4,
  "nbformat_minor": 0,
  "metadata": {
    "colab": {
      "name": "Starting MNIST from scratch.ipynb",
      "provenance": [],
      "collapsed_sections": [],
      "authorship_tag": "ABX9TyNUm/UVJN4ug2UAh2TmF3xT",
      "include_colab_link": true
    },
    "kernelspec": {
      "display_name": "Python 3",
      "name": "python3"
    },
    "language_info": {
      "name": "python"
    }
  },
  "cells": [
    {
      "cell_type": "markdown",
      "metadata": {
        "id": "view-in-github",
        "colab_type": "text"
      },
      "source": [
        "<a href=\"https://colab.research.google.com/github/gitudaniel/fastai-course-notes/blob/main/Starting_MNIST_from_scratch.ipynb\" target=\"_parent\"><img src=\"https://colab.research.google.com/assets/colab-badge.svg\" alt=\"Open In Colab\"/></a>"
      ]
    },
    {
      "cell_type": "code",
      "metadata": {
        "colab": {
          "base_uri": "https://localhost:8080/"
        },
        "id": "vsYpggNply0A",
        "outputId": "84916afb-e407-4f61-fe1b-ba8913916073"
      },
      "source": [
        "!pip install fastai --upgrade"
      ],
      "execution_count": 1,
      "outputs": [
        {
          "output_type": "stream",
          "text": [
            "Collecting fastai\n",
            "\u001b[?25l  Downloading https://files.pythonhosted.org/packages/bd/ca/bc9f4e04adcdfda1357f5c63bc67a7bf4f315883ca544726f3376b1ed068/fastai-2.4-py3-none-any.whl (187kB)\n",
            "\r\u001b[K     |█▊                              | 10kB 13.4MB/s eta 0:00:01\r\u001b[K     |███▌                            | 20kB 16.0MB/s eta 0:00:01\r\u001b[K     |█████▎                          | 30kB 19.8MB/s eta 0:00:01\r\u001b[K     |███████                         | 40kB 22.8MB/s eta 0:00:01\r\u001b[K     |████████▊                       | 51kB 24.2MB/s eta 0:00:01\r\u001b[K     |██████████▌                     | 61kB 25.9MB/s eta 0:00:01\r\u001b[K     |████████████▏                   | 71kB 26.2MB/s eta 0:00:01\r\u001b[K     |██████████████                  | 81kB 27.2MB/s eta 0:00:01\r\u001b[K     |███████████████▊                | 92kB 25.3MB/s eta 0:00:01\r\u001b[K     |█████████████████▍              | 102kB 25.7MB/s eta 0:00:01\r\u001b[K     |███████████████████▏            | 112kB 25.7MB/s eta 0:00:01\r\u001b[K     |█████████████████████           | 122kB 25.7MB/s eta 0:00:01\r\u001b[K     |██████████████████████▊         | 133kB 25.7MB/s eta 0:00:01\r\u001b[K     |████████████████████████▍       | 143kB 25.7MB/s eta 0:00:01\r\u001b[K     |██████████████████████████▏     | 153kB 25.7MB/s eta 0:00:01\r\u001b[K     |████████████████████████████    | 163kB 25.7MB/s eta 0:00:01\r\u001b[K     |█████████████████████████████▋  | 174kB 25.7MB/s eta 0:00:01\r\u001b[K     |███████████████████████████████▍| 184kB 25.7MB/s eta 0:00:01\r\u001b[K     |████████████████████████████████| 194kB 25.7MB/s \n",
            "\u001b[?25hRequirement already satisfied, skipping upgrade: scikit-learn in /usr/local/lib/python3.7/dist-packages (from fastai) (0.22.2.post1)\n",
            "Requirement already satisfied, skipping upgrade: pyyaml in /usr/local/lib/python3.7/dist-packages (from fastai) (3.13)\n",
            "Requirement already satisfied, skipping upgrade: scipy in /usr/local/lib/python3.7/dist-packages (from fastai) (1.4.1)\n",
            "Requirement already satisfied, skipping upgrade: torch<1.10,>=1.7.0 in /usr/local/lib/python3.7/dist-packages (from fastai) (1.9.0+cu102)\n",
            "Requirement already satisfied, skipping upgrade: pandas in /usr/local/lib/python3.7/dist-packages (from fastai) (1.1.5)\n",
            "Requirement already satisfied, skipping upgrade: packaging in /usr/local/lib/python3.7/dist-packages (from fastai) (20.9)\n",
            "Requirement already satisfied, skipping upgrade: requests in /usr/local/lib/python3.7/dist-packages (from fastai) (2.23.0)\n",
            "Requirement already satisfied, skipping upgrade: fastprogress>=0.2.4 in /usr/local/lib/python3.7/dist-packages (from fastai) (1.0.0)\n",
            "Requirement already satisfied, skipping upgrade: torchvision>=0.8.2 in /usr/local/lib/python3.7/dist-packages (from fastai) (0.10.0+cu102)\n",
            "Requirement already satisfied, skipping upgrade: pip in /usr/local/lib/python3.7/dist-packages (from fastai) (19.3.1)\n",
            "Requirement already satisfied, skipping upgrade: pillow>6.0.0 in /usr/local/lib/python3.7/dist-packages (from fastai) (7.1.2)\n",
            "Requirement already satisfied, skipping upgrade: matplotlib in /usr/local/lib/python3.7/dist-packages (from fastai) (3.2.2)\n",
            "Requirement already satisfied, skipping upgrade: spacy<4 in /usr/local/lib/python3.7/dist-packages (from fastai) (2.2.4)\n",
            "Collecting fastcore<1.4,>=1.3.8\n",
            "\u001b[?25l  Downloading https://files.pythonhosted.org/packages/d8/b0/f1fbf554e0bf3c76e1bdc3b82eedfe41fcf656479586be38c64421082b1b/fastcore-1.3.20-py3-none-any.whl (53kB)\n",
            "\u001b[K     |████████████████████████████████| 61kB 6.9MB/s \n",
            "\u001b[?25hRequirement already satisfied, skipping upgrade: joblib>=0.11 in /usr/local/lib/python3.7/dist-packages (from scikit-learn->fastai) (1.0.1)\n",
            "Requirement already satisfied, skipping upgrade: numpy>=1.11.0 in /usr/local/lib/python3.7/dist-packages (from scikit-learn->fastai) (1.19.5)\n",
            "Requirement already satisfied, skipping upgrade: typing-extensions in /usr/local/lib/python3.7/dist-packages (from torch<1.10,>=1.7.0->fastai) (3.7.4.3)\n",
            "Requirement already satisfied, skipping upgrade: python-dateutil>=2.7.3 in /usr/local/lib/python3.7/dist-packages (from pandas->fastai) (2.8.1)\n",
            "Requirement already satisfied, skipping upgrade: pytz>=2017.2 in /usr/local/lib/python3.7/dist-packages (from pandas->fastai) (2018.9)\n",
            "Requirement already satisfied, skipping upgrade: pyparsing>=2.0.2 in /usr/local/lib/python3.7/dist-packages (from packaging->fastai) (2.4.7)\n",
            "Requirement already satisfied, skipping upgrade: idna<3,>=2.5 in /usr/local/lib/python3.7/dist-packages (from requests->fastai) (2.10)\n",
            "Requirement already satisfied, skipping upgrade: chardet<4,>=3.0.2 in /usr/local/lib/python3.7/dist-packages (from requests->fastai) (3.0.4)\n",
            "Requirement already satisfied, skipping upgrade: certifi>=2017.4.17 in /usr/local/lib/python3.7/dist-packages (from requests->fastai) (2021.5.30)\n",
            "Requirement already satisfied, skipping upgrade: urllib3!=1.25.0,!=1.25.1,<1.26,>=1.21.1 in /usr/local/lib/python3.7/dist-packages (from requests->fastai) (1.24.3)\n",
            "Requirement already satisfied, skipping upgrade: cycler>=0.10 in /usr/local/lib/python3.7/dist-packages (from matplotlib->fastai) (0.10.0)\n",
            "Requirement already satisfied, skipping upgrade: kiwisolver>=1.0.1 in /usr/local/lib/python3.7/dist-packages (from matplotlib->fastai) (1.3.1)\n",
            "Requirement already satisfied, skipping upgrade: wasabi<1.1.0,>=0.4.0 in /usr/local/lib/python3.7/dist-packages (from spacy<4->fastai) (0.8.2)\n",
            "Requirement already satisfied, skipping upgrade: thinc==7.4.0 in /usr/local/lib/python3.7/dist-packages (from spacy<4->fastai) (7.4.0)\n",
            "Requirement already satisfied, skipping upgrade: setuptools in /usr/local/lib/python3.7/dist-packages (from spacy<4->fastai) (57.0.0)\n",
            "Requirement already satisfied, skipping upgrade: plac<1.2.0,>=0.9.6 in /usr/local/lib/python3.7/dist-packages (from spacy<4->fastai) (1.1.3)\n",
            "Requirement already satisfied, skipping upgrade: murmurhash<1.1.0,>=0.28.0 in /usr/local/lib/python3.7/dist-packages (from spacy<4->fastai) (1.0.5)\n",
            "Requirement already satisfied, skipping upgrade: preshed<3.1.0,>=3.0.2 in /usr/local/lib/python3.7/dist-packages (from spacy<4->fastai) (3.0.5)\n",
            "Requirement already satisfied, skipping upgrade: srsly<1.1.0,>=1.0.2 in /usr/local/lib/python3.7/dist-packages (from spacy<4->fastai) (1.0.5)\n",
            "Requirement already satisfied, skipping upgrade: blis<0.5.0,>=0.4.0 in /usr/local/lib/python3.7/dist-packages (from spacy<4->fastai) (0.4.1)\n",
            "Requirement already satisfied, skipping upgrade: catalogue<1.1.0,>=0.0.7 in /usr/local/lib/python3.7/dist-packages (from spacy<4->fastai) (1.0.0)\n",
            "Requirement already satisfied, skipping upgrade: cymem<2.1.0,>=2.0.2 in /usr/local/lib/python3.7/dist-packages (from spacy<4->fastai) (2.0.5)\n",
            "Requirement already satisfied, skipping upgrade: tqdm<5.0.0,>=4.38.0 in /usr/local/lib/python3.7/dist-packages (from spacy<4->fastai) (4.41.1)\n",
            "Requirement already satisfied, skipping upgrade: six>=1.5 in /usr/local/lib/python3.7/dist-packages (from python-dateutil>=2.7.3->pandas->fastai) (1.15.0)\n",
            "Requirement already satisfied, skipping upgrade: importlib-metadata>=0.20; python_version < \"3.8\" in /usr/local/lib/python3.7/dist-packages (from catalogue<1.1.0,>=0.0.7->spacy<4->fastai) (4.5.0)\n",
            "Requirement already satisfied, skipping upgrade: zipp>=0.5 in /usr/local/lib/python3.7/dist-packages (from importlib-metadata>=0.20; python_version < \"3.8\"->catalogue<1.1.0,>=0.0.7->spacy<4->fastai) (3.4.1)\n",
            "Installing collected packages: fastcore, fastai\n",
            "  Found existing installation: fastai 1.0.61\n",
            "    Uninstalling fastai-1.0.61:\n",
            "      Successfully uninstalled fastai-1.0.61\n",
            "Successfully installed fastai-2.4 fastcore-1.3.20\n"
          ],
          "name": "stdout"
        }
      ]
    },
    {
      "cell_type": "code",
      "metadata": {
        "id": "CaWd8L9marXI",
        "colab": {
          "base_uri": "https://localhost:8080/"
        },
        "outputId": "90eb02cf-bfd7-43bc-cd47-c2f5426bc2b4"
      },
      "source": [
        "pip install fastbook"
      ],
      "execution_count": 2,
      "outputs": [
        {
          "output_type": "stream",
          "text": [
            "Collecting fastbook\n",
            "\u001b[?25l  Downloading https://files.pythonhosted.org/packages/f2/ff/66f16fb9ceb45646e59a38ad5eb0f05fbd6524c20d9c4a2c922cdcd2955b/fastbook-0.0.16-py3-none-any.whl (720kB)\n",
            "\u001b[K     |████████████████████████████████| 727kB 28.7MB/s \n",
            "\u001b[?25hRequirement already satisfied: ipywidgets in /usr/local/lib/python3.7/dist-packages (from fastbook) (7.6.3)\n",
            "Collecting nbdev>=0.2.38\n",
            "\u001b[?25l  Downloading https://files.pythonhosted.org/packages/5c/c8/e2fba530b84a770373a106e4828ea83df62104b9694e367d169e07ea484f/nbdev-1.1.14-py3-none-any.whl (46kB)\n",
            "\u001b[K     |████████████████████████████████| 51kB 6.2MB/s \n",
            "\u001b[?25hRequirement already satisfied: pandas in /usr/local/lib/python3.7/dist-packages (from fastbook) (1.1.5)\n",
            "Requirement already satisfied: packaging in /usr/local/lib/python3.7/dist-packages (from fastbook) (20.9)\n",
            "Requirement already satisfied: requests in /usr/local/lib/python3.7/dist-packages (from fastbook) (2.23.0)\n",
            "Requirement already satisfied: pip in /usr/local/lib/python3.7/dist-packages (from fastbook) (19.3.1)\n",
            "Collecting sentencepiece\n",
            "\u001b[?25l  Downloading https://files.pythonhosted.org/packages/ac/aa/1437691b0c7c83086ebb79ce2da16e00bef024f24fec2a5161c35476f499/sentencepiece-0.1.96-cp37-cp37m-manylinux_2_17_x86_64.manylinux2014_x86_64.whl (1.2MB)\n",
            "\u001b[K     |████████████████████████████████| 1.2MB 45.8MB/s \n",
            "\u001b[?25hRequirement already satisfied: fastai>=2.1 in /usr/local/lib/python3.7/dist-packages (from fastbook) (2.4)\n",
            "Requirement already satisfied: ipython>=4.0.0; python_version >= \"3.3\" in /usr/local/lib/python3.7/dist-packages (from ipywidgets->fastbook) (5.5.0)\n",
            "Requirement already satisfied: widgetsnbextension~=3.5.0 in /usr/local/lib/python3.7/dist-packages (from ipywidgets->fastbook) (3.5.1)\n",
            "Requirement already satisfied: nbformat>=4.2.0 in /usr/local/lib/python3.7/dist-packages (from ipywidgets->fastbook) (5.1.3)\n",
            "Requirement already satisfied: traitlets>=4.3.1 in /usr/local/lib/python3.7/dist-packages (from ipywidgets->fastbook) (5.0.5)\n",
            "Requirement already satisfied: ipykernel>=4.5.1 in /usr/local/lib/python3.7/dist-packages (from ipywidgets->fastbook) (4.10.1)\n",
            "Requirement already satisfied: jupyterlab-widgets>=1.0.0; python_version >= \"3.6\" in /usr/local/lib/python3.7/dist-packages (from ipywidgets->fastbook) (1.0.0)\n",
            "Collecting fastrelease\n",
            "  Downloading https://files.pythonhosted.org/packages/8f/66/685d5cbd0534395a209ad04afb1573f03467ef3b430b8ee1fec24c332d0c/fastrelease-0.1.11-py3-none-any.whl\n",
            "Requirement already satisfied: jupyter-client<=6.1.12 in /usr/local/lib/python3.7/dist-packages (from nbdev>=0.2.38->fastbook) (5.3.5)\n",
            "Requirement already satisfied: nbconvert<6 in /usr/local/lib/python3.7/dist-packages (from nbdev>=0.2.38->fastbook) (5.6.1)\n",
            "Requirement already satisfied: fastcore>=1.3.19 in /usr/local/lib/python3.7/dist-packages (from nbdev>=0.2.38->fastbook) (1.3.20)\n",
            "Requirement already satisfied: pyyaml in /usr/local/lib/python3.7/dist-packages (from nbdev>=0.2.38->fastbook) (3.13)\n",
            "Collecting ghapi\n",
            "\u001b[?25l  Downloading https://files.pythonhosted.org/packages/08/cf/9aef37ef04f5aa8df5396750cb531cbfdc8a362d958fcad34dd4c22aa2c1/ghapi-0.1.17-py3-none-any.whl (51kB)\n",
            "\u001b[K     |████████████████████████████████| 61kB 7.1MB/s \n",
            "\u001b[?25hRequirement already satisfied: jupyter in /usr/local/lib/python3.7/dist-packages (from nbdev>=0.2.38->fastbook) (1.0.0)\n",
            "Requirement already satisfied: numpy>=1.15.4 in /usr/local/lib/python3.7/dist-packages (from pandas->fastbook) (1.19.5)\n",
            "Requirement already satisfied: pytz>=2017.2 in /usr/local/lib/python3.7/dist-packages (from pandas->fastbook) (2018.9)\n",
            "Requirement already satisfied: python-dateutil>=2.7.3 in /usr/local/lib/python3.7/dist-packages (from pandas->fastbook) (2.8.1)\n",
            "Requirement already satisfied: pyparsing>=2.0.2 in /usr/local/lib/python3.7/dist-packages (from packaging->fastbook) (2.4.7)\n",
            "Requirement already satisfied: chardet<4,>=3.0.2 in /usr/local/lib/python3.7/dist-packages (from requests->fastbook) (3.0.4)\n",
            "Requirement already satisfied: certifi>=2017.4.17 in /usr/local/lib/python3.7/dist-packages (from requests->fastbook) (2021.5.30)\n",
            "Requirement already satisfied: urllib3!=1.25.0,!=1.25.1,<1.26,>=1.21.1 in /usr/local/lib/python3.7/dist-packages (from requests->fastbook) (1.24.3)\n",
            "Requirement already satisfied: idna<3,>=2.5 in /usr/local/lib/python3.7/dist-packages (from requests->fastbook) (2.10)\n",
            "Requirement already satisfied: matplotlib in /usr/local/lib/python3.7/dist-packages (from fastai>=2.1->fastbook) (3.2.2)\n",
            "Requirement already satisfied: torch<1.10,>=1.7.0 in /usr/local/lib/python3.7/dist-packages (from fastai>=2.1->fastbook) (1.9.0+cu102)\n",
            "Requirement already satisfied: scikit-learn in /usr/local/lib/python3.7/dist-packages (from fastai>=2.1->fastbook) (0.22.2.post1)\n",
            "Requirement already satisfied: scipy in /usr/local/lib/python3.7/dist-packages (from fastai>=2.1->fastbook) (1.4.1)\n",
            "Requirement already satisfied: fastprogress>=0.2.4 in /usr/local/lib/python3.7/dist-packages (from fastai>=2.1->fastbook) (1.0.0)\n",
            "Requirement already satisfied: pillow>6.0.0 in /usr/local/lib/python3.7/dist-packages (from fastai>=2.1->fastbook) (7.1.2)\n",
            "Requirement already satisfied: spacy<4 in /usr/local/lib/python3.7/dist-packages (from fastai>=2.1->fastbook) (2.2.4)\n",
            "Requirement already satisfied: torchvision>=0.8.2 in /usr/local/lib/python3.7/dist-packages (from fastai>=2.1->fastbook) (0.10.0+cu102)\n",
            "Requirement already satisfied: prompt-toolkit<2.0.0,>=1.0.4 in /usr/local/lib/python3.7/dist-packages (from ipython>=4.0.0; python_version >= \"3.3\"->ipywidgets->fastbook) (1.0.18)\n",
            "Requirement already satisfied: pickleshare in /usr/local/lib/python3.7/dist-packages (from ipython>=4.0.0; python_version >= \"3.3\"->ipywidgets->fastbook) (0.7.5)\n",
            "Requirement already satisfied: setuptools>=18.5 in /usr/local/lib/python3.7/dist-packages (from ipython>=4.0.0; python_version >= \"3.3\"->ipywidgets->fastbook) (57.0.0)\n",
            "Requirement already satisfied: simplegeneric>0.8 in /usr/local/lib/python3.7/dist-packages (from ipython>=4.0.0; python_version >= \"3.3\"->ipywidgets->fastbook) (0.8.1)\n",
            "Requirement already satisfied: pygments in /usr/local/lib/python3.7/dist-packages (from ipython>=4.0.0; python_version >= \"3.3\"->ipywidgets->fastbook) (2.6.1)\n",
            "Requirement already satisfied: pexpect; sys_platform != \"win32\" in /usr/local/lib/python3.7/dist-packages (from ipython>=4.0.0; python_version >= \"3.3\"->ipywidgets->fastbook) (4.8.0)\n",
            "Requirement already satisfied: decorator in /usr/local/lib/python3.7/dist-packages (from ipython>=4.0.0; python_version >= \"3.3\"->ipywidgets->fastbook) (4.4.2)\n",
            "Requirement already satisfied: notebook>=4.4.1 in /usr/local/lib/python3.7/dist-packages (from widgetsnbextension~=3.5.0->ipywidgets->fastbook) (5.3.1)\n",
            "Requirement already satisfied: jupyter-core in /usr/local/lib/python3.7/dist-packages (from nbformat>=4.2.0->ipywidgets->fastbook) (4.7.1)\n",
            "Requirement already satisfied: ipython-genutils in /usr/local/lib/python3.7/dist-packages (from nbformat>=4.2.0->ipywidgets->fastbook) (0.2.0)\n",
            "Requirement already satisfied: jsonschema!=2.5.0,>=2.4 in /usr/local/lib/python3.7/dist-packages (from nbformat>=4.2.0->ipywidgets->fastbook) (2.6.0)\n",
            "Requirement already satisfied: tornado>=4.0 in /usr/local/lib/python3.7/dist-packages (from ipykernel>=4.5.1->ipywidgets->fastbook) (5.1.1)\n",
            "Requirement already satisfied: pyzmq>=13 in /usr/local/lib/python3.7/dist-packages (from jupyter-client<=6.1.12->nbdev>=0.2.38->fastbook) (22.1.0)\n",
            "Requirement already satisfied: entrypoints>=0.2.2 in /usr/local/lib/python3.7/dist-packages (from nbconvert<6->nbdev>=0.2.38->fastbook) (0.3)\n",
            "Requirement already satisfied: defusedxml in /usr/local/lib/python3.7/dist-packages (from nbconvert<6->nbdev>=0.2.38->fastbook) (0.7.1)\n",
            "Requirement already satisfied: bleach in /usr/local/lib/python3.7/dist-packages (from nbconvert<6->nbdev>=0.2.38->fastbook) (3.3.0)\n",
            "Requirement already satisfied: pandocfilters>=1.4.1 in /usr/local/lib/python3.7/dist-packages (from nbconvert<6->nbdev>=0.2.38->fastbook) (1.4.3)\n",
            "Requirement already satisfied: testpath in /usr/local/lib/python3.7/dist-packages (from nbconvert<6->nbdev>=0.2.38->fastbook) (0.5.0)\n",
            "Requirement already satisfied: mistune<2,>=0.8.1 in /usr/local/lib/python3.7/dist-packages (from nbconvert<6->nbdev>=0.2.38->fastbook) (0.8.4)\n",
            "Requirement already satisfied: jinja2>=2.4 in /usr/local/lib/python3.7/dist-packages (from nbconvert<6->nbdev>=0.2.38->fastbook) (2.11.3)\n",
            "Requirement already satisfied: jupyter-console in /usr/local/lib/python3.7/dist-packages (from jupyter->nbdev>=0.2.38->fastbook) (5.2.0)\n",
            "Requirement already satisfied: qtconsole in /usr/local/lib/python3.7/dist-packages (from jupyter->nbdev>=0.2.38->fastbook) (5.1.0)\n",
            "Requirement already satisfied: six>=1.5 in /usr/local/lib/python3.7/dist-packages (from python-dateutil>=2.7.3->pandas->fastbook) (1.15.0)\n",
            "Requirement already satisfied: cycler>=0.10 in /usr/local/lib/python3.7/dist-packages (from matplotlib->fastai>=2.1->fastbook) (0.10.0)\n",
            "Requirement already satisfied: kiwisolver>=1.0.1 in /usr/local/lib/python3.7/dist-packages (from matplotlib->fastai>=2.1->fastbook) (1.3.1)\n",
            "Requirement already satisfied: typing-extensions in /usr/local/lib/python3.7/dist-packages (from torch<1.10,>=1.7.0->fastai>=2.1->fastbook) (3.7.4.3)\n",
            "Requirement already satisfied: joblib>=0.11 in /usr/local/lib/python3.7/dist-packages (from scikit-learn->fastai>=2.1->fastbook) (1.0.1)\n",
            "Requirement already satisfied: srsly<1.1.0,>=1.0.2 in /usr/local/lib/python3.7/dist-packages (from spacy<4->fastai>=2.1->fastbook) (1.0.5)\n",
            "Requirement already satisfied: tqdm<5.0.0,>=4.38.0 in /usr/local/lib/python3.7/dist-packages (from spacy<4->fastai>=2.1->fastbook) (4.41.1)\n",
            "Requirement already satisfied: blis<0.5.0,>=0.4.0 in /usr/local/lib/python3.7/dist-packages (from spacy<4->fastai>=2.1->fastbook) (0.4.1)\n",
            "Requirement already satisfied: catalogue<1.1.0,>=0.0.7 in /usr/local/lib/python3.7/dist-packages (from spacy<4->fastai>=2.1->fastbook) (1.0.0)\n",
            "Requirement already satisfied: wasabi<1.1.0,>=0.4.0 in /usr/local/lib/python3.7/dist-packages (from spacy<4->fastai>=2.1->fastbook) (0.8.2)\n",
            "Requirement already satisfied: cymem<2.1.0,>=2.0.2 in /usr/local/lib/python3.7/dist-packages (from spacy<4->fastai>=2.1->fastbook) (2.0.5)\n",
            "Requirement already satisfied: thinc==7.4.0 in /usr/local/lib/python3.7/dist-packages (from spacy<4->fastai>=2.1->fastbook) (7.4.0)\n",
            "Requirement already satisfied: murmurhash<1.1.0,>=0.28.0 in /usr/local/lib/python3.7/dist-packages (from spacy<4->fastai>=2.1->fastbook) (1.0.5)\n",
            "Requirement already satisfied: plac<1.2.0,>=0.9.6 in /usr/local/lib/python3.7/dist-packages (from spacy<4->fastai>=2.1->fastbook) (1.1.3)\n",
            "Requirement already satisfied: preshed<3.1.0,>=3.0.2 in /usr/local/lib/python3.7/dist-packages (from spacy<4->fastai>=2.1->fastbook) (3.0.5)\n",
            "Requirement already satisfied: wcwidth in /usr/local/lib/python3.7/dist-packages (from prompt-toolkit<2.0.0,>=1.0.4->ipython>=4.0.0; python_version >= \"3.3\"->ipywidgets->fastbook) (0.2.5)\n",
            "Requirement already satisfied: ptyprocess>=0.5 in /usr/local/lib/python3.7/dist-packages (from pexpect; sys_platform != \"win32\"->ipython>=4.0.0; python_version >= \"3.3\"->ipywidgets->fastbook) (0.7.0)\n",
            "Requirement already satisfied: Send2Trash in /usr/local/lib/python3.7/dist-packages (from notebook>=4.4.1->widgetsnbextension~=3.5.0->ipywidgets->fastbook) (1.5.0)\n",
            "Requirement already satisfied: terminado>=0.8.1 in /usr/local/lib/python3.7/dist-packages (from notebook>=4.4.1->widgetsnbextension~=3.5.0->ipywidgets->fastbook) (0.10.1)\n",
            "Requirement already satisfied: webencodings in /usr/local/lib/python3.7/dist-packages (from bleach->nbconvert<6->nbdev>=0.2.38->fastbook) (0.5.1)\n",
            "Requirement already satisfied: MarkupSafe>=0.23 in /usr/local/lib/python3.7/dist-packages (from jinja2>=2.4->nbconvert<6->nbdev>=0.2.38->fastbook) (2.0.1)\n",
            "Requirement already satisfied: qtpy in /usr/local/lib/python3.7/dist-packages (from qtconsole->jupyter->nbdev>=0.2.38->fastbook) (1.9.0)\n",
            "Requirement already satisfied: importlib-metadata>=0.20; python_version < \"3.8\" in /usr/local/lib/python3.7/dist-packages (from catalogue<1.1.0,>=0.0.7->spacy<4->fastai>=2.1->fastbook) (4.5.0)\n",
            "Requirement already satisfied: zipp>=0.5 in /usr/local/lib/python3.7/dist-packages (from importlib-metadata>=0.20; python_version < \"3.8\"->catalogue<1.1.0,>=0.0.7->spacy<4->fastai>=2.1->fastbook) (3.4.1)\n",
            "Installing collected packages: ghapi, fastrelease, nbdev, sentencepiece, fastbook\n",
            "Successfully installed fastbook-0.0.16 fastrelease-0.1.11 ghapi-0.1.17 nbdev-1.1.14 sentencepiece-0.1.96\n"
          ],
          "name": "stdout"
        }
      ]
    },
    {
      "cell_type": "code",
      "metadata": {
        "id": "b710nOaXatpu"
      },
      "source": [
        "# import fastbook\n",
        "# fastbook.setup_book()"
      ],
      "execution_count": 3,
      "outputs": []
    },
    {
      "cell_type": "code",
      "metadata": {
        "id": "-KS_IIlBa1eW"
      },
      "source": [
        "from fastbook import *"
      ],
      "execution_count": 4,
      "outputs": []
    },
    {
      "cell_type": "code",
      "metadata": {
        "id": "UXimfQGnm_Sb",
        "colab": {
          "base_uri": "https://localhost:8080/"
        },
        "outputId": "95ae5ffb-e284-4699-de9b-f688fdc9e1af"
      },
      "source": [
        "import fastai\n",
        "print(fastai.__version__)"
      ],
      "execution_count": 5,
      "outputs": [
        {
          "output_type": "stream",
          "text": [
            "2.4\n"
          ],
          "name": "stdout"
        }
      ]
    },
    {
      "cell_type": "code",
      "metadata": {
        "id": "rKX13y3TlSK7"
      },
      "source": [
        "from fastai.vision.all import *\n",
        "#from utils import *\n",
        "\n",
        "matplotlib.rc('image', cmap='Greys')"
      ],
      "execution_count": 6,
      "outputs": []
    },
    {
      "cell_type": "markdown",
      "metadata": {
        "id": "OO738Uc7ppb0"
      },
      "source": [
        "- We're going to start simple and gradually scale up.\n",
        "\n",
        "- Fastai has a simpler version of MNIST with only 3's and 7's"
      ]
    },
    {
      "cell_type": "code",
      "metadata": {
        "id": "f5HN5DDGlqfr",
        "colab": {
          "base_uri": "https://localhost:8080/",
          "height": 17
        },
        "outputId": "899c59d6-fcb2-43b6-d282-366ace17d6da"
      },
      "source": [
        "path = untar_data(URLs.MNIST_SAMPLE)"
      ],
      "execution_count": 7,
      "outputs": [
        {
          "output_type": "display_data",
          "data": {
            "text/html": [
              ""
            ],
            "text/plain": [
              "<IPython.core.display.HTML object>"
            ]
          },
          "metadata": {
            "tags": []
          }
        }
      ]
    },
    {
      "cell_type": "code",
      "metadata": {
        "id": "cMG4GCLkp3a0"
      },
      "source": [
        "Path.BASE_PATH = path"
      ],
      "execution_count": 8,
      "outputs": []
    },
    {
      "cell_type": "code",
      "metadata": {
        "id": "9p3gicwuqJ-k",
        "colab": {
          "base_uri": "https://localhost:8080/"
        },
        "outputId": "63c747d7-d5e1-4897-d939-0f2c9866fda4"
      },
      "source": [
        "path.ls()"
      ],
      "execution_count": 9,
      "outputs": [
        {
          "output_type": "execute_result",
          "data": {
            "text/plain": [
              "(#3) [Path('labels.csv'),Path('train'),Path('valid')]"
            ]
          },
          "metadata": {
            "tags": []
          },
          "execution_count": 9
        }
      ]
    },
    {
      "cell_type": "markdown",
      "metadata": {
        "id": "Zi372YWXqYtd"
      },
      "source": [
        "- `path.ls()` prints a count of items and a list of files relative to where our MNIST_SAMPLE was untarred.\n",
        "\n",
        "- `path` is a `pathlib` path object. \n",
        "\n",
        "- `Pathlib` is part of the standard library but `ls` is not an inbuild method but a method added by the creators of fastai to make it easier."
      ]
    },
    {
      "cell_type": "code",
      "metadata": {
        "id": "Wj-b-U-PqOkn"
      },
      "source": [
        "# show what ls is\n",
        "path.ls?"
      ],
      "execution_count": 10,
      "outputs": []
    },
    {
      "cell_type": "code",
      "metadata": {
        "id": "zRCTbNfZrFlo"
      },
      "source": [
        "# Show what ls does\n",
        "path.ls??"
      ],
      "execution_count": 11,
      "outputs": []
    },
    {
      "cell_type": "code",
      "metadata": {
        "id": "bec5du5RrIp9",
        "colab": {
          "base_uri": "https://localhost:8080/",
          "height": 145
        },
        "outputId": "14287487-4d8b-4a54-cfd5-7cebbd9be539"
      },
      "source": [
        "# show the documentation\n",
        "doc(path.ls)"
      ],
      "execution_count": 12,
      "outputs": [
        {
          "output_type": "display_data",
          "data": {
            "text/html": [
              "<h4 id=\"Path.ls\" class=\"doc_header\"><code>Path.ls</code><a href=\"https://github.com/fastai/fastcore/tree/master/fastcore/xtras.py#L227\" class=\"source_link\" style=\"float:right\">[source]</a></h4><blockquote><p><code>Path.ls</code>(<strong><code>n_max</code></strong>=<em><code>None</code></em>, <strong><code>file_type</code></strong>=<em><code>None</code></em>, <strong><code>file_exts</code></strong>=<em><code>None</code></em>)</p>\n",
              "</blockquote>\n",
              "<p>Contents of path as a list</p>\n",
              "<p><a href=\"https://fastcore.fast.ai/xtras#Path.ls\" target=\"_blank\" rel=\"noreferrer noopener\">Show in docs</a></p>\n"
            ],
            "text/plain": [
              "<IPython.core.display.HTML object>"
            ]
          },
          "metadata": {
            "tags": []
          }
        }
      ]
    },
    {
      "cell_type": "code",
      "metadata": {
        "id": "_1CQa_CMrVcn",
        "colab": {
          "base_uri": "https://localhost:8080/"
        },
        "outputId": "5866bec8-1f0f-4d28-9b73-750ebeb41440"
      },
      "source": [
        "(path/'train').ls()"
      ],
      "execution_count": 13,
      "outputs": [
        {
          "output_type": "execute_result",
          "data": {
            "text/plain": [
              "(#2) [Path('train/3'),Path('train/7')]"
            ]
          },
          "metadata": {
            "tags": []
          },
          "execution_count": 13
        }
      ]
    },
    {
      "cell_type": "markdown",
      "metadata": {
        "id": "Appc-5YErnQ1"
      },
      "source": [
        "- We see that the data in our train folder is labelled as \"3\" or \"7\""
      ]
    },
    {
      "cell_type": "code",
      "metadata": {
        "id": "Q3I00T2ErdE3",
        "colab": {
          "base_uri": "https://localhost:8080/"
        },
        "outputId": "41ee4703-fba3-42bb-a675-83818e4589ab"
      },
      "source": [
        "# sorted() ensures we get the same order of files\n",
        "threes = (path/'train'/'3').ls().sorted()\n",
        "sevens = (path/'train'/'7').ls().sorted()\n",
        "\n",
        "threes"
      ],
      "execution_count": 14,
      "outputs": [
        {
          "output_type": "execute_result",
          "data": {
            "text/plain": [
              "(#6131) [Path('train/3/10.png'),Path('train/3/10000.png'),Path('train/3/10011.png'),Path('train/3/10031.png'),Path('train/3/10034.png'),Path('train/3/10042.png'),Path('train/3/10052.png'),Path('train/3/1007.png'),Path('train/3/10074.png'),Path('train/3/10091.png')...]"
            ]
          },
          "metadata": {
            "tags": []
          },
          "execution_count": 14
        }
      ]
    },
    {
      "cell_type": "code",
      "metadata": {
        "id": "gFOE40P2r4kE",
        "colab": {
          "base_uri": "https://localhost:8080/",
          "height": 45
        },
        "outputId": "0dd7e08d-6c35-491f-d0e1-e2d63156d30a"
      },
      "source": [
        "im3_path = threes[1]\n",
        "im3 = Image.open(im3_path)\n",
        "im3"
      ],
      "execution_count": 15,
      "outputs": [
        {
          "output_type": "execute_result",
          "data": {
            "image/png": "[encoded data removed]",
            "text/plain": [
              "<PIL.PngImagePlugin.PngImageFile image mode=L size=28x28 at 0x7F5FA95FFB90>"
            ]
          },
          "metadata": {
            "tags": []
          },
          "execution_count": 15
        }
      ]
    },
    {
      "cell_type": "code",
      "metadata": {
        "id": "JPjJVDP8sZCe",
        "colab": {
          "base_uri": "https://localhost:8080/"
        },
        "outputId": "6510901e-c8bf-4284-e3cd-5637f12aaa79"
      },
      "source": [
        "type(im3)"
      ],
      "execution_count": 16,
      "outputs": [
        {
          "output_type": "execute_result",
          "data": {
            "text/plain": [
              "PIL.PngImagePlugin.PngImageFile"
            ]
          },
          "metadata": {
            "tags": []
          },
          "execution_count": 16
        }
      ]
    },
    {
      "cell_type": "markdown",
      "metadata": {
        "id": "JMkGmJDNse7E"
      },
      "source": [
        "- PIL is the Python Imaging library; the most popular library for working with images on Python by far.\n",
        "\n",
        "- Our image is a Png file"
      ]
    },
    {
      "cell_type": "markdown",
      "metadata": {
        "id": "jNKGHaHstDvr"
      },
      "source": [
        "- To view the numbers that make up this image, we have to convert it into a *Numpy array* or a *PyTorch tensor*.\n",
        "\n",
        "- A tensor is a PyTorch version of a Numpy array.\n",
        "\n",
        "- A PyTorch tensor and a Numpy array behave nearly identically much if not most of the time.\n",
        "\n",
        "- The key difference is that a PyTorch tensor can also be computed on a GPU and not just a CPU."
      ]
    },
    {
      "cell_type": "code",
      "metadata": {
        "id": "Kr8RYE1qs5cA",
        "colab": {
          "base_uri": "https://localhost:8080/"
        },
        "outputId": "916354af-f532-4e8f-b66f-26562f54c38b"
      },
      "source": [
        "# Numbers from the top-left of the image as a Numpy array\n",
        "# get 6 rows and 6 columns\n",
        "array(im3)[4:10,4:10]"
      ],
      "execution_count": 17,
      "outputs": [
        {
          "output_type": "execute_result",
          "data": {
            "text/plain": [
              "array([[  0,   0,   0,   0,   0,   0],\n",
              "       [  0,   0,   0,   0,   0,  29],\n",
              "       [  0,   0,   0,  48, 166, 224],\n",
              "       [  0,  93, 244, 249, 253, 187],\n",
              "       [  0, 107, 253, 253, 230,  48],\n",
              "       [  0,   3,  20,  20,  15,   0]], dtype=uint8)"
            ]
          },
          "metadata": {
            "tags": []
          },
          "execution_count": 17
        }
      ]
    },
    {
      "cell_type": "code",
      "metadata": {
        "id": "6tQ_EF-PtYzv",
        "colab": {
          "base_uri": "https://localhost:8080/"
        },
        "outputId": "5ad2f4b1-d77a-43cd-ba4d-019a01552fd7"
      },
      "source": [
        "# Numbers from the top-left of the image as a PyTorch tensor\n",
        "tensor(im3)[4:10,4:10]"
      ],
      "execution_count": 18,
      "outputs": [
        {
          "output_type": "execute_result",
          "data": {
            "text/plain": [
              "tensor([[  0,   0,   0,   0,   0,   0],\n",
              "        [  0,   0,   0,   0,   0,  29],\n",
              "        [  0,   0,   0,  48, 166, 224],\n",
              "        [  0,  93, 244, 249, 253, 187],\n",
              "        [  0, 107, 253, 253, 230,  48],\n",
              "        [  0,   3,  20,  20,  15,   0]], dtype=torch.uint8)"
            ]
          },
          "metadata": {
            "tags": []
          },
          "execution_count": 18
        }
      ]
    },
    {
      "cell_type": "markdown",
      "metadata": {
        "id": "ZOb1V4wTutXo"
      },
      "source": [
        "- We can slice the array to pick just the part with the top part of the digit in it, and use a Pandas DataFrame to color-code the values using a gradient.\n",
        "\n",
        "- This shows us clearly how the image is created from the pixel values."
      ]
    },
    {
      "cell_type": "code",
      "metadata": {
        "id": "G24vl0POtzaq",
        "colab": {
          "base_uri": "https://localhost:8080/",
          "height": 275
        },
        "outputId": "78dbd98b-ef65-4acf-d452-5da5da663aa5"
      },
      "source": [
        "im3_t = tensor(im3)\n",
        "df = pd.DataFrame(im3_t[4:15,4:22])\n",
        "df.style.set_properties(**{'font-size':'6pt'}).background_gradient('Greys')"
      ],
      "execution_count": 19,
      "outputs": [
        {
          "output_type": "execute_result",
          "data": {
            "text/html": [
              "<style  type=\"text/css\" >\n",
              "#T_ab0ab0c8_dadb_11eb_8bc0_0242ac1c0002row0_col0,#T_ab0ab0c8_dadb_11eb_8bc0_0242ac1c0002row0_col1,#T_ab0ab0c8_dadb_11eb_8bc0_0242ac1c0002row0_col2,#T_ab0ab0c8_dadb_11eb_8bc0_0242ac1c0002row0_col3,#T_ab0ab0c8_dadb_11eb_8bc0_0242ac1c0002row0_col4,#T_ab0ab0c8_dadb_11eb_8bc0_0242ac1c0002row0_col5,#T_ab0ab0c8_dadb_11eb_8bc0_0242ac1c0002row0_col6,#T_ab0ab0c8_dadb_11eb_8bc0_0242ac1c0002row0_col7,#T_ab0ab0c8_dadb_11eb_8bc0_0242ac1c0002row0_col8,#T_ab0ab0c8_dadb_11eb_8bc0_0242ac1c0002row0_col9,#T_ab0ab0c8_dadb_11eb_8bc0_0242ac1c0002row0_col10,#T_ab0ab0c8_dadb_11eb_8bc0_0242ac1c0002row0_col11,#T_ab0ab0c8_dadb_11eb_8bc0_0242ac1c0002row0_col12,#T_ab0ab0c8_dadb_11eb_8bc0_0242ac1c0002row0_col13,#T_ab0ab0c8_dadb_11eb_8bc0_0242ac1c0002row0_col14,#T_ab0ab0c8_dadb_11eb_8bc0_0242ac1c0002row0_col15,#T_ab0ab0c8_dadb_11eb_8bc0_0242ac1c0002row0_col16,#T_ab0ab0c8_dadb_11eb_8bc0_0242ac1c0002row0_col17,#T_ab0ab0c8_dadb_11eb_8bc0_0242ac1c0002row1_col0,#T_ab0ab0c8_dadb_11eb_8bc0_0242ac1c0002row1_col1,#T_ab0ab0c8_dadb_11eb_8bc0_0242ac1c0002row1_col2,#T_ab0ab0c8_dadb_11eb_8bc0_0242ac1c0002row1_col3,#T_ab0ab0c8_dadb_11eb_8bc0_0242ac1c0002row1_col4,#T_ab0ab0c8_dadb_11eb_8bc0_0242ac1c0002row1_col15,#T_ab0ab0c8_dadb_11eb_8bc0_0242ac1c0002row1_col16,#T_ab0ab0c8_dadb_11eb_8bc0_0242ac1c0002row1_col17,#T_ab0ab0c8_dadb_11eb_8bc0_0242ac1c0002row2_col0,#T_ab0ab0c8_dadb_11eb_8bc0_0242ac1c0002row2_col1,#T_ab0ab0c8_dadb_11eb_8bc0_0242ac1c0002row2_col2,#T_ab0ab0c8_dadb_11eb_8bc0_0242ac1c0002row2_col15,#T_ab0ab0c8_dadb_11eb_8bc0_0242ac1c0002row2_col16,#T_ab0ab0c8_dadb_11eb_8bc0_0242ac1c0002row2_col17,#T_ab0ab0c8_dadb_11eb_8bc0_0242ac1c0002row3_col0,#T_ab0ab0c8_dadb_11eb_8bc0_0242ac1c0002row3_col15,#T_ab0ab0c8_dadb_11eb_8bc0_0242ac1c0002row3_col16,#T_ab0ab0c8_dadb_11eb_8bc0_0242ac1c0002row3_col17,#T_ab0ab0c8_dadb_11eb_8bc0_0242ac1c0002row4_col0,#T_ab0ab0c8_dadb_11eb_8bc0_0242ac1c0002row4_col6,#T_ab0ab0c8_dadb_11eb_8bc0_0242ac1c0002row4_col7,#T_ab0ab0c8_dadb_11eb_8bc0_0242ac1c0002row4_col8,#T_ab0ab0c8_dadb_11eb_8bc0_0242ac1c0002row4_col9,#T_ab0ab0c8_dadb_11eb_8bc0_0242ac1c0002row4_col10,#T_ab0ab0c8_dadb_11eb_8bc0_0242ac1c0002row4_col15,#T_ab0ab0c8_dadb_11eb_8bc0_0242ac1c0002row4_col16,#T_ab0ab0c8_dadb_11eb_8bc0_0242ac1c0002row4_col17,#T_ab0ab0c8_dadb_11eb_8bc0_0242ac1c0002row5_col0,#T_ab0ab0c8_dadb_11eb_8bc0_0242ac1c0002row5_col5,#T_ab0ab0c8_dadb_11eb_8bc0_0242ac1c0002row5_col6,#T_ab0ab0c8_dadb_11eb_8bc0_0242ac1c0002row5_col7,#T_ab0ab0c8_dadb_11eb_8bc0_0242ac1c0002row5_col8,#T_ab0ab0c8_dadb_11eb_8bc0_0242ac1c0002row5_col9,#T_ab0ab0c8_dadb_11eb_8bc0_0242ac1c0002row5_col15,#T_ab0ab0c8_dadb_11eb_8bc0_0242ac1c0002row5_col16,#T_ab0ab0c8_dadb_11eb_8bc0_0242ac1c0002row5_col17,#T_ab0ab0c8_dadb_11eb_8bc0_0242ac1c0002row6_col0,#T_ab0ab0c8_dadb_11eb_8bc0_0242ac1c0002row6_col1,#T_ab0ab0c8_dadb_11eb_8bc0_0242ac1c0002row6_col2,#T_ab0ab0c8_dadb_11eb_8bc0_0242ac1c0002row6_col3,#T_ab0ab0c8_dadb_11eb_8bc0_0242ac1c0002row6_col4,#T_ab0ab0c8_dadb_11eb_8bc0_0242ac1c0002row6_col5,#T_ab0ab0c8_dadb_11eb_8bc0_0242ac1c0002row6_col6,#T_ab0ab0c8_dadb_11eb_8bc0_0242ac1c0002row6_col7,#T_ab0ab0c8_dadb_11eb_8bc0_0242ac1c0002row6_col8,#T_ab0ab0c8_dadb_11eb_8bc0_0242ac1c0002row6_col9,#T_ab0ab0c8_dadb_11eb_8bc0_0242ac1c0002row6_col14,#T_ab0ab0c8_dadb_11eb_8bc0_0242ac1c0002row6_col15,#T_ab0ab0c8_dadb_11eb_8bc0_0242ac1c0002row6_col16,#T_ab0ab0c8_dadb_11eb_8bc0_0242ac1c0002row6_col17,#T_ab0ab0c8_dadb_11eb_8bc0_0242ac1c0002row7_col0,#T_ab0ab0c8_dadb_11eb_8bc0_0242ac1c0002row7_col1,#T_ab0ab0c8_dadb_11eb_8bc0_0242ac1c0002row7_col2,#T_ab0ab0c8_dadb_11eb_8bc0_0242ac1c0002row7_col3,#T_ab0ab0c8_dadb_11eb_8bc0_0242ac1c0002row7_col4,#T_ab0ab0c8_dadb_11eb_8bc0_0242ac1c0002row7_col5,#T_ab0ab0c8_dadb_11eb_8bc0_0242ac1c0002row7_col6,#T_ab0ab0c8_dadb_11eb_8bc0_0242ac1c0002row7_col13,#T_ab0ab0c8_dadb_11eb_8bc0_0242ac1c0002row7_col14,#T_ab0ab0c8_dadb_11eb_8bc0_0242ac1c0002row7_col15,#T_ab0ab0c8_dadb_11eb_8bc0_0242ac1c0002row7_col16,#T_ab0ab0c8_dadb_11eb_8bc0_0242ac1c0002row7_col17,#T_ab0ab0c8_dadb_11eb_8bc0_0242ac1c0002row8_col0,#T_ab0ab0c8_dadb_11eb_8bc0_0242ac1c0002row8_col1,#T_ab0ab0c8_dadb_11eb_8bc0_0242ac1c0002row8_col2,#T_ab0ab0c8_dadb_11eb_8bc0_0242ac1c0002row8_col3,#T_ab0ab0c8_dadb_11eb_8bc0_0242ac1c0002row8_col4,#T_ab0ab0c8_dadb_11eb_8bc0_0242ac1c0002row8_col13,#T_ab0ab0c8_dadb_11eb_8bc0_0242ac1c0002row8_col14,#T_ab0ab0c8_dadb_11eb_8bc0_0242ac1c0002row8_col15,#T_ab0ab0c8_dadb_11eb_8bc0_0242ac1c0002row8_col16,#T_ab0ab0c8_dadb_11eb_8bc0_0242ac1c0002row8_col17,#T_ab0ab0c8_dadb_11eb_8bc0_0242ac1c0002row9_col0,#T_ab0ab0c8_dadb_11eb_8bc0_0242ac1c0002row9_col1,#T_ab0ab0c8_dadb_11eb_8bc0_0242ac1c0002row9_col2,#T_ab0ab0c8_dadb_11eb_8bc0_0242ac1c0002row9_col3,#T_ab0ab0c8_dadb_11eb_8bc0_0242ac1c0002row9_col4,#T_ab0ab0c8_dadb_11eb_8bc0_0242ac1c0002row9_col16,#T_ab0ab0c8_dadb_11eb_8bc0_0242ac1c0002row9_col17,#T_ab0ab0c8_dadb_11eb_8bc0_0242ac1c0002row10_col0,#T_ab0ab0c8_dadb_11eb_8bc0_0242ac1c0002row10_col1,#T_ab0ab0c8_dadb_11eb_8bc0_0242ac1c0002row10_col2,#T_ab0ab0c8_dadb_11eb_8bc0_0242ac1c0002row10_col3,#T_ab0ab0c8_dadb_11eb_8bc0_0242ac1c0002row10_col4,#T_ab0ab0c8_dadb_11eb_8bc0_0242ac1c0002row10_col5,#T_ab0ab0c8_dadb_11eb_8bc0_0242ac1c0002row10_col6,#T_ab0ab0c8_dadb_11eb_8bc0_0242ac1c0002row10_col17{\n",
              "            font-size:  6pt;\n",
              "            background-color:  #ffffff;\n",
              "            color:  #000000;\n",
              "        }#T_ab0ab0c8_dadb_11eb_8bc0_0242ac1c0002row1_col5{\n",
              "            font-size:  6pt;\n",
              "            background-color:  #efefef;\n",
              "            color:  #000000;\n",
              "        }#T_ab0ab0c8_dadb_11eb_8bc0_0242ac1c0002row1_col6,#T_ab0ab0c8_dadb_11eb_8bc0_0242ac1c0002row1_col13{\n",
              "            font-size:  6pt;\n",
              "            background-color:  #7c7c7c;\n",
              "            color:  #000000;\n",
              "        }#T_ab0ab0c8_dadb_11eb_8bc0_0242ac1c0002row1_col7{\n",
              "            font-size:  6pt;\n",
              "            background-color:  #4a4a4a;\n",
              "            color:  #f1f1f1;\n",
              "        }#T_ab0ab0c8_dadb_11eb_8bc0_0242ac1c0002row1_col8,#T_ab0ab0c8_dadb_11eb_8bc0_0242ac1c0002row1_col9,#T_ab0ab0c8_dadb_11eb_8bc0_0242ac1c0002row1_col10,#T_ab0ab0c8_dadb_11eb_8bc0_0242ac1c0002row2_col5,#T_ab0ab0c8_dadb_11eb_8bc0_0242ac1c0002row2_col6,#T_ab0ab0c8_dadb_11eb_8bc0_0242ac1c0002row2_col7,#T_ab0ab0c8_dadb_11eb_8bc0_0242ac1c0002row2_col11,#T_ab0ab0c8_dadb_11eb_8bc0_0242ac1c0002row2_col12,#T_ab0ab0c8_dadb_11eb_8bc0_0242ac1c0002row2_col13,#T_ab0ab0c8_dadb_11eb_8bc0_0242ac1c0002row3_col4,#T_ab0ab0c8_dadb_11eb_8bc0_0242ac1c0002row3_col12,#T_ab0ab0c8_dadb_11eb_8bc0_0242ac1c0002row3_col13,#T_ab0ab0c8_dadb_11eb_8bc0_0242ac1c0002row4_col1,#T_ab0ab0c8_dadb_11eb_8bc0_0242ac1c0002row4_col2,#T_ab0ab0c8_dadb_11eb_8bc0_0242ac1c0002row4_col3,#T_ab0ab0c8_dadb_11eb_8bc0_0242ac1c0002row4_col12,#T_ab0ab0c8_dadb_11eb_8bc0_0242ac1c0002row4_col13,#T_ab0ab0c8_dadb_11eb_8bc0_0242ac1c0002row5_col12,#T_ab0ab0c8_dadb_11eb_8bc0_0242ac1c0002row6_col11,#T_ab0ab0c8_dadb_11eb_8bc0_0242ac1c0002row9_col11,#T_ab0ab0c8_dadb_11eb_8bc0_0242ac1c0002row10_col11,#T_ab0ab0c8_dadb_11eb_8bc0_0242ac1c0002row10_col12,#T_ab0ab0c8_dadb_11eb_8bc0_0242ac1c0002row10_col13,#T_ab0ab0c8_dadb_11eb_8bc0_0242ac1c0002row10_col14,#T_ab0ab0c8_dadb_11eb_8bc0_0242ac1c0002row10_col15,#T_ab0ab0c8_dadb_11eb_8bc0_0242ac1c0002row10_col16{\n",
              "            font-size:  6pt;\n",
              "            background-color:  #000000;\n",
              "            color:  #f1f1f1;\n",
              "        }#T_ab0ab0c8_dadb_11eb_8bc0_0242ac1c0002row1_col11{\n",
              "            font-size:  6pt;\n",
              "            background-color:  #606060;\n",
              "            color:  #f1f1f1;\n",
              "        }#T_ab0ab0c8_dadb_11eb_8bc0_0242ac1c0002row1_col12{\n",
              "            font-size:  6pt;\n",
              "            background-color:  #4d4d4d;\n",
              "            color:  #f1f1f1;\n",
              "        }#T_ab0ab0c8_dadb_11eb_8bc0_0242ac1c0002row1_col14{\n",
              "            font-size:  6pt;\n",
              "            background-color:  #bbbbbb;\n",
              "            color:  #000000;\n",
              "        }#T_ab0ab0c8_dadb_11eb_8bc0_0242ac1c0002row2_col3{\n",
              "            font-size:  6pt;\n",
              "            background-color:  #e4e4e4;\n",
              "            color:  #000000;\n",
              "        }#T_ab0ab0c8_dadb_11eb_8bc0_0242ac1c0002row2_col4,#T_ab0ab0c8_dadb_11eb_8bc0_0242ac1c0002row8_col6{\n",
              "            font-size:  6pt;\n",
              "            background-color:  #6b6b6b;\n",
              "            color:  #000000;\n",
              "        }#T_ab0ab0c8_dadb_11eb_8bc0_0242ac1c0002row2_col8,#T_ab0ab0c8_dadb_11eb_8bc0_0242ac1c0002row2_col14,#T_ab0ab0c8_dadb_11eb_8bc0_0242ac1c0002row3_col14{\n",
              "            font-size:  6pt;\n",
              "            background-color:  #171717;\n",
              "            color:  #f1f1f1;\n",
              "        }#T_ab0ab0c8_dadb_11eb_8bc0_0242ac1c0002row2_col9,#T_ab0ab0c8_dadb_11eb_8bc0_0242ac1c0002row3_col11{\n",
              "            font-size:  6pt;\n",
              "            background-color:  #4b4b4b;\n",
              "            color:  #f1f1f1;\n",
              "        }#T_ab0ab0c8_dadb_11eb_8bc0_0242ac1c0002row2_col10,#T_ab0ab0c8_dadb_11eb_8bc0_0242ac1c0002row7_col10,#T_ab0ab0c8_dadb_11eb_8bc0_0242ac1c0002row8_col8,#T_ab0ab0c8_dadb_11eb_8bc0_0242ac1c0002row8_col10,#T_ab0ab0c8_dadb_11eb_8bc0_0242ac1c0002row9_col8,#T_ab0ab0c8_dadb_11eb_8bc0_0242ac1c0002row9_col10{\n",
              "            font-size:  6pt;\n",
              "            background-color:  #010101;\n",
              "            color:  #f1f1f1;\n",
              "        }#T_ab0ab0c8_dadb_11eb_8bc0_0242ac1c0002row3_col1{\n",
              "            font-size:  6pt;\n",
              "            background-color:  #272727;\n",
              "            color:  #f1f1f1;\n",
              "        }#T_ab0ab0c8_dadb_11eb_8bc0_0242ac1c0002row3_col2{\n",
              "            font-size:  6pt;\n",
              "            background-color:  #0a0a0a;\n",
              "            color:  #f1f1f1;\n",
              "        }#T_ab0ab0c8_dadb_11eb_8bc0_0242ac1c0002row3_col3{\n",
              "            font-size:  6pt;\n",
              "            background-color:  #050505;\n",
              "            color:  #f1f1f1;\n",
              "        }#T_ab0ab0c8_dadb_11eb_8bc0_0242ac1c0002row3_col5{\n",
              "            font-size:  6pt;\n",
              "            background-color:  #333333;\n",
              "            color:  #f1f1f1;\n",
              "        }#T_ab0ab0c8_dadb_11eb_8bc0_0242ac1c0002row3_col6{\n",
              "            font-size:  6pt;\n",
              "            background-color:  #e6e6e6;\n",
              "            color:  #000000;\n",
              "        }#T_ab0ab0c8_dadb_11eb_8bc0_0242ac1c0002row3_col7,#T_ab0ab0c8_dadb_11eb_8bc0_0242ac1c0002row3_col10{\n",
              "            font-size:  6pt;\n",
              "            background-color:  #fafafa;\n",
              "            color:  #000000;\n",
              "        }#T_ab0ab0c8_dadb_11eb_8bc0_0242ac1c0002row3_col8{\n",
              "            font-size:  6pt;\n",
              "            background-color:  #fbfbfb;\n",
              "            color:  #000000;\n",
              "        }#T_ab0ab0c8_dadb_11eb_8bc0_0242ac1c0002row3_col9{\n",
              "            font-size:  6pt;\n",
              "            background-color:  #fdfdfd;\n",
              "            color:  #000000;\n",
              "        }#T_ab0ab0c8_dadb_11eb_8bc0_0242ac1c0002row4_col4{\n",
              "            font-size:  6pt;\n",
              "            background-color:  #1b1b1b;\n",
              "            color:  #f1f1f1;\n",
              "        }#T_ab0ab0c8_dadb_11eb_8bc0_0242ac1c0002row4_col5{\n",
              "            font-size:  6pt;\n",
              "            background-color:  #e0e0e0;\n",
              "            color:  #000000;\n",
              "        }#T_ab0ab0c8_dadb_11eb_8bc0_0242ac1c0002row4_col11{\n",
              "            font-size:  6pt;\n",
              "            background-color:  #4e4e4e;\n",
              "            color:  #f1f1f1;\n",
              "        }#T_ab0ab0c8_dadb_11eb_8bc0_0242ac1c0002row4_col14{\n",
              "            font-size:  6pt;\n",
              "            background-color:  #767676;\n",
              "            color:  #000000;\n",
              "        }#T_ab0ab0c8_dadb_11eb_8bc0_0242ac1c0002row5_col1{\n",
              "            font-size:  6pt;\n",
              "            background-color:  #fcfcfc;\n",
              "            color:  #000000;\n",
              "        }#T_ab0ab0c8_dadb_11eb_8bc0_0242ac1c0002row5_col2,#T_ab0ab0c8_dadb_11eb_8bc0_0242ac1c0002row5_col3{\n",
              "            font-size:  6pt;\n",
              "            background-color:  #f6f6f6;\n",
              "            color:  #000000;\n",
              "        }#T_ab0ab0c8_dadb_11eb_8bc0_0242ac1c0002row5_col4,#T_ab0ab0c8_dadb_11eb_8bc0_0242ac1c0002row7_col7{\n",
              "            font-size:  6pt;\n",
              "            background-color:  #f8f8f8;\n",
              "            color:  #000000;\n",
              "        }#T_ab0ab0c8_dadb_11eb_8bc0_0242ac1c0002row5_col10,#T_ab0ab0c8_dadb_11eb_8bc0_0242ac1c0002row10_col7{\n",
              "            font-size:  6pt;\n",
              "            background-color:  #e8e8e8;\n",
              "            color:  #000000;\n",
              "        }#T_ab0ab0c8_dadb_11eb_8bc0_0242ac1c0002row5_col11{\n",
              "            font-size:  6pt;\n",
              "            background-color:  #222222;\n",
              "            color:  #f1f1f1;\n",
              "        }#T_ab0ab0c8_dadb_11eb_8bc0_0242ac1c0002row5_col13,#T_ab0ab0c8_dadb_11eb_8bc0_0242ac1c0002row6_col12{\n",
              "            font-size:  6pt;\n",
              "            background-color:  #090909;\n",
              "            color:  #f1f1f1;\n",
              "        }#T_ab0ab0c8_dadb_11eb_8bc0_0242ac1c0002row5_col14{\n",
              "            font-size:  6pt;\n",
              "            background-color:  #d0d0d0;\n",
              "            color:  #000000;\n",
              "        }#T_ab0ab0c8_dadb_11eb_8bc0_0242ac1c0002row6_col10,#T_ab0ab0c8_dadb_11eb_8bc0_0242ac1c0002row7_col11,#T_ab0ab0c8_dadb_11eb_8bc0_0242ac1c0002row9_col6{\n",
              "            font-size:  6pt;\n",
              "            background-color:  #060606;\n",
              "            color:  #f1f1f1;\n",
              "        }#T_ab0ab0c8_dadb_11eb_8bc0_0242ac1c0002row6_col13{\n",
              "            font-size:  6pt;\n",
              "            background-color:  #979797;\n",
              "            color:  #000000;\n",
              "        }#T_ab0ab0c8_dadb_11eb_8bc0_0242ac1c0002row7_col8{\n",
              "            font-size:  6pt;\n",
              "            background-color:  #b6b6b6;\n",
              "            color:  #000000;\n",
              "        }#T_ab0ab0c8_dadb_11eb_8bc0_0242ac1c0002row7_col9{\n",
              "            font-size:  6pt;\n",
              "            background-color:  #252525;\n",
              "            color:  #f1f1f1;\n",
              "        }#T_ab0ab0c8_dadb_11eb_8bc0_0242ac1c0002row7_col12{\n",
              "            font-size:  6pt;\n",
              "            background-color:  #999999;\n",
              "            color:  #000000;\n",
              "        }#T_ab0ab0c8_dadb_11eb_8bc0_0242ac1c0002row8_col5{\n",
              "            font-size:  6pt;\n",
              "            background-color:  #f9f9f9;\n",
              "            color:  #000000;\n",
              "        }#T_ab0ab0c8_dadb_11eb_8bc0_0242ac1c0002row8_col7{\n",
              "            font-size:  6pt;\n",
              "            background-color:  #101010;\n",
              "            color:  #f1f1f1;\n",
              "        }#T_ab0ab0c8_dadb_11eb_8bc0_0242ac1c0002row8_col9,#T_ab0ab0c8_dadb_11eb_8bc0_0242ac1c0002row9_col9{\n",
              "            font-size:  6pt;\n",
              "            background-color:  #020202;\n",
              "            color:  #f1f1f1;\n",
              "        }#T_ab0ab0c8_dadb_11eb_8bc0_0242ac1c0002row8_col11{\n",
              "            font-size:  6pt;\n",
              "            background-color:  #545454;\n",
              "            color:  #f1f1f1;\n",
              "        }#T_ab0ab0c8_dadb_11eb_8bc0_0242ac1c0002row8_col12{\n",
              "            font-size:  6pt;\n",
              "            background-color:  #f1f1f1;\n",
              "            color:  #000000;\n",
              "        }#T_ab0ab0c8_dadb_11eb_8bc0_0242ac1c0002row9_col5{\n",
              "            font-size:  6pt;\n",
              "            background-color:  #f7f7f7;\n",
              "            color:  #000000;\n",
              "        }#T_ab0ab0c8_dadb_11eb_8bc0_0242ac1c0002row9_col7{\n",
              "            font-size:  6pt;\n",
              "            background-color:  #030303;\n",
              "            color:  #f1f1f1;\n",
              "        }#T_ab0ab0c8_dadb_11eb_8bc0_0242ac1c0002row9_col12{\n",
              "            font-size:  6pt;\n",
              "            background-color:  #181818;\n",
              "            color:  #f1f1f1;\n",
              "        }#T_ab0ab0c8_dadb_11eb_8bc0_0242ac1c0002row9_col13{\n",
              "            font-size:  6pt;\n",
              "            background-color:  #303030;\n",
              "            color:  #f1f1f1;\n",
              "        }#T_ab0ab0c8_dadb_11eb_8bc0_0242ac1c0002row9_col14{\n",
              "            font-size:  6pt;\n",
              "            background-color:  #a9a9a9;\n",
              "            color:  #000000;\n",
              "        }#T_ab0ab0c8_dadb_11eb_8bc0_0242ac1c0002row9_col15{\n",
              "            font-size:  6pt;\n",
              "            background-color:  #fefefe;\n",
              "            color:  #000000;\n",
              "        }#T_ab0ab0c8_dadb_11eb_8bc0_0242ac1c0002row10_col8,#T_ab0ab0c8_dadb_11eb_8bc0_0242ac1c0002row10_col9{\n",
              "            font-size:  6pt;\n",
              "            background-color:  #bababa;\n",
              "            color:  #000000;\n",
              "        }#T_ab0ab0c8_dadb_11eb_8bc0_0242ac1c0002row10_col10{\n",
              "            font-size:  6pt;\n",
              "            background-color:  #393939;\n",
              "            color:  #f1f1f1;\n",
              "        }</style><table id=\"T_ab0ab0c8_dadb_11eb_8bc0_0242ac1c0002\" ><thead>    <tr>        <th class=\"blank level0\" ></th>        <th class=\"col_heading level0 col0\" >0</th>        <th class=\"col_heading level0 col1\" >1</th>        <th class=\"col_heading level0 col2\" >2</th>        <th class=\"col_heading level0 col3\" >3</th>        <th class=\"col_heading level0 col4\" >4</th>        <th class=\"col_heading level0 col5\" >5</th>        <th class=\"col_heading level0 col6\" >6</th>        <th class=\"col_heading level0 col7\" >7</th>        <th class=\"col_heading level0 col8\" >8</th>        <th class=\"col_heading level0 col9\" >9</th>        <th class=\"col_heading level0 col10\" >10</th>        <th class=\"col_heading level0 col11\" >11</th>        <th class=\"col_heading level0 col12\" >12</th>        <th class=\"col_heading level0 col13\" >13</th>        <th class=\"col_heading level0 col14\" >14</th>        <th class=\"col_heading level0 col15\" >15</th>        <th class=\"col_heading level0 col16\" >16</th>        <th class=\"col_heading level0 col17\" >17</th>    </tr></thead><tbody>\n",
              "                <tr>\n",
              "                        <th id=\"T_ab0ab0c8_dadb_11eb_8bc0_0242ac1c0002level0_row0\" class=\"row_heading level0 row0\" >0</th>\n",
              "                        <td id=\"T_ab0ab0c8_dadb_11eb_8bc0_0242ac1c0002row0_col0\" class=\"data row0 col0\" >0</td>\n",
              "                        <td id=\"T_ab0ab0c8_dadb_11eb_8bc0_0242ac1c0002row0_col1\" class=\"data row0 col1\" >0</td>\n",
              "                        <td id=\"T_ab0ab0c8_dadb_11eb_8bc0_0242ac1c0002row0_col2\" class=\"data row0 col2\" >0</td>\n",
              "                        <td id=\"T_ab0ab0c8_dadb_11eb_8bc0_0242ac1c0002row0_col3\" class=\"data row0 col3\" >0</td>\n",
              "                        <td id=\"T_ab0ab0c8_dadb_11eb_8bc0_0242ac1c0002row0_col4\" class=\"data row0 col4\" >0</td>\n",
              "                        <td id=\"T_ab0ab0c8_dadb_11eb_8bc0_0242ac1c0002row0_col5\" class=\"data row0 col5\" >0</td>\n",
              "                        <td id=\"T_ab0ab0c8_dadb_11eb_8bc0_0242ac1c0002row0_col6\" class=\"data row0 col6\" >0</td>\n",
              "                        <td id=\"T_ab0ab0c8_dadb_11eb_8bc0_0242ac1c0002row0_col7\" class=\"data row0 col7\" >0</td>\n",
              "                        <td id=\"T_ab0ab0c8_dadb_11eb_8bc0_0242ac1c0002row0_col8\" class=\"data row0 col8\" >0</td>\n",
              "                        <td id=\"T_ab0ab0c8_dadb_11eb_8bc0_0242ac1c0002row0_col9\" class=\"data row0 col9\" >0</td>\n",
              "                        <td id=\"T_ab0ab0c8_dadb_11eb_8bc0_0242ac1c0002row0_col10\" class=\"data row0 col10\" >0</td>\n",
              "                        <td id=\"T_ab0ab0c8_dadb_11eb_8bc0_0242ac1c0002row0_col11\" class=\"data row0 col11\" >0</td>\n",
              "                        <td id=\"T_ab0ab0c8_dadb_11eb_8bc0_0242ac1c0002row0_col12\" class=\"data row0 col12\" >0</td>\n",
              "                        <td id=\"T_ab0ab0c8_dadb_11eb_8bc0_0242ac1c0002row0_col13\" class=\"data row0 col13\" >0</td>\n",
              "                        <td id=\"T_ab0ab0c8_dadb_11eb_8bc0_0242ac1c0002row0_col14\" class=\"data row0 col14\" >0</td>\n",
              "                        <td id=\"T_ab0ab0c8_dadb_11eb_8bc0_0242ac1c0002row0_col15\" class=\"data row0 col15\" >0</td>\n",
              "                        <td id=\"T_ab0ab0c8_dadb_11eb_8bc0_0242ac1c0002row0_col16\" class=\"data row0 col16\" >0</td>\n",
              "                        <td id=\"T_ab0ab0c8_dadb_11eb_8bc0_0242ac1c0002row0_col17\" class=\"data row0 col17\" >0</td>\n",
              "            </tr>\n",
              "            <tr>\n",
              "                        <th id=\"T_ab0ab0c8_dadb_11eb_8bc0_0242ac1c0002level0_row1\" class=\"row_heading level0 row1\" >1</th>\n",
              "                        <td id=\"T_ab0ab0c8_dadb_11eb_8bc0_0242ac1c0002row1_col0\" class=\"data row1 col0\" >0</td>\n",
              "                        <td id=\"T_ab0ab0c8_dadb_11eb_8bc0_0242ac1c0002row1_col1\" class=\"data row1 col1\" >0</td>\n",
              "                        <td id=\"T_ab0ab0c8_dadb_11eb_8bc0_0242ac1c0002row1_col2\" class=\"data row1 col2\" >0</td>\n",
              "                        <td id=\"T_ab0ab0c8_dadb_11eb_8bc0_0242ac1c0002row1_col3\" class=\"data row1 col3\" >0</td>\n",
              "                        <td id=\"T_ab0ab0c8_dadb_11eb_8bc0_0242ac1c0002row1_col4\" class=\"data row1 col4\" >0</td>\n",
              "                        <td id=\"T_ab0ab0c8_dadb_11eb_8bc0_0242ac1c0002row1_col5\" class=\"data row1 col5\" >29</td>\n",
              "                        <td id=\"T_ab0ab0c8_dadb_11eb_8bc0_0242ac1c0002row1_col6\" class=\"data row1 col6\" >150</td>\n",
              "                        <td id=\"T_ab0ab0c8_dadb_11eb_8bc0_0242ac1c0002row1_col7\" class=\"data row1 col7\" >195</td>\n",
              "                        <td id=\"T_ab0ab0c8_dadb_11eb_8bc0_0242ac1c0002row1_col8\" class=\"data row1 col8\" >254</td>\n",
              "                        <td id=\"T_ab0ab0c8_dadb_11eb_8bc0_0242ac1c0002row1_col9\" class=\"data row1 col9\" >255</td>\n",
              "                        <td id=\"T_ab0ab0c8_dadb_11eb_8bc0_0242ac1c0002row1_col10\" class=\"data row1 col10\" >254</td>\n",
              "                        <td id=\"T_ab0ab0c8_dadb_11eb_8bc0_0242ac1c0002row1_col11\" class=\"data row1 col11\" >176</td>\n",
              "                        <td id=\"T_ab0ab0c8_dadb_11eb_8bc0_0242ac1c0002row1_col12\" class=\"data row1 col12\" >193</td>\n",
              "                        <td id=\"T_ab0ab0c8_dadb_11eb_8bc0_0242ac1c0002row1_col13\" class=\"data row1 col13\" >150</td>\n",
              "                        <td id=\"T_ab0ab0c8_dadb_11eb_8bc0_0242ac1c0002row1_col14\" class=\"data row1 col14\" >96</td>\n",
              "                        <td id=\"T_ab0ab0c8_dadb_11eb_8bc0_0242ac1c0002row1_col15\" class=\"data row1 col15\" >0</td>\n",
              "                        <td id=\"T_ab0ab0c8_dadb_11eb_8bc0_0242ac1c0002row1_col16\" class=\"data row1 col16\" >0</td>\n",
              "                        <td id=\"T_ab0ab0c8_dadb_11eb_8bc0_0242ac1c0002row1_col17\" class=\"data row1 col17\" >0</td>\n",
              "            </tr>\n",
              "            <tr>\n",
              "                        <th id=\"T_ab0ab0c8_dadb_11eb_8bc0_0242ac1c0002level0_row2\" class=\"row_heading level0 row2\" >2</th>\n",
              "                        <td id=\"T_ab0ab0c8_dadb_11eb_8bc0_0242ac1c0002row2_col0\" class=\"data row2 col0\" >0</td>\n",
              "                        <td id=\"T_ab0ab0c8_dadb_11eb_8bc0_0242ac1c0002row2_col1\" class=\"data row2 col1\" >0</td>\n",
              "                        <td id=\"T_ab0ab0c8_dadb_11eb_8bc0_0242ac1c0002row2_col2\" class=\"data row2 col2\" >0</td>\n",
              "                        <td id=\"T_ab0ab0c8_dadb_11eb_8bc0_0242ac1c0002row2_col3\" class=\"data row2 col3\" >48</td>\n",
              "                        <td id=\"T_ab0ab0c8_dadb_11eb_8bc0_0242ac1c0002row2_col4\" class=\"data row2 col4\" >166</td>\n",
              "                        <td id=\"T_ab0ab0c8_dadb_11eb_8bc0_0242ac1c0002row2_col5\" class=\"data row2 col5\" >224</td>\n",
              "                        <td id=\"T_ab0ab0c8_dadb_11eb_8bc0_0242ac1c0002row2_col6\" class=\"data row2 col6\" >253</td>\n",
              "                        <td id=\"T_ab0ab0c8_dadb_11eb_8bc0_0242ac1c0002row2_col7\" class=\"data row2 col7\" >253</td>\n",
              "                        <td id=\"T_ab0ab0c8_dadb_11eb_8bc0_0242ac1c0002row2_col8\" class=\"data row2 col8\" >234</td>\n",
              "                        <td id=\"T_ab0ab0c8_dadb_11eb_8bc0_0242ac1c0002row2_col9\" class=\"data row2 col9\" >196</td>\n",
              "                        <td id=\"T_ab0ab0c8_dadb_11eb_8bc0_0242ac1c0002row2_col10\" class=\"data row2 col10\" >253</td>\n",
              "                        <td id=\"T_ab0ab0c8_dadb_11eb_8bc0_0242ac1c0002row2_col11\" class=\"data row2 col11\" >253</td>\n",
              "                        <td id=\"T_ab0ab0c8_dadb_11eb_8bc0_0242ac1c0002row2_col12\" class=\"data row2 col12\" >253</td>\n",
              "                        <td id=\"T_ab0ab0c8_dadb_11eb_8bc0_0242ac1c0002row2_col13\" class=\"data row2 col13\" >253</td>\n",
              "                        <td id=\"T_ab0ab0c8_dadb_11eb_8bc0_0242ac1c0002row2_col14\" class=\"data row2 col14\" >233</td>\n",
              "                        <td id=\"T_ab0ab0c8_dadb_11eb_8bc0_0242ac1c0002row2_col15\" class=\"data row2 col15\" >0</td>\n",
              "                        <td id=\"T_ab0ab0c8_dadb_11eb_8bc0_0242ac1c0002row2_col16\" class=\"data row2 col16\" >0</td>\n",
              "                        <td id=\"T_ab0ab0c8_dadb_11eb_8bc0_0242ac1c0002row2_col17\" class=\"data row2 col17\" >0</td>\n",
              "            </tr>\n",
              "            <tr>\n",
              "                        <th id=\"T_ab0ab0c8_dadb_11eb_8bc0_0242ac1c0002level0_row3\" class=\"row_heading level0 row3\" >3</th>\n",
              "                        <td id=\"T_ab0ab0c8_dadb_11eb_8bc0_0242ac1c0002row3_col0\" class=\"data row3 col0\" >0</td>\n",
              "                        <td id=\"T_ab0ab0c8_dadb_11eb_8bc0_0242ac1c0002row3_col1\" class=\"data row3 col1\" >93</td>\n",
              "                        <td id=\"T_ab0ab0c8_dadb_11eb_8bc0_0242ac1c0002row3_col2\" class=\"data row3 col2\" >244</td>\n",
              "                        <td id=\"T_ab0ab0c8_dadb_11eb_8bc0_0242ac1c0002row3_col3\" class=\"data row3 col3\" >249</td>\n",
              "                        <td id=\"T_ab0ab0c8_dadb_11eb_8bc0_0242ac1c0002row3_col4\" class=\"data row3 col4\" >253</td>\n",
              "                        <td id=\"T_ab0ab0c8_dadb_11eb_8bc0_0242ac1c0002row3_col5\" class=\"data row3 col5\" >187</td>\n",
              "                        <td id=\"T_ab0ab0c8_dadb_11eb_8bc0_0242ac1c0002row3_col6\" class=\"data row3 col6\" >46</td>\n",
              "                        <td id=\"T_ab0ab0c8_dadb_11eb_8bc0_0242ac1c0002row3_col7\" class=\"data row3 col7\" >10</td>\n",
              "                        <td id=\"T_ab0ab0c8_dadb_11eb_8bc0_0242ac1c0002row3_col8\" class=\"data row3 col8\" >8</td>\n",
              "                        <td id=\"T_ab0ab0c8_dadb_11eb_8bc0_0242ac1c0002row3_col9\" class=\"data row3 col9\" >4</td>\n",
              "                        <td id=\"T_ab0ab0c8_dadb_11eb_8bc0_0242ac1c0002row3_col10\" class=\"data row3 col10\" >10</td>\n",
              "                        <td id=\"T_ab0ab0c8_dadb_11eb_8bc0_0242ac1c0002row3_col11\" class=\"data row3 col11\" >194</td>\n",
              "                        <td id=\"T_ab0ab0c8_dadb_11eb_8bc0_0242ac1c0002row3_col12\" class=\"data row3 col12\" >253</td>\n",
              "                        <td id=\"T_ab0ab0c8_dadb_11eb_8bc0_0242ac1c0002row3_col13\" class=\"data row3 col13\" >253</td>\n",
              "                        <td id=\"T_ab0ab0c8_dadb_11eb_8bc0_0242ac1c0002row3_col14\" class=\"data row3 col14\" >233</td>\n",
              "                        <td id=\"T_ab0ab0c8_dadb_11eb_8bc0_0242ac1c0002row3_col15\" class=\"data row3 col15\" >0</td>\n",
              "                        <td id=\"T_ab0ab0c8_dadb_11eb_8bc0_0242ac1c0002row3_col16\" class=\"data row3 col16\" >0</td>\n",
              "                        <td id=\"T_ab0ab0c8_dadb_11eb_8bc0_0242ac1c0002row3_col17\" class=\"data row3 col17\" >0</td>\n",
              "            </tr>\n",
              "            <tr>\n",
              "                        <th id=\"T_ab0ab0c8_dadb_11eb_8bc0_0242ac1c0002level0_row4\" class=\"row_heading level0 row4\" >4</th>\n",
              "                        <td id=\"T_ab0ab0c8_dadb_11eb_8bc0_0242ac1c0002row4_col0\" class=\"data row4 col0\" >0</td>\n",
              "                        <td id=\"T_ab0ab0c8_dadb_11eb_8bc0_0242ac1c0002row4_col1\" class=\"data row4 col1\" >107</td>\n",
              "                        <td id=\"T_ab0ab0c8_dadb_11eb_8bc0_0242ac1c0002row4_col2\" class=\"data row4 col2\" >253</td>\n",
              "                        <td id=\"T_ab0ab0c8_dadb_11eb_8bc0_0242ac1c0002row4_col3\" class=\"data row4 col3\" >253</td>\n",
              "                        <td id=\"T_ab0ab0c8_dadb_11eb_8bc0_0242ac1c0002row4_col4\" class=\"data row4 col4\" >230</td>\n",
              "                        <td id=\"T_ab0ab0c8_dadb_11eb_8bc0_0242ac1c0002row4_col5\" class=\"data row4 col5\" >48</td>\n",
              "                        <td id=\"T_ab0ab0c8_dadb_11eb_8bc0_0242ac1c0002row4_col6\" class=\"data row4 col6\" >0</td>\n",
              "                        <td id=\"T_ab0ab0c8_dadb_11eb_8bc0_0242ac1c0002row4_col7\" class=\"data row4 col7\" >0</td>\n",
              "                        <td id=\"T_ab0ab0c8_dadb_11eb_8bc0_0242ac1c0002row4_col8\" class=\"data row4 col8\" >0</td>\n",
              "                        <td id=\"T_ab0ab0c8_dadb_11eb_8bc0_0242ac1c0002row4_col9\" class=\"data row4 col9\" >0</td>\n",
              "                        <td id=\"T_ab0ab0c8_dadb_11eb_8bc0_0242ac1c0002row4_col10\" class=\"data row4 col10\" >0</td>\n",
              "                        <td id=\"T_ab0ab0c8_dadb_11eb_8bc0_0242ac1c0002row4_col11\" class=\"data row4 col11\" >192</td>\n",
              "                        <td id=\"T_ab0ab0c8_dadb_11eb_8bc0_0242ac1c0002row4_col12\" class=\"data row4 col12\" >253</td>\n",
              "                        <td id=\"T_ab0ab0c8_dadb_11eb_8bc0_0242ac1c0002row4_col13\" class=\"data row4 col13\" >253</td>\n",
              "                        <td id=\"T_ab0ab0c8_dadb_11eb_8bc0_0242ac1c0002row4_col14\" class=\"data row4 col14\" >156</td>\n",
              "                        <td id=\"T_ab0ab0c8_dadb_11eb_8bc0_0242ac1c0002row4_col15\" class=\"data row4 col15\" >0</td>\n",
              "                        <td id=\"T_ab0ab0c8_dadb_11eb_8bc0_0242ac1c0002row4_col16\" class=\"data row4 col16\" >0</td>\n",
              "                        <td id=\"T_ab0ab0c8_dadb_11eb_8bc0_0242ac1c0002row4_col17\" class=\"data row4 col17\" >0</td>\n",
              "            </tr>\n",
              "            <tr>\n",
              "                        <th id=\"T_ab0ab0c8_dadb_11eb_8bc0_0242ac1c0002level0_row5\" class=\"row_heading level0 row5\" >5</th>\n",
              "                        <td id=\"T_ab0ab0c8_dadb_11eb_8bc0_0242ac1c0002row5_col0\" class=\"data row5 col0\" >0</td>\n",
              "                        <td id=\"T_ab0ab0c8_dadb_11eb_8bc0_0242ac1c0002row5_col1\" class=\"data row5 col1\" >3</td>\n",
              "                        <td id=\"T_ab0ab0c8_dadb_11eb_8bc0_0242ac1c0002row5_col2\" class=\"data row5 col2\" >20</td>\n",
              "                        <td id=\"T_ab0ab0c8_dadb_11eb_8bc0_0242ac1c0002row5_col3\" class=\"data row5 col3\" >20</td>\n",
              "                        <td id=\"T_ab0ab0c8_dadb_11eb_8bc0_0242ac1c0002row5_col4\" class=\"data row5 col4\" >15</td>\n",
              "                        <td id=\"T_ab0ab0c8_dadb_11eb_8bc0_0242ac1c0002row5_col5\" class=\"data row5 col5\" >0</td>\n",
              "                        <td id=\"T_ab0ab0c8_dadb_11eb_8bc0_0242ac1c0002row5_col6\" class=\"data row5 col6\" >0</td>\n",
              "                        <td id=\"T_ab0ab0c8_dadb_11eb_8bc0_0242ac1c0002row5_col7\" class=\"data row5 col7\" >0</td>\n",
              "                        <td id=\"T_ab0ab0c8_dadb_11eb_8bc0_0242ac1c0002row5_col8\" class=\"data row5 col8\" >0</td>\n",
              "                        <td id=\"T_ab0ab0c8_dadb_11eb_8bc0_0242ac1c0002row5_col9\" class=\"data row5 col9\" >0</td>\n",
              "                        <td id=\"T_ab0ab0c8_dadb_11eb_8bc0_0242ac1c0002row5_col10\" class=\"data row5 col10\" >43</td>\n",
              "                        <td id=\"T_ab0ab0c8_dadb_11eb_8bc0_0242ac1c0002row5_col11\" class=\"data row5 col11\" >224</td>\n",
              "                        <td id=\"T_ab0ab0c8_dadb_11eb_8bc0_0242ac1c0002row5_col12\" class=\"data row5 col12\" >253</td>\n",
              "                        <td id=\"T_ab0ab0c8_dadb_11eb_8bc0_0242ac1c0002row5_col13\" class=\"data row5 col13\" >245</td>\n",
              "                        <td id=\"T_ab0ab0c8_dadb_11eb_8bc0_0242ac1c0002row5_col14\" class=\"data row5 col14\" >74</td>\n",
              "                        <td id=\"T_ab0ab0c8_dadb_11eb_8bc0_0242ac1c0002row5_col15\" class=\"data row5 col15\" >0</td>\n",
              "                        <td id=\"T_ab0ab0c8_dadb_11eb_8bc0_0242ac1c0002row5_col16\" class=\"data row5 col16\" >0</td>\n",
              "                        <td id=\"T_ab0ab0c8_dadb_11eb_8bc0_0242ac1c0002row5_col17\" class=\"data row5 col17\" >0</td>\n",
              "            </tr>\n",
              "            <tr>\n",
              "                        <th id=\"T_ab0ab0c8_dadb_11eb_8bc0_0242ac1c0002level0_row6\" class=\"row_heading level0 row6\" >6</th>\n",
              "                        <td id=\"T_ab0ab0c8_dadb_11eb_8bc0_0242ac1c0002row6_col0\" class=\"data row6 col0\" >0</td>\n",
              "                        <td id=\"T_ab0ab0c8_dadb_11eb_8bc0_0242ac1c0002row6_col1\" class=\"data row6 col1\" >0</td>\n",
              "                        <td id=\"T_ab0ab0c8_dadb_11eb_8bc0_0242ac1c0002row6_col2\" class=\"data row6 col2\" >0</td>\n",
              "                        <td id=\"T_ab0ab0c8_dadb_11eb_8bc0_0242ac1c0002row6_col3\" class=\"data row6 col3\" >0</td>\n",
              "                        <td id=\"T_ab0ab0c8_dadb_11eb_8bc0_0242ac1c0002row6_col4\" class=\"data row6 col4\" >0</td>\n",
              "                        <td id=\"T_ab0ab0c8_dadb_11eb_8bc0_0242ac1c0002row6_col5\" class=\"data row6 col5\" >0</td>\n",
              "                        <td id=\"T_ab0ab0c8_dadb_11eb_8bc0_0242ac1c0002row6_col6\" class=\"data row6 col6\" >0</td>\n",
              "                        <td id=\"T_ab0ab0c8_dadb_11eb_8bc0_0242ac1c0002row6_col7\" class=\"data row6 col7\" >0</td>\n",
              "                        <td id=\"T_ab0ab0c8_dadb_11eb_8bc0_0242ac1c0002row6_col8\" class=\"data row6 col8\" >0</td>\n",
              "                        <td id=\"T_ab0ab0c8_dadb_11eb_8bc0_0242ac1c0002row6_col9\" class=\"data row6 col9\" >0</td>\n",
              "                        <td id=\"T_ab0ab0c8_dadb_11eb_8bc0_0242ac1c0002row6_col10\" class=\"data row6 col10\" >249</td>\n",
              "                        <td id=\"T_ab0ab0c8_dadb_11eb_8bc0_0242ac1c0002row6_col11\" class=\"data row6 col11\" >253</td>\n",
              "                        <td id=\"T_ab0ab0c8_dadb_11eb_8bc0_0242ac1c0002row6_col12\" class=\"data row6 col12\" >245</td>\n",
              "                        <td id=\"T_ab0ab0c8_dadb_11eb_8bc0_0242ac1c0002row6_col13\" class=\"data row6 col13\" >126</td>\n",
              "                        <td id=\"T_ab0ab0c8_dadb_11eb_8bc0_0242ac1c0002row6_col14\" class=\"data row6 col14\" >0</td>\n",
              "                        <td id=\"T_ab0ab0c8_dadb_11eb_8bc0_0242ac1c0002row6_col15\" class=\"data row6 col15\" >0</td>\n",
              "                        <td id=\"T_ab0ab0c8_dadb_11eb_8bc0_0242ac1c0002row6_col16\" class=\"data row6 col16\" >0</td>\n",
              "                        <td id=\"T_ab0ab0c8_dadb_11eb_8bc0_0242ac1c0002row6_col17\" class=\"data row6 col17\" >0</td>\n",
              "            </tr>\n",
              "            <tr>\n",
              "                        <th id=\"T_ab0ab0c8_dadb_11eb_8bc0_0242ac1c0002level0_row7\" class=\"row_heading level0 row7\" >7</th>\n",
              "                        <td id=\"T_ab0ab0c8_dadb_11eb_8bc0_0242ac1c0002row7_col0\" class=\"data row7 col0\" >0</td>\n",
              "                        <td id=\"T_ab0ab0c8_dadb_11eb_8bc0_0242ac1c0002row7_col1\" class=\"data row7 col1\" >0</td>\n",
              "                        <td id=\"T_ab0ab0c8_dadb_11eb_8bc0_0242ac1c0002row7_col2\" class=\"data row7 col2\" >0</td>\n",
              "                        <td id=\"T_ab0ab0c8_dadb_11eb_8bc0_0242ac1c0002row7_col3\" class=\"data row7 col3\" >0</td>\n",
              "                        <td id=\"T_ab0ab0c8_dadb_11eb_8bc0_0242ac1c0002row7_col4\" class=\"data row7 col4\" >0</td>\n",
              "                        <td id=\"T_ab0ab0c8_dadb_11eb_8bc0_0242ac1c0002row7_col5\" class=\"data row7 col5\" >0</td>\n",
              "                        <td id=\"T_ab0ab0c8_dadb_11eb_8bc0_0242ac1c0002row7_col6\" class=\"data row7 col6\" >0</td>\n",
              "                        <td id=\"T_ab0ab0c8_dadb_11eb_8bc0_0242ac1c0002row7_col7\" class=\"data row7 col7\" >14</td>\n",
              "                        <td id=\"T_ab0ab0c8_dadb_11eb_8bc0_0242ac1c0002row7_col8\" class=\"data row7 col8\" >101</td>\n",
              "                        <td id=\"T_ab0ab0c8_dadb_11eb_8bc0_0242ac1c0002row7_col9\" class=\"data row7 col9\" >223</td>\n",
              "                        <td id=\"T_ab0ab0c8_dadb_11eb_8bc0_0242ac1c0002row7_col10\" class=\"data row7 col10\" >253</td>\n",
              "                        <td id=\"T_ab0ab0c8_dadb_11eb_8bc0_0242ac1c0002row7_col11\" class=\"data row7 col11\" >248</td>\n",
              "                        <td id=\"T_ab0ab0c8_dadb_11eb_8bc0_0242ac1c0002row7_col12\" class=\"data row7 col12\" >124</td>\n",
              "                        <td id=\"T_ab0ab0c8_dadb_11eb_8bc0_0242ac1c0002row7_col13\" class=\"data row7 col13\" >0</td>\n",
              "                        <td id=\"T_ab0ab0c8_dadb_11eb_8bc0_0242ac1c0002row7_col14\" class=\"data row7 col14\" >0</td>\n",
              "                        <td id=\"T_ab0ab0c8_dadb_11eb_8bc0_0242ac1c0002row7_col15\" class=\"data row7 col15\" >0</td>\n",
              "                        <td id=\"T_ab0ab0c8_dadb_11eb_8bc0_0242ac1c0002row7_col16\" class=\"data row7 col16\" >0</td>\n",
              "                        <td id=\"T_ab0ab0c8_dadb_11eb_8bc0_0242ac1c0002row7_col17\" class=\"data row7 col17\" >0</td>\n",
              "            </tr>\n",
              "            <tr>\n",
              "                        <th id=\"T_ab0ab0c8_dadb_11eb_8bc0_0242ac1c0002level0_row8\" class=\"row_heading level0 row8\" >8</th>\n",
              "                        <td id=\"T_ab0ab0c8_dadb_11eb_8bc0_0242ac1c0002row8_col0\" class=\"data row8 col0\" >0</td>\n",
              "                        <td id=\"T_ab0ab0c8_dadb_11eb_8bc0_0242ac1c0002row8_col1\" class=\"data row8 col1\" >0</td>\n",
              "                        <td id=\"T_ab0ab0c8_dadb_11eb_8bc0_0242ac1c0002row8_col2\" class=\"data row8 col2\" >0</td>\n",
              "                        <td id=\"T_ab0ab0c8_dadb_11eb_8bc0_0242ac1c0002row8_col3\" class=\"data row8 col3\" >0</td>\n",
              "                        <td id=\"T_ab0ab0c8_dadb_11eb_8bc0_0242ac1c0002row8_col4\" class=\"data row8 col4\" >0</td>\n",
              "                        <td id=\"T_ab0ab0c8_dadb_11eb_8bc0_0242ac1c0002row8_col5\" class=\"data row8 col5\" >11</td>\n",
              "                        <td id=\"T_ab0ab0c8_dadb_11eb_8bc0_0242ac1c0002row8_col6\" class=\"data row8 col6\" >166</td>\n",
              "                        <td id=\"T_ab0ab0c8_dadb_11eb_8bc0_0242ac1c0002row8_col7\" class=\"data row8 col7\" >239</td>\n",
              "                        <td id=\"T_ab0ab0c8_dadb_11eb_8bc0_0242ac1c0002row8_col8\" class=\"data row8 col8\" >253</td>\n",
              "                        <td id=\"T_ab0ab0c8_dadb_11eb_8bc0_0242ac1c0002row8_col9\" class=\"data row8 col9\" >253</td>\n",
              "                        <td id=\"T_ab0ab0c8_dadb_11eb_8bc0_0242ac1c0002row8_col10\" class=\"data row8 col10\" >253</td>\n",
              "                        <td id=\"T_ab0ab0c8_dadb_11eb_8bc0_0242ac1c0002row8_col11\" class=\"data row8 col11\" >187</td>\n",
              "                        <td id=\"T_ab0ab0c8_dadb_11eb_8bc0_0242ac1c0002row8_col12\" class=\"data row8 col12\" >30</td>\n",
              "                        <td id=\"T_ab0ab0c8_dadb_11eb_8bc0_0242ac1c0002row8_col13\" class=\"data row8 col13\" >0</td>\n",
              "                        <td id=\"T_ab0ab0c8_dadb_11eb_8bc0_0242ac1c0002row8_col14\" class=\"data row8 col14\" >0</td>\n",
              "                        <td id=\"T_ab0ab0c8_dadb_11eb_8bc0_0242ac1c0002row8_col15\" class=\"data row8 col15\" >0</td>\n",
              "                        <td id=\"T_ab0ab0c8_dadb_11eb_8bc0_0242ac1c0002row8_col16\" class=\"data row8 col16\" >0</td>\n",
              "                        <td id=\"T_ab0ab0c8_dadb_11eb_8bc0_0242ac1c0002row8_col17\" class=\"data row8 col17\" >0</td>\n",
              "            </tr>\n",
              "            <tr>\n",
              "                        <th id=\"T_ab0ab0c8_dadb_11eb_8bc0_0242ac1c0002level0_row9\" class=\"row_heading level0 row9\" >9</th>\n",
              "                        <td id=\"T_ab0ab0c8_dadb_11eb_8bc0_0242ac1c0002row9_col0\" class=\"data row9 col0\" >0</td>\n",
              "                        <td id=\"T_ab0ab0c8_dadb_11eb_8bc0_0242ac1c0002row9_col1\" class=\"data row9 col1\" >0</td>\n",
              "                        <td id=\"T_ab0ab0c8_dadb_11eb_8bc0_0242ac1c0002row9_col2\" class=\"data row9 col2\" >0</td>\n",
              "                        <td id=\"T_ab0ab0c8_dadb_11eb_8bc0_0242ac1c0002row9_col3\" class=\"data row9 col3\" >0</td>\n",
              "                        <td id=\"T_ab0ab0c8_dadb_11eb_8bc0_0242ac1c0002row9_col4\" class=\"data row9 col4\" >0</td>\n",
              "                        <td id=\"T_ab0ab0c8_dadb_11eb_8bc0_0242ac1c0002row9_col5\" class=\"data row9 col5\" >16</td>\n",
              "                        <td id=\"T_ab0ab0c8_dadb_11eb_8bc0_0242ac1c0002row9_col6\" class=\"data row9 col6\" >248</td>\n",
              "                        <td id=\"T_ab0ab0c8_dadb_11eb_8bc0_0242ac1c0002row9_col7\" class=\"data row9 col7\" >250</td>\n",
              "                        <td id=\"T_ab0ab0c8_dadb_11eb_8bc0_0242ac1c0002row9_col8\" class=\"data row9 col8\" >253</td>\n",
              "                        <td id=\"T_ab0ab0c8_dadb_11eb_8bc0_0242ac1c0002row9_col9\" class=\"data row9 col9\" >253</td>\n",
              "                        <td id=\"T_ab0ab0c8_dadb_11eb_8bc0_0242ac1c0002row9_col10\" class=\"data row9 col10\" >253</td>\n",
              "                        <td id=\"T_ab0ab0c8_dadb_11eb_8bc0_0242ac1c0002row9_col11\" class=\"data row9 col11\" >253</td>\n",
              "                        <td id=\"T_ab0ab0c8_dadb_11eb_8bc0_0242ac1c0002row9_col12\" class=\"data row9 col12\" >232</td>\n",
              "                        <td id=\"T_ab0ab0c8_dadb_11eb_8bc0_0242ac1c0002row9_col13\" class=\"data row9 col13\" >213</td>\n",
              "                        <td id=\"T_ab0ab0c8_dadb_11eb_8bc0_0242ac1c0002row9_col14\" class=\"data row9 col14\" >111</td>\n",
              "                        <td id=\"T_ab0ab0c8_dadb_11eb_8bc0_0242ac1c0002row9_col15\" class=\"data row9 col15\" >2</td>\n",
              "                        <td id=\"T_ab0ab0c8_dadb_11eb_8bc0_0242ac1c0002row9_col16\" class=\"data row9 col16\" >0</td>\n",
              "                        <td id=\"T_ab0ab0c8_dadb_11eb_8bc0_0242ac1c0002row9_col17\" class=\"data row9 col17\" >0</td>\n",
              "            </tr>\n",
              "            <tr>\n",
              "                        <th id=\"T_ab0ab0c8_dadb_11eb_8bc0_0242ac1c0002level0_row10\" class=\"row_heading level0 row10\" >10</th>\n",
              "                        <td id=\"T_ab0ab0c8_dadb_11eb_8bc0_0242ac1c0002row10_col0\" class=\"data row10 col0\" >0</td>\n",
              "                        <td id=\"T_ab0ab0c8_dadb_11eb_8bc0_0242ac1c0002row10_col1\" class=\"data row10 col1\" >0</td>\n",
              "                        <td id=\"T_ab0ab0c8_dadb_11eb_8bc0_0242ac1c0002row10_col2\" class=\"data row10 col2\" >0</td>\n",
              "                        <td id=\"T_ab0ab0c8_dadb_11eb_8bc0_0242ac1c0002row10_col3\" class=\"data row10 col3\" >0</td>\n",
              "                        <td id=\"T_ab0ab0c8_dadb_11eb_8bc0_0242ac1c0002row10_col4\" class=\"data row10 col4\" >0</td>\n",
              "                        <td id=\"T_ab0ab0c8_dadb_11eb_8bc0_0242ac1c0002row10_col5\" class=\"data row10 col5\" >0</td>\n",
              "                        <td id=\"T_ab0ab0c8_dadb_11eb_8bc0_0242ac1c0002row10_col6\" class=\"data row10 col6\" >0</td>\n",
              "                        <td id=\"T_ab0ab0c8_dadb_11eb_8bc0_0242ac1c0002row10_col7\" class=\"data row10 col7\" >43</td>\n",
              "                        <td id=\"T_ab0ab0c8_dadb_11eb_8bc0_0242ac1c0002row10_col8\" class=\"data row10 col8\" >98</td>\n",
              "                        <td id=\"T_ab0ab0c8_dadb_11eb_8bc0_0242ac1c0002row10_col9\" class=\"data row10 col9\" >98</td>\n",
              "                        <td id=\"T_ab0ab0c8_dadb_11eb_8bc0_0242ac1c0002row10_col10\" class=\"data row10 col10\" >208</td>\n",
              "                        <td id=\"T_ab0ab0c8_dadb_11eb_8bc0_0242ac1c0002row10_col11\" class=\"data row10 col11\" >253</td>\n",
              "                        <td id=\"T_ab0ab0c8_dadb_11eb_8bc0_0242ac1c0002row10_col12\" class=\"data row10 col12\" >253</td>\n",
              "                        <td id=\"T_ab0ab0c8_dadb_11eb_8bc0_0242ac1c0002row10_col13\" class=\"data row10 col13\" >253</td>\n",
              "                        <td id=\"T_ab0ab0c8_dadb_11eb_8bc0_0242ac1c0002row10_col14\" class=\"data row10 col14\" >253</td>\n",
              "                        <td id=\"T_ab0ab0c8_dadb_11eb_8bc0_0242ac1c0002row10_col15\" class=\"data row10 col15\" >187</td>\n",
              "                        <td id=\"T_ab0ab0c8_dadb_11eb_8bc0_0242ac1c0002row10_col16\" class=\"data row10 col16\" >22</td>\n",
              "                        <td id=\"T_ab0ab0c8_dadb_11eb_8bc0_0242ac1c0002row10_col17\" class=\"data row10 col17\" >0</td>\n",
              "            </tr>\n",
              "    </tbody></table>"
            ],
            "text/plain": [
              "<pandas.io.formats.style.Styler at 0x7f5fa99e89d0>"
            ]
          },
          "metadata": {
            "tags": []
          },
          "execution_count": 19
        }
      ]
    },
    {
      "cell_type": "markdown",
      "metadata": {
        "id": "rTGJq0e0vP76"
      },
      "source": [
        "- The background white pixels are stored as the number zero, black is the number 255 and shades of grey are between the two.\n",
        "\n",
        "- The entire image contains 28 pixels across and 28 pixels down, for a total of 768 pixels."
      ]
    },
    {
      "cell_type": "markdown",
      "metadata": {
        "id": "8hjaS-2qjHrG"
      },
      "source": [
        "# Pixel similarity\n",
        "\n",
        "- As a first try, let's find the average pixel value for every pixel of the threes and do the same for each of the sevens.\n",
        "\n",
        "- This will give us three group averages which will serve as an \"ideal\" 3 and 7.\n",
        "\n",
        "- For classification, we see which of these two \"ideal\" digits the image is most similar to.\n",
        "\n",
        "- This will make a good baseline.\n",
        "\n",
        "- `Baseline` - a super simple model that should be very easy to program from scratch with very little magic and will be better than a random model.\n",
        "\n",
        "- Always start with a reasonable baseline and build on top of it.\n",
        "\n",
        "- Step one of our model is to get the average pixel values for each of out two groups."
      ]
    },
    {
      "cell_type": "code",
      "metadata": {
        "id": "a3u8Rzgauqz6",
        "colab": {
          "base_uri": "https://localhost:8080/"
        },
        "outputId": "f00199ff-ffcc-4f5f-c927-3a58d2ca7fdc"
      },
      "source": [
        "seven_tensors = [tensor(Image.open(o)) for o in sevens]\n",
        "three_tensors = [tensor(Image.open(o)) for o in threes]\n",
        "len(three_tensors), len(seven_tensors)"
      ],
      "execution_count": 20,
      "outputs": [
        {
          "output_type": "execute_result",
          "data": {
            "text/plain": [
              "(6131, 6265)"
            ]
          },
          "metadata": {
            "tags": []
          },
          "execution_count": 20
        }
      ]
    },
    {
      "cell_type": "markdown",
      "metadata": {
        "id": "rFoi6YhymCPU"
      },
      "source": [
        "- We check that one of the images looks okay.\n",
        "\n",
        "- Remember that our images are now tensors. Jupyter displays tensors as values since it only displays images by default for PIL objects.\n",
        "\n",
        "- To display the tensor as an image we use fastai's `show_image` function"
      ]
    },
    {
      "cell_type": "code",
      "metadata": {
        "id": "GlNYSW2llfWc",
        "colab": {
          "base_uri": "https://localhost:8080/",
          "height": 102
        },
        "outputId": "e448fd36-20f1-4331-b043-3c7f50308580"
      },
      "source": [
        "show_image(three_tensors[1])"
      ],
      "execution_count": 21,
      "outputs": [
        {
          "output_type": "execute_result",
          "data": {
            "text/plain": [
              "<matplotlib.axes._subplots.AxesSubplot at 0x7f5fa9919110>"
            ]
          },
          "metadata": {
            "tags": []
          },
          "execution_count": 21
        },
        {
          "output_type": "display_data",
          "data": {
            "image/png": "[encoded data removed]",
            "text/plain": [
              "<Figure size 72x72 with 1 Axes>"
            ]
          },
          "metadata": {
            "tags": [],
            "needs_background": "light"
          }
        }
      ]
    },
    {
      "cell_type": "code",
      "metadata": {
        "id": "c2iZs5cEmgG1",
        "colab": {
          "base_uri": "https://localhost:8080/"
        },
        "outputId": "d0b3c64a-7d6d-433c-c907-b6fb86c72174"
      },
      "source": [
        "type(three_tensors)"
      ],
      "execution_count": 22,
      "outputs": [
        {
          "output_type": "execute_result",
          "data": {
            "text/plain": [
              "list"
            ]
          },
          "metadata": {
            "tags": []
          },
          "execution_count": 22
        }
      ]
    },
    {
      "cell_type": "code",
      "metadata": {
        "id": "AOP4E_Xum08i",
        "colab": {
          "base_uri": "https://localhost:8080/"
        },
        "outputId": "de7bb6f4-eb91-4671-9b66-7a474d62f89a"
      },
      "source": [
        "three_tensors[1].shape"
      ],
      "execution_count": 23,
      "outputs": [
        {
          "output_type": "execute_result",
          "data": {
            "text/plain": [
              "torch.Size([28, 28])"
            ]
          },
          "metadata": {
            "tags": []
          },
          "execution_count": 23
        }
      ]
    },
    {
      "cell_type": "markdown",
      "metadata": {
        "id": "owvZFc8Dm4gj"
      },
      "source": [
        "- We need to get the average of all of those threes.\n",
        "\n",
        "- Currently `three_tensors` is a list of 28 x 28 images.\n",
        "\n",
        "- We want to stack all those images into a single three-dimensional tensor to make it easier to perform mathematical computations on it.\n",
        "\n",
        "- PyTorch comes with a function called `stack`.\n",
        "\n",
        "- Some operations in PyTorch, such as taking a mean require us to cast our integer types to float types.\n",
        "\n",
        "- The pixels in an image range from 0 - 255\n",
        "\n",
        "- In computer vision, when working with floats, they are expected to be between zero and one, so we'll divide by 255"
      ]
    },
    {
      "cell_type": "code",
      "metadata": {
        "id": "kbTZvpV4m3O6",
        "colab": {
          "base_uri": "https://localhost:8080/"
        },
        "outputId": "58939e49-1ed1-40d5-c24d-46cd4d1dd9b0"
      },
      "source": [
        "stacked_sevens = torch.stack(seven_tensors).float()/255\n",
        "stacked_threes = torch.stack(three_tensors).float()/255\n",
        "stacked_threes.shape"
      ],
      "execution_count": 24,
      "outputs": [
        {
          "output_type": "execute_result",
          "data": {
            "text/plain": [
              "torch.Size([6131, 28, 28])"
            ]
          },
          "metadata": {
            "tags": []
          },
          "execution_count": 24
        }
      ]
    },
    {
      "cell_type": "markdown",
      "metadata": {
        "id": "8VdXbvlio7Oh"
      },
      "source": [
        "- `Rank` - number of axes (dimensions) in a tensor.\n",
        "\n",
        "- `Shape` - size of each axis of a tensor.\n",
        "\n",
        "- `stacked_threes` is now a rank 3 tensor because it has 3 axes.\n",
        "\n",
        "- We get the rank of a tensor by getting the length of its shape or getting the number of dimensions.\n",
        "\n",
        "- We now have 6131 images each of size 28 x 28 pixels.\n",
        "\n",
        "- The semantics of a tensor are entirely up to us and how we construct it. The first axis doesn't have to be the number of images"
      ]
    },
    {
      "cell_type": "code",
      "metadata": {
        "id": "20Td6qc0ow1r",
        "colab": {
          "base_uri": "https://localhost:8080/"
        },
        "outputId": "41f57a37-56f9-43ae-93c9-b30bd03871f5"
      },
      "source": [
        "# length of its shape\n",
        "len(stacked_threes.shape)"
      ],
      "execution_count": 25,
      "outputs": [
        {
          "output_type": "execute_result",
          "data": {
            "text/plain": [
              "3"
            ]
          },
          "metadata": {
            "tags": []
          },
          "execution_count": 25
        }
      ]
    },
    {
      "cell_type": "code",
      "metadata": {
        "id": "P180uQ6Yp849",
        "colab": {
          "base_uri": "https://localhost:8080/"
        },
        "outputId": "85e4edaf-6044-4131-ecea-de0b2baaf91b"
      },
      "source": [
        "# number of dimensions\n",
        "stacked_threes.ndim"
      ],
      "execution_count": 26,
      "outputs": [
        {
          "output_type": "execute_result",
          "data": {
            "text/plain": [
              "3"
            ]
          },
          "metadata": {
            "tags": []
          },
          "execution_count": 26
        }
      ]
    },
    {
      "cell_type": "markdown",
      "metadata": {
        "id": "0seQu0uqpupa"
      },
      "source": [
        "- We can now compute what the ideal three and seven look like.\n",
        "\n",
        "- For every pixel position, we calculate the mean over all images by taking the mean along dimension zero of our stacked, rank-3 tensor.\n",
        "\n",
        "- Dimension zero is the dimension which indexes over all the images."
      ]
    },
    {
      "cell_type": "code",
      "metadata": {
        "id": "BcDZ1PesptST",
        "colab": {
          "base_uri": "https://localhost:8080/",
          "height": 102
        },
        "outputId": "818c7a06-8b5b-4998-975d-a5edff1e4b67"
      },
      "source": [
        "mean3 = stacked_threes.mean(0)\n",
        "show_image(mean3)"
      ],
      "execution_count": 27,
      "outputs": [
        {
          "output_type": "execute_result",
          "data": {
            "text/plain": [
              "<matplotlib.axes._subplots.AxesSubplot at 0x7f5fa934c610>"
            ]
          },
          "metadata": {
            "tags": []
          },
          "execution_count": 27
        },
        {
          "output_type": "display_data",
          "data": {
            "image/png": "[encoded data removed]",
            "text/plain": [
              "<Figure size 72x72 with 1 Axes>"
            ]
          },
          "metadata": {
            "tags": [],
            "needs_background": "light"
          }
        }
      ]
    },
    {
      "cell_type": "code",
      "metadata": {
        "id": "Mlo-1klotoba",
        "colab": {
          "base_uri": "https://localhost:8080/"
        },
        "outputId": "bbf71ce1-c9da-44cc-c6ae-ba96e9429c90"
      },
      "source": [
        "mean3.shape"
      ],
      "execution_count": 28,
      "outputs": [
        {
          "output_type": "execute_result",
          "data": {
            "text/plain": [
              "torch.Size([28, 28])"
            ]
          },
          "metadata": {
            "tags": []
          },
          "execution_count": 28
        }
      ]
    },
    {
      "cell_type": "markdown",
      "metadata": {
        "id": "rRADdw0WtyxU"
      },
      "source": [
        "`stacked_threes.mean()` returns the average pixel across the rank-3 tensor"
      ]
    },
    {
      "cell_type": "code",
      "metadata": {
        "id": "fQSK2rUdtqjt",
        "colab": {
          "base_uri": "https://localhost:8080/"
        },
        "outputId": "b69ae29a-2878-4877-8c14-be17d53e9fe3"
      },
      "source": [
        "stacked_threes.mean()"
      ],
      "execution_count": 29,
      "outputs": [
        {
          "output_type": "execute_result",
          "data": {
            "text/plain": [
              "tensor(0.1415)"
            ]
          },
          "metadata": {
            "tags": []
          },
          "execution_count": 29
        }
      ]
    },
    {
      "cell_type": "code",
      "metadata": {
        "id": "AJcdCjnRt8YX",
        "colab": {
          "base_uri": "https://localhost:8080/",
          "height": 102
        },
        "outputId": "4a7e982e-c83b-440d-f3b1-36860d610e4d"
      },
      "source": [
        "mean7 = stacked_sevens.mean(0)\n",
        "show_image(mean7)"
      ],
      "execution_count": 30,
      "outputs": [
        {
          "output_type": "execute_result",
          "data": {
            "text/plain": [
              "<matplotlib.axes._subplots.AxesSubplot at 0x7f5fa93527d0>"
            ]
          },
          "metadata": {
            "tags": []
          },
          "execution_count": 30
        },
        {
          "output_type": "display_data",
          "data": {
            "image/png": "[encoded data removed]",
            "text/plain": [
              "<Figure size 72x72 with 1 Axes>"
            ]
          },
          "metadata": {
            "tags": [],
            "needs_background": "light"
          }
        }
      ]
    },
    {
      "cell_type": "markdown",
      "metadata": {
        "id": "L1_rb1Z-uVC0"
      },
      "source": [
        "- We can now pick an arbitrary \"3\" and measure its distance from each of these ideal digits."
      ]
    },
    {
      "cell_type": "code",
      "metadata": {
        "id": "aNvcfJMQuFpX",
        "colab": {
          "base_uri": "https://localhost:8080/",
          "height": 102
        },
        "outputId": "163854cb-1e80-42cd-b1bd-d86b141b7d51"
      },
      "source": [
        "a_3 = stacked_threes[1]\n",
        "show_image(a_3)"
      ],
      "execution_count": 31,
      "outputs": [
        {
          "output_type": "execute_result",
          "data": {
            "text/plain": [
              "<matplotlib.axes._subplots.AxesSubplot at 0x7f5fa928a850>"
            ]
          },
          "metadata": {
            "tags": []
          },
          "execution_count": 31
        },
        {
          "output_type": "display_data",
          "data": {
            "image/png": "[encoded data removed]",
            "text/plain": [
              "<Figure size 72x72 with 1 Axes>"
            ]
          },
          "metadata": {
            "tags": [],
            "needs_background": "light"
          }
        }
      ]
    },
    {
      "cell_type": "code",
      "metadata": {
        "id": "jONGq2lXxQ7V",
        "colab": {
          "base_uri": "https://localhost:8080/",
          "height": 102
        },
        "outputId": "ebc9bee7-e237-43ce-c483-45f496f7dec8"
      },
      "source": [
        "a_7 = stacked_sevens[1]\n",
        "show_image(a_7)"
      ],
      "execution_count": 32,
      "outputs": [
        {
          "output_type": "execute_result",
          "data": {
            "text/plain": [
              "<matplotlib.axes._subplots.AxesSubplot at 0x7f5fa92c5c90>"
            ]
          },
          "metadata": {
            "tags": []
          },
          "execution_count": 32
        },
        {
          "output_type": "display_data",
          "data": {
            "image/png": "[encoded data removed]",
            "text/plain": [
              "<Figure size 72x72 with 1 Axes>"
            ]
          },
          "metadata": {
            "tags": [],
            "needs_background": "light"
          }
        }
      ]
    },
    {
      "cell_type": "markdown",
      "metadata": {
        "id": "TRTJsXUfvWXS"
      },
      "source": [
        "- We can't just add up the differences between the pixels of this digit and the ideal digit.\n",
        "\n",
        "- This is because some differences will be positive and others will be negative and these differences cancel out and shows that the image has zero total differences from the ideal.\n",
        "\n",
        "- This is very misleading.\n",
        "\n",
        "- There's two ways data scientists measure distance in this context:\n",
        "  - `L1 norm/Mean Absolute Difference` - Take the mean of the absolute value of differences (replace negatives with positives and get the mean)\n",
        "  - `L2 norm/Root Mean Squared Error (RMSE)` - Take the mean of the square of differences and then take the square root.\n",
        "\n",
        "- Intuitively the difference between `L1 norm` and `mean squared error (MSE)` is that the latter will penalize bigger mistakes more heavily than the former and be more lenient with small mistakes."
      ]
    },
    {
      "cell_type": "code",
      "metadata": {
        "id": "5_CBK7CcvUSK",
        "colab": {
          "base_uri": "https://localhost:8080/"
        },
        "outputId": "bdb39974-69e9-41c9-af3a-95c91031c3e8"
      },
      "source": [
        "dist_3_abs = (a_3 - mean3).abs().mean()\n",
        "dist_3_sqr = ((a_3 - mean3)**2).mean().sqrt()\n",
        "dist_3_abs, dist_3_sqr"
      ],
      "execution_count": 33,
      "outputs": [
        {
          "output_type": "execute_result",
          "data": {
            "text/plain": [
              "(tensor(0.1114), tensor(0.2021))"
            ]
          },
          "metadata": {
            "tags": []
          },
          "execution_count": 33
        }
      ]
    },
    {
      "cell_type": "code",
      "metadata": {
        "id": "hQFmmEQgxI0Y",
        "colab": {
          "base_uri": "https://localhost:8080/"
        },
        "outputId": "f9055c5d-f143-43ca-e8aa-33418e3cb3e6"
      },
      "source": [
        "dist_7_abs = (a_3 - mean7).abs().mean()\n",
        "dist_7_sqr = ((a_3 - mean7)**2).mean().sqrt()\n",
        "dist_7_abs, dist_7_sqr"
      ],
      "execution_count": 34,
      "outputs": [
        {
          "output_type": "execute_result",
          "data": {
            "text/plain": [
              "(tensor(0.1586), tensor(0.3021))"
            ]
          },
          "metadata": {
            "tags": []
          },
          "execution_count": 34
        }
      ]
    },
    {
      "cell_type": "markdown",
      "metadata": {
        "id": "1aeygTpnx77o"
      },
      "source": [
        "- The distance of our digit to the mean of three is closer than its distance to the mean of seven. This is true for both the `mean absolute error` and the `root mean squared error`.\n",
        "\n",
        "- This means that we can predict that our digit is a three.\n",
        "\n",
        "- In this case our simple model gives a correct prediction.\n",
        "\n",
        "- PyTorch already provides both the `MAE` & `RMSE` as loss functions inside the `torch.nn.functional` (imported as `F`).\n",
        "\n",
        "- In it *MSE* refers to `mean squared error` and *L1* refers to the `mean absolute error` (`L1 norm` in math)"
      ]
    },
    {
      "cell_type": "code",
      "metadata": {
        "id": "2aY_miXBxdel",
        "colab": {
          "base_uri": "https://localhost:8080/"
        },
        "outputId": "ce201793-73f9-433b-d9ca-f7bba0f4ff5c"
      },
      "source": [
        "F.l1_loss(a_3.float(), mean7), F.mse_loss(a_3.float(), mean7).sqrt()"
      ],
      "execution_count": 35,
      "outputs": [
        {
          "output_type": "execute_result",
          "data": {
            "text/plain": [
              "(tensor(0.1586), tensor(0.3021))"
            ]
          },
          "metadata": {
            "tags": []
          },
          "execution_count": 35
        }
      ]
    },
    {
      "cell_type": "markdown",
      "metadata": {
        "id": "iBfocDeRZLSx"
      },
      "source": [
        "# Computing metrics using broadcasting\n",
        "\n",
        "- A metric tells us how good our model is by comparing the prediction to the correct label.\n",
        "\n",
        "- We use *accuracy* as a metric in classification models since it is understandable to most people"
      ]
    },
    {
      "cell_type": "code",
      "metadata": {
        "id": "BX9-su1jYXQm",
        "colab": {
          "base_uri": "https://localhost:8080/"
        },
        "outputId": "daf82c90-aae1-4de6-d483-398f6cddcc78"
      },
      "source": [
        "valid_3_tens = torch.stack([tensor(Image.open(o)) for o in (path/'valid'/'3').ls()])\n",
        "valid_3_tens = valid_3_tens.float()/255\n",
        "\n",
        "valid_7_tens = torch.stack([tensor(Image.open(o)) for o in (path/'valid'/'7').ls()])\n",
        "valid_7_tens = valid_7_tens.float()/255\n",
        "\n",
        "valid_3_tens.shape, valid_7_tens.shape"
      ],
      "execution_count": 36,
      "outputs": [
        {
          "output_type": "execute_result",
          "data": {
            "text/plain": [
              "(torch.Size([1010, 28, 28]), torch.Size([1028, 28, 28]))"
            ]
          },
          "metadata": {
            "tags": []
          },
          "execution_count": 36
        }
      ]
    },
    {
      "cell_type": "markdown",
      "metadata": {
        "id": "33D1fVxdbBTK"
      },
      "source": [
        "- We want to write a function `is_3` that will decide if an image is a 3 or a 7 depending on which it is closer to.\n",
        "\n",
        "- For this, we'll need to define a notion of distance, i.e. a function that calculates the distance between two images.\n",
        "\n",
        "- We'll do this using the mean absolute error"
      ]
    },
    {
      "cell_type": "code",
      "metadata": {
        "id": "TYloLHDCarg0",
        "colab": {
          "base_uri": "https://localhost:8080/"
        },
        "outputId": "79259931-f5a6-4e9a-ca59-df53e46e7c44"
      },
      "source": [
        "# mean((-1, -2)) -> take the mean along the last and the second last axis i.e the x and y axis\n",
        "def mnist_distance(a, b): return (a - b).abs().mean((-1, -2))\n",
        "mnist_distance(a_3, mean3)"
      ],
      "execution_count": 37,
      "outputs": [
        {
          "output_type": "execute_result",
          "data": {
            "text/plain": [
              "tensor(0.1114)"
            ]
          },
          "metadata": {
            "tags": []
          },
          "execution_count": 37
        }
      ]
    },
    {
      "cell_type": "markdown",
      "metadata": {
        "id": "7Qh7aEfZdIvJ"
      },
      "source": [
        "- In order to calculate overall accuracy, we'll need to calculate the distance to the ideal three for every image in the validation set.\n",
        "\n",
        "- Our distance function is designed for comparing two single images but can work for our stacked tensor through `broadcasting`.\n",
        "\n",
        "- `Broadcasting` -> a PyTorch feature that automatically expands the tensor of the smaller rank to have the same size as the one with the larger rank.\n",
        "\n",
        "- In our case it treats `mean3` as 1010 copies of the same image and subtracts each of those copies from each \"three\" in `valid_3_tens"
      ]
    },
    {
      "cell_type": "code",
      "metadata": {
        "id": "09K9jyhKbz-E",
        "colab": {
          "base_uri": "https://localhost:8080/"
        },
        "outputId": "c57e7452-7d09-4923-e3c5-ed29ec15139b"
      },
      "source": [
        "valid_3_distance = mnist_distance(valid_3_tens, mean3)\n",
        "valid_3_distance, valid_3_distance.shape"
      ],
      "execution_count": 38,
      "outputs": [
        {
          "output_type": "execute_result",
          "data": {
            "text/plain": [
              "(tensor([0.1397, 0.1058, 0.1463,  ..., 0.1390, 0.1183, 0.1605]),\n",
              " torch.Size([1010]))"
            ]
          },
          "metadata": {
            "tags": []
          },
          "execution_count": 38
        }
      ]
    },
    {
      "cell_type": "code",
      "metadata": {
        "id": "uVEo4T9XetwK"
      },
      "source": [
        "def is_3(x): return mnist_distance(x, mean3) < mnist_distance(x, mean7)"
      ],
      "execution_count": 39,
      "outputs": []
    },
    {
      "cell_type": "code",
      "metadata": {
        "id": "xl24uySynwbs",
        "colab": {
          "base_uri": "https://localhost:8080/"
        },
        "outputId": "ce398b5a-6e71-442c-f06d-4714737b66f9"
      },
      "source": [
        "is_3(a_3), is_3(a_3).float()"
      ],
      "execution_count": 40,
      "outputs": [
        {
          "output_type": "execute_result",
          "data": {
            "text/plain": [
              "(tensor(True), tensor(1.))"
            ]
          },
          "metadata": {
            "tags": []
          },
          "execution_count": 40
        }
      ]
    },
    {
      "cell_type": "markdown",
      "metadata": {
        "id": "jUpmsBM3n9ub"
      },
      "source": [
        "- Thanks to `broadcasting`, we can test it on the full validation set of threes.\n",
        "\n",
        "- This enables us to get rid of loops since loops make things slower moreso on the GPU."
      ]
    },
    {
      "cell_type": "code",
      "metadata": {
        "id": "QBRJK8Jpn6Yy",
        "colab": {
          "base_uri": "https://localhost:8080/"
        },
        "outputId": "768a9964-2f10-4967-c01e-222c75e9b574"
      },
      "source": [
        "is_3(valid_3_tens)"
      ],
      "execution_count": 41,
      "outputs": [
        {
          "output_type": "execute_result",
          "data": {
            "text/plain": [
              "tensor([ True,  True, False,  ...,  True,  True, False])"
            ]
          },
          "metadata": {
            "tags": []
          },
          "execution_count": 41
        }
      ]
    },
    {
      "cell_type": "code",
      "metadata": {
        "id": "2mjoL1sWorUc",
        "colab": {
          "base_uri": "https://localhost:8080/"
        },
        "outputId": "3c3653c3-aa66-41c9-fc5d-d4f0b04c2c96"
      },
      "source": [
        "accuracy_3s = is_3(valid_3_tens).float().mean()\n",
        "\n",
        "accuracy_7s = (1 - is_3(valid_7_tens).float()).mean()\n",
        "\n",
        "accuracy_3s, accuracy_7s, (accuracy_3s + accuracy_7s)/2"
      ],
      "execution_count": 42,
      "outputs": [
        {
          "output_type": "execute_result",
          "data": {
            "text/plain": [
              "(tensor(0.9168), tensor(0.9854), tensor(0.9511))"
            ]
          },
          "metadata": {
            "tags": []
          },
          "execution_count": 42
        }
      ]
    },
    {
      "cell_type": "markdown",
      "metadata": {
        "id": "1lvnfUqspb_N"
      },
      "source": [
        "- As we can see, we have a model with a 95% accuracy in predicting 3s and 7s using broadcasting.\n",
        "\n",
        "- Our model however, cannot be defined as a machine learning model according to Arthur Samuel i.e *Automatic means of testing the actual effectiveness of any parameter assignment in terms of actual performance and provide a mechanism for altering the weight assignment so as to maximise the performance.*\n",
        "\n",
        "- To do better, let's try a system that does some real learning, i.e. can automatically modify itself to improve its performance."
      ]
    },
    {
      "cell_type": "markdown",
      "metadata": {
        "id": "uH1a990Kqx2s"
      },
      "source": [
        "# Stochastic Gradient Descent (SGD)\n",
        "\n",
        "- Instead of trying to find the similarity of an image with an \"ideal\" image, we could instead look at each individual pixel, and come up with a set of weights for each pixel, such that the highest weights are associated with those pixels most likely to be black for a particular category.\n",
        "\n",
        "- For instance, pixels towards the bottom right are not very likely to be activated for a seven so they should have low weight for a seven, but are more likely to be activated for an eight so they should have high weight for an eight.\n",
        "\n",
        "- We can represent this as a function:\n",
        "    ```python\n",
        "      def pr_eight(x,w) = (x*w).sum()\n",
        "    ```\n",
        "\n",
        "- Here we are assuming that `X` is an image represented as a vector and the weights are a vector `W`.\n",
        "\n",
        "- If the image we're looking at has pixels with a high weight it's going to end up with a high probability.\n",
        "\n",
        "- If we have this function, then we just need some way to update the weights to make them a little bit better.\n",
        "\n",
        "- With such an approach, we can repeat this step a number of times, making the weights better and better until they are as good as we can make them.\n",
        "\n",
        "- Searching for the best vector `W` is a way to search for the best function for recognising a digit.\n",
        "\n",
        "- To be more specific, below are the steps required to turn this function into a machine learning classifier:\n",
        "  - *Initialize* the weights. We initialize the weights to random values since we have a routine to improve these weights.\n",
        "  - For each image, use the weights to predict whether it appears to be a three or a seven.\n",
        "  - Based on these predictions, calculate how good the model is (its `loss`).\n",
        "  - Calculate the `gradient`, which measures for each weight, how changing that weight would change the loss.\n",
        "  - `Step` (change) all the weights based on the `gradient` calculation.\n",
        "  - Go back to step one and repeat the process.\n",
        "  - Stop training when you decide that the model is good enough, or you don't want to wait any longer.\n",
        "\n",
        "- These 7 steps are the key to the training of all deep learning models.\n",
        "\n",
        "- This technique is called `Gradient Descent`\n",
        "\n",
        "- Before applying these steps to our image classification problem, let's illustrate what they look like in a simpler case.\n",
        "\n",
        "- We'll define a simple function (the quadratic) and assume it's our loss function and x is our weighted parameter."
      ]
    },
    {
      "cell_type": "code",
      "metadata": {
        "id": "JUZJC31fpHG_"
      },
      "source": [
        "def f(x): return x**2"
      ],
      "execution_count": 43,
      "outputs": []
    },
    {
      "cell_type": "code",
      "metadata": {
        "id": "qqKia6d_ZbYI",
        "colab": {
          "base_uri": "https://localhost:8080/",
          "height": 340
        },
        "outputId": "f12ed846-9a59-4e1e-9182-85da36e69d7e"
      },
      "source": [
        "plot_function(f, 'x', 'x**2')"
      ],
      "execution_count": 44,
      "outputs": [
        {
          "output_type": "stream",
          "text": [
            "/usr/local/lib/python3.7/dist-packages/fastbook/__init__.py:73: UserWarning: Not providing a value for linspace's steps is deprecated and will throw a runtime error in a future release. This warning will appear only once per process. (Triggered internally at  /pytorch/aten/src/ATen/native/RangeFactories.cpp:25.)\n",
            "  x = torch.linspace(min,max)\n"
          ],
          "name": "stderr"
        },
        {
          "output_type": "display_data",
          "data": {
            "image/png": "[encoded data removed]",
            "text/plain": [
              "<Figure size 432x288 with 1 Axes>"
            ]
          },
          "metadata": {
            "tags": [],
            "needs_background": "light"
          }
        }
      ]
    },
    {
      "cell_type": "markdown",
      "metadata": {
        "id": "2zSQocWwc2Ek"
      },
      "source": [
        "- The sequence of steps we described above starts by picking some random value for a parameter, and calculating the value of the loss"
      ]
    },
    {
      "cell_type": "code",
      "metadata": {
        "id": "7C3g8hw5ZgKn",
        "colab": {
          "base_uri": "https://localhost:8080/",
          "height": 285
        },
        "outputId": "923c7f17-f1f2-42ea-dd6a-877367236879"
      },
      "source": [
        "plot_function(f, 'x', 'x**2')\n",
        "plt.scatter(-1.5, f(-1.5), color='red');"
      ],
      "execution_count": 45,
      "outputs": [
        {
          "output_type": "display_data",
          "data": {
            "image/png": "[encoded data removed]",
            "text/plain": [
              "<Figure size 432x288 with 1 Axes>"
            ]
          },
          "metadata": {
            "tags": [],
            "needs_background": "light"
          }
        }
      ]
    },
    {
      "cell_type": "markdown",
      "metadata": {
        "id": "xkRo2hL_dTnK"
      },
      "source": [
        "- We now look to see what would happen if we increased or decreased our parameter by a little bit - the `adjustment`.\n",
        "\n",
        "- This is simply the slope at a particular point.\n",
        "\n",
        "- We can change our weight by a little in the direction of the slope, calculate our loss and adjustment again, and repeat this a few times.\n",
        "\n",
        "- Eventually, we'll get to the lowest point on the curve.\n",
        "\n",
        "- The basic idea goes back to Isaac Newton, who pointed out that we can optimize arbitrary functions this way.\n",
        "\n",
        "- Regardless of how complicated our functions become, this basic approach of gradient descent will not significantly change.\n",
        "\n",
        "- The only minor changes are some handy ways we can make it faster, by finding better steps."
      ]
    },
    {
      "cell_type": "markdown",
      "metadata": {
        "id": "lINXkIkbeuzB"
      },
      "source": [
        "## The gradient\n",
        "\n",
        "- The one magic step is the bit where we calculate the *gradient*.\n",
        "\n",
        "- We use calculus as a performance optimization; it allows us to more quickly calculate whether our loss will go up or down when we adjust our parameters up or down.\n",
        "\n",
        "- In other words, the gradients will tell us how much we have to change each weight to make our model better.\n",
        "\n",
        "- From highschool math, gradient is defined as \"rise/run\" i.e. the change in the value of the function divided by the change in the value of the parameter.\n",
        "\n",
        "- The *derivative* of a function tells you how much a change in the parameters of a function will change its result.\n",
        "\n",
        "- It is a function that calculates the change rather than the value.\n",
        "\n",
        "- The derivative of the quadratic function at the value three tells us how rapidly the function changes at the value three.\n",
        "\n",
        "- When we know how our function will change, then we know what to do to make it smaller.\n",
        "\n",
        "- This is the key to machine learning: having a way to change the parameters of a function to make it smaller.\n",
        "\n",
        "- Our function has lots of weights that we need to adjust, so when we calculate the derivative, we won't get back one number but lots of them - a gradient for every weight.\n",
        "\n",
        "- You can calculate the derivative with respect to one weight and treat all the others as constant, then repeat that for each weight.\n",
        "\n",
        "- This is how gradients are calculated for every weight.\n",
        "\n",
        "- Luckily PyTorch is able to automatically compute the derivative of any function so you don't have to calculate any gradients yourself."
      ]
    },
    {
      "cell_type": "code",
      "metadata": {
        "id": "suQsrB9hdJSR"
      },
      "source": [
        "# Pick a tensor value which we want gradients at\n",
        "xt = tensor(3.).requires_grad_()"
      ],
      "execution_count": 46,
      "outputs": []
    },
    {
      "cell_type": "markdown",
      "metadata": {
        "id": "XO4LIUAf0YCJ"
      },
      "source": [
        "- `requires_grad_()` tells PyTorch that we want to calculate gradients with respect to that variable at that value.\n",
        "\n",
        "- An underscore at the end of a method in PyTorch means that it is an `in-place operation`.\n",
        "\n",
        "- An `in-place operation` directly changes the content of a given linear algebra, vector or tensor without making a copy.\n",
        "\n",
        "- In our function above `requires_grad_` modifies `tensor(3.)` to tell PyTorch that we want to calculate gradients on it.\n",
        "\n",
        "- We now calculate our function with that value."
      ]
    },
    {
      "cell_type": "code",
      "metadata": {
        "id": "hMjpu20r0W5P",
        "colab": {
          "base_uri": "https://localhost:8080/"
        },
        "outputId": "0112f12f-8a5a-4175-aed2-6021c7f43c98"
      },
      "source": [
        "yt = f(xt)\n",
        "yt"
      ],
      "execution_count": 47,
      "outputs": [
        {
          "output_type": "execute_result",
          "data": {
            "text/plain": [
              "tensor(9., grad_fn=<PowBackward0>)"
            ]
          },
          "metadata": {
            "tags": []
          },
          "execution_count": 47
        }
      ]
    },
    {
      "cell_type": "markdown",
      "metadata": {
        "id": "L11IKA2_1fzS"
      },
      "source": [
        "- Finally, we tell PyTorch to calculate the gradient for us"
      ]
    },
    {
      "cell_type": "code",
      "metadata": {
        "id": "XaodCS0Z1b9s"
      },
      "source": [
        "yt.backward()"
      ],
      "execution_count": 48,
      "outputs": []
    },
    {
      "cell_type": "markdown",
      "metadata": {
        "id": "iuMhNYlb13pg"
      },
      "source": [
        "- `backward()` refers to `back propagation` which is the name given to the process of calculating the derivative of each layer.\n",
        "\n",
        "- We can now view the gradients by checking the `grad` attribute of our tensor"
      ]
    },
    {
      "cell_type": "code",
      "metadata": {
        "id": "EW_YsswI2LSn",
        "colab": {
          "base_uri": "https://localhost:8080/"
        },
        "outputId": "024660ba-670f-44d5-8af0-3d64d4ce8f51"
      },
      "source": [
        "xt.grad"
      ],
      "execution_count": 49,
      "outputs": [
        {
          "output_type": "execute_result",
          "data": {
            "text/plain": [
              "tensor(6.)"
            ]
          },
          "metadata": {
            "tags": []
          },
          "execution_count": 49
        }
      ]
    },
    {
      "cell_type": "code",
      "metadata": {
        "id": "XUsIPryC1nJ0",
        "colab": {
          "base_uri": "https://localhost:8080/"
        },
        "outputId": "5cfe2d8a-2159-405f-c240-b9d5b30eb557"
      },
      "source": [
        "xt = tensor([3.,4.,10.]).requires_grad_()\n",
        "xt"
      ],
      "execution_count": 50,
      "outputs": [
        {
          "output_type": "execute_result",
          "data": {
            "text/plain": [
              "tensor([ 3.,  4., 10.], requires_grad=True)"
            ]
          },
          "metadata": {
            "tags": []
          },
          "execution_count": 50
        }
      ]
    },
    {
      "cell_type": "code",
      "metadata": {
        "id": "lxhrSc6-2l7g",
        "colab": {
          "base_uri": "https://localhost:8080/"
        },
        "outputId": "83972061-d3af-47a3-e85d-01417fb50244"
      },
      "source": [
        "def f(x): return (x**2).sum()\n",
        "\n",
        "yt = f(xt)\n",
        "yt"
      ],
      "execution_count": 51,
      "outputs": [
        {
          "output_type": "execute_result",
          "data": {
            "text/plain": [
              "tensor(125., grad_fn=<SumBackward0>)"
            ]
          },
          "metadata": {
            "tags": []
          },
          "execution_count": 51
        }
      ]
    },
    {
      "cell_type": "markdown",
      "metadata": {
        "id": "VI1878Nx2zM1"
      },
      "source": [
        "- Our gradients are 2*x as expected"
      ]
    },
    {
      "cell_type": "code",
      "metadata": {
        "id": "qUGDA3LY2tlO",
        "colab": {
          "base_uri": "https://localhost:8080/"
        },
        "outputId": "ccccb06e-026b-46ec-c18b-0544a1d83a51"
      },
      "source": [
        "yt.backward()\n",
        "xt.grad"
      ],
      "execution_count": 52,
      "outputs": [
        {
          "output_type": "execute_result",
          "data": {
            "text/plain": [
              "tensor([ 6.,  8., 20.])"
            ]
          },
          "metadata": {
            "tags": []
          },
          "execution_count": 52
        }
      ]
    },
    {
      "cell_type": "markdown",
      "metadata": {
        "id": "ispiB1NH3E6Y"
      },
      "source": [
        "- The gradient only tells us the slope of our function, it doesn't actually tell us exactly how far to adjust the parameters.\n",
        "\n",
        "- It gives us some idea of how far, if the slope is very large it suggests that we have more adjustments to do.\n",
        "\n",
        "- Whereas if the slope is very small it may suggest that we are close to the optimal value."
      ]
    },
    {
      "cell_type": "markdown",
      "metadata": {
        "id": "Hauqyr1W2rkU"
      },
      "source": [
        "## Stepping with a learning rate\n",
        "\n",
        "- Deciding how to change our parameters based on the value of the gradients is an important part of the deep learning process.\n",
        "\n",
        "- Nearly all approaches start with the basic idea of multiplying the gradient by some small number called the `learning rate (LR)`.\n",
        "\n",
        "- People often select a learning rate just by trying a few numbers and finding which one results in the best model after training. The learning rate is often a number between 0.001 and 0.1, although it could be any number.\n",
        "\n",
        "- Once you've picked your learning rate, you can adjust your parameters using this function:\n",
        "  ```\n",
        "  w -= gradient(w) * lr\n",
        "  ```\n",
        "\n",
        "- This is known as `stepping` your parameters using an `optimizer step`.\n",
        "\n",
        "- If you pick a learning rate that's too low it can mean having to do a lot of steps.\n",
        "\n",
        "- Picking a learning rate that's too high is even worse, it can result in the loss getting worse or it may bounce around rather than actually diverging."
      ]
    },
    {
      "cell_type": "markdown",
      "metadata": {
        "id": "l-xLGznn47XU"
      },
      "source": [
        "## An end-to-end SGD example\n",
        "\n",
        "- Let's look at an SGD example and see how finding a minimum can be used to train a model to fit data better.\n",
        "\n",
        "- Imagine you were measuring the speed of a roller coaster as it went over the top of a hump. It would start fast, and then get slower as it went up the hill, and then would be slowest at the top, and it would speed up as it went down the hill. You want to build a model of how the speed changes over time. If you're measuring the speed manually every second for 20 seconds, it might look something like this"
      ]
    },
    {
      "cell_type": "code",
      "metadata": {
        "id": "I9OIqFKk26V2",
        "colab": {
          "base_uri": "https://localhost:8080/"
        },
        "outputId": "f4b16102-03a2-45f0-ee14-4db711bf4f6f"
      },
      "source": [
        "time = torch.arange(0,20).float(); time"
      ],
      "execution_count": 53,
      "outputs": [
        {
          "output_type": "execute_result",
          "data": {
            "text/plain": [
              "tensor([ 0.,  1.,  2.,  3.,  4.,  5.,  6.,  7.,  8.,  9., 10., 11., 12., 13., 14., 15., 16., 17., 18., 19.])"
            ]
          },
          "metadata": {
            "tags": []
          },
          "execution_count": 53
        }
      ]
    },
    {
      "cell_type": "code",
      "metadata": {
        "id": "XH8Qk3LV5y42",
        "colab": {
          "base_uri": "https://localhost:8080/",
          "height": 285
        },
        "outputId": "f7a80fd2-5772-40c0-d49e-fb3c9b03ac46"
      },
      "source": [
        "# torch.randn(20)*3 adds a random number to every observation since measuring things manually isn't precise\n",
        "# The speed is calculated as the result of a quadratic function\n",
        "speed = torch.randn(20)*3 + 0.75*(time - 9.5)**2 + 1\n",
        "plt.scatter(time, speed)"
      ],
      "execution_count": 54,
      "outputs": [
        {
          "output_type": "execute_result",
          "data": {
            "text/plain": [
              "<matplotlib.collections.PathCollection at 0x7f5fa91a4fd0>"
            ]
          },
          "metadata": {
            "tags": []
          },
          "execution_count": 54
        },
        {
          "output_type": "display_data",
          "data": {
            "image/png": "[encoded data removed]",
            "text/plain": [
              "<Figure size 432x288 with 1 Axes>"
            ]
          },
          "metadata": {
            "tags": [],
            "needs_background": "light"
          }
        }
      ]
    },
    {
      "cell_type": "markdown",
      "metadata": {
        "id": "gbZsuVJ9mefe"
      },
      "source": [
        "- ```torch.randn(20)*3``` adds a bit of random noise since measuring things manually isn't precise.\n",
        "\n",
        "- Using SGD we can try to find a function that matches our observations.\n",
        "\n",
        "- We can't consider every possible function, so let's use a guess that it'll be quadratic, i.e. a function of the form `a*(time**2) + (b*time) + c`.\n",
        "\n",
        "- We want to distinguish clearly between the functions input (the time we're measuring the coaster's speed) and its parameters (the values that define which quadratic we're trying).\n",
        "\n",
        "- Let's collect the parameters in one argument and thus separate the input `t` and the parameter `params` in the function's signature."
      ]
    },
    {
      "cell_type": "code",
      "metadata": {
        "id": "sBVe356Eluyg"
      },
      "source": [
        "def f(t, params):\n",
        "  a,b,c = params\n",
        "  return a*(t**2) + (b*t) + c"
      ],
      "execution_count": 55,
      "outputs": []
    },
    {
      "cell_type": "markdown",
      "metadata": {
        "id": "3xO6NxxFnwR1"
      },
      "source": [
        "- We've restricted the problem of finding the best imaginable function that fits the data to finding the best quadratic function.\n",
        "\n",
        "- This greatly simplifies the problem, since every quadratic function is fully defined by the three parameters `a`, `b`, and `c`.\n",
        "\n",
        "- To find the best quadratic function, we need to find the best values for `a`, `b`, and `c`.\n",
        "\n",
        "- If we can solve the problem for the three parameters of the quadratic function, we'll be able to apply the same approach for other more complex functions with more parameters such as a neural net.\n",
        "\n",
        "- We need to define what we mean by \"best\". We define this precisely by choosing a *loss function*, which will return a value based on a prediction and a target, where lower values of the function correspond to \"better\" predictions.\n",
        "\n",
        "- For continuous data, it's common to use *mean squared error*"
      ]
    },
    {
      "cell_type": "code",
      "metadata": {
        "id": "moj8lmf_l0B8"
      },
      "source": [
        "def mse(preds, targets): return ((preds - targets)**2).mean()"
      ],
      "execution_count": 56,
      "outputs": []
    },
    {
      "cell_type": "markdown",
      "metadata": {
        "id": "twDAAQ_6iRpI"
      },
      "source": [
        "- Let's work through our 7 step process:\n",
        "\n",
        "**Step 1**:\n",
        "- Initialize parameters to random values and tell PyTorch that we want to track their gradient using `requires_grad_`"
      ]
    },
    {
      "cell_type": "code",
      "metadata": {
        "id": "VFhet4a9pZrt"
      },
      "source": [
        "params = torch.randn(3).requires_grad_()"
      ],
      "execution_count": 57,
      "outputs": []
    },
    {
      "cell_type": "code",
      "metadata": {
        "id": "ykkgLWlqisCD"
      },
      "source": [
        "orig_params = params.clone()"
      ],
      "execution_count": 58,
      "outputs": []
    },
    {
      "cell_type": "markdown",
      "metadata": {
        "id": "riD9Kkx2iwHo"
      },
      "source": [
        "**Step 2:**\n",
        "- Calculate the predictions"
      ]
    },
    {
      "cell_type": "code",
      "metadata": {
        "id": "2Ah0Aan_iur2",
        "colab": {
          "base_uri": "https://localhost:8080/"
        },
        "outputId": "c5dc7fda-dedf-4097-c34c-dfebf48aa50e"
      },
      "source": [
        "preds = f(time, params)\n",
        "preds"
      ],
      "execution_count": 59,
      "outputs": [
        {
          "output_type": "execute_result",
          "data": {
            "text/plain": [
              "tensor([ 1.3525e+00, -1.6391e-01, -3.2121e+00, -7.7919e+00, -1.3903e+01, -2.1547e+01, -3.0721e+01, -4.1428e+01, -5.3666e+01, -6.7436e+01, -8.2738e+01, -9.9571e+01, -1.1794e+02, -1.3783e+02,\n",
              "        -1.5926e+02, -1.8222e+02, -2.0671e+02, -2.3274e+02, -2.6029e+02, -2.8938e+02], grad_fn=<AddBackward0>)"
            ]
          },
          "metadata": {
            "tags": []
          },
          "execution_count": 59
        }
      ]
    },
    {
      "cell_type": "markdown",
      "metadata": {
        "id": "q1QWqESjjAko"
      },
      "source": [
        "- Let's create a little function to see how close our predictions are to our targets and take a look."
      ]
    },
    {
      "cell_type": "code",
      "metadata": {
        "id": "VVcmMLNgi_7t"
      },
      "source": [
        "def show_preds(preds, ax=None):\n",
        "  if ax is None: ax = plt.subplots()[1]\n",
        "  ax.scatter(time, speed)\n",
        "  ax.scatter(time, to_np(preds), color='red')\n",
        "  ax.set_ylim(-300, 100)"
      ],
      "execution_count": 60,
      "outputs": []
    },
    {
      "cell_type": "code",
      "metadata": {
        "id": "LXn_oKi1jXuc",
        "colab": {
          "base_uri": "https://localhost:8080/",
          "height": 273
        },
        "outputId": "966b6ea7-39f2-4d61-a5b2-a78c1a261ac2"
      },
      "source": [
        "show_preds(preds)"
      ],
      "execution_count": 61,
      "outputs": [
        {
          "output_type": "display_data",
          "data": {
            "image/png": "[encoded data removed]",
            "text/plain": [
              "<Figure size 432x288 with 1 Axes>"
            ]
          },
          "metadata": {
            "tags": [],
            "needs_background": "light"
          }
        }
      ]
    },
    {
      "cell_type": "markdown",
      "metadata": {
        "id": "R2j2nsH_jgbS"
      },
      "source": [
        "- This doesn't look very close -- our random parameters suggest that the roller coaster will end up going backwards since we have negative speeds"
      ]
    },
    {
      "cell_type": "markdown",
      "metadata": {
        "id": "y4qeVLB3jsbl"
      },
      "source": [
        "**Step 3:**\n",
        "- Calculate the loss"
      ]
    },
    {
      "cell_type": "code",
      "metadata": {
        "id": "GHiQ309Rjc-8",
        "colab": {
          "base_uri": "https://localhost:8080/"
        },
        "outputId": "c8829746-47dc-4de8-edbf-dec62934503c"
      },
      "source": [
        "loss = mse(preds, speed)\n",
        "loss"
      ],
      "execution_count": 62,
      "outputs": [
        {
          "output_type": "execute_result",
          "data": {
            "text/plain": [
              "tensor(25823.8086, grad_fn=<MeanBackward0>)"
            ]
          },
          "metadata": {
            "tags": []
          },
          "execution_count": 62
        }
      ]
    },
    {
      "cell_type": "markdown",
      "metadata": {
        "id": "x7S_QusHkHAL"
      },
      "source": [
        "- Our goal is to improve this. To do that we'll need the gradients"
      ]
    },
    {
      "cell_type": "markdown",
      "metadata": {
        "id": "8u_oLkbJkNJG"
      },
      "source": [
        "**Step 4:**\n",
        "- Calculate the gradients (an approximation of how the parameters need to change)."
      ]
    },
    {
      "cell_type": "code",
      "metadata": {
        "id": "_KRfd2eVj5_i",
        "colab": {
          "base_uri": "https://localhost:8080/"
        },
        "outputId": "7041b780-61e8-4aee-bd85-f1a016fe452f"
      },
      "source": [
        "loss.backward()\n",
        "params.grad"
      ],
      "execution_count": 63,
      "outputs": [
        {
          "output_type": "execute_result",
          "data": {
            "text/plain": [
              "tensor([-53195.8633,  -3419.7148,   -253.8908])"
            ]
          },
          "metadata": {
            "tags": []
          },
          "execution_count": 63
        }
      ]
    },
    {
      "cell_type": "markdown",
      "metadata": {
        "id": "pIR8qxnpkkgY"
      },
      "source": [
        "- We pick a learning rate of $10^{-5}$"
      ]
    },
    {
      "cell_type": "code",
      "metadata": {
        "id": "b8OU7LB7kitF",
        "colab": {
          "base_uri": "https://localhost:8080/"
        },
        "outputId": "3429be7c-4ac0-451f-fb90-189fb1acf13b"
      },
      "source": [
        "params.grad * 1e-5"
      ],
      "execution_count": 64,
      "outputs": [
        {
          "output_type": "execute_result",
          "data": {
            "text/plain": [
              "tensor([-0.5320, -0.0342, -0.0025])"
            ]
          },
          "metadata": {
            "tags": []
          },
          "execution_count": 64
        }
      ]
    },
    {
      "cell_type": "markdown",
      "metadata": {
        "id": "voo4ddlDk0wV"
      },
      "source": [
        "- We can use these gradients to improve our parameters"
      ]
    },
    {
      "cell_type": "code",
      "metadata": {
        "id": "1HoSFQG9kzaQ",
        "colab": {
          "base_uri": "https://localhost:8080/"
        },
        "outputId": "dda4e337-0c2f-4605-a61e-ceee8f7cb62f"
      },
      "source": [
        "params"
      ],
      "execution_count": 65,
      "outputs": [
        {
          "output_type": "execute_result",
          "data": {
            "text/plain": [
              "tensor([-0.7658, -0.7506,  1.3525], requires_grad=True)"
            ]
          },
          "metadata": {
            "tags": []
          },
          "execution_count": 65
        }
      ]
    },
    {
      "cell_type": "markdown",
      "metadata": {
        "id": "gxLHOu13lC6d"
      },
      "source": [
        "**Step 5:**\n",
        "- Step the weights (update the parameters based on the gradients we just calculated)\n",
        "\n",
        "- We use the `.data` attribute in PyTorch to make sure that the gradient isn't calculated of the actual step we're doing.\n",
        "\n",
        "- The gradient should only be calculate of the function `f`."
      ]
    },
    {
      "cell_type": "code",
      "metadata": {
        "id": "m5JOzd4Dk-6Z"
      },
      "source": [
        "lr = 1e-5\n",
        "params.data -= lr * params.grad.data\n",
        "params.grad = None  # remove the gradients previously calculated."
      ],
      "execution_count": 66,
      "outputs": []
    },
    {
      "cell_type": "markdown",
      "metadata": {
        "id": "FlFGbq3FmOeA"
      },
      "source": [
        "- Let's see if the loss improved"
      ]
    },
    {
      "cell_type": "code",
      "metadata": {
        "id": "ofgmUqC5mNpR",
        "colab": {
          "base_uri": "https://localhost:8080/"
        },
        "outputId": "41cba223-fec8-4160-b71e-769194747936"
      },
      "source": [
        "preds = f(time, params)\n",
        "mse(preds, speed)"
      ],
      "execution_count": 67,
      "outputs": [
        {
          "output_type": "execute_result",
          "data": {
            "text/plain": [
              "tensor(5435.5356, grad_fn=<MeanBackward0>)"
            ]
          },
          "metadata": {
            "tags": []
          },
          "execution_count": 67
        }
      ]
    },
    {
      "cell_type": "markdown",
      "metadata": {
        "id": "4SYgu8aCmWdu"
      },
      "source": [
        "- We notice that the loss has indeed reduced from the initial calculation.\n",
        "\n",
        "- We also plot the function"
      ]
    },
    {
      "cell_type": "code",
      "metadata": {
        "id": "8P_3APoxmVNk",
        "colab": {
          "base_uri": "https://localhost:8080/",
          "height": 273
        },
        "outputId": "df25700b-b5b2-420a-b2ba-189062e46790"
      },
      "source": [
        "show_preds(preds)"
      ],
      "execution_count": 68,
      "outputs": [
        {
          "output_type": "display_data",
          "data": {
            "image/png": "[encoded data removed]",
            "text/plain": [
              "<Figure size 432x288 with 1 Axes>"
            ]
          },
          "metadata": {
            "tags": [],
            "needs_background": "light"
          }
        }
      ]
    },
    {
      "cell_type": "markdown",
      "metadata": {
        "id": "Ohq8LRzSmnBO"
      },
      "source": [
        "- The plot has also improved.\n",
        "\n",
        "- We need to repeat this a few times, so we'll create a function to apply one step."
      ]
    },
    {
      "cell_type": "code",
      "metadata": {
        "id": "dwECke1omhQS"
      },
      "source": [
        "def apply_step(params, prn=True):\n",
        "  preds = f(time, params)\n",
        "  loss = mse(preds, speed)\n",
        "  loss.backward()\n",
        "  params.data -= lr * params.grad.data\n",
        "  params.grad = None\n",
        "  if prn: print(loss.item())\n",
        "  return preds"
      ],
      "execution_count": 69,
      "outputs": []
    },
    {
      "cell_type": "markdown",
      "metadata": {
        "id": "qi9hI9jgnFee"
      },
      "source": [
        "**Step 6:**\n",
        "- We repeat the process.\n",
        "\n",
        "- By looping and performing many improvements, we hope to reach a good result."
      ]
    },
    {
      "cell_type": "code",
      "metadata": {
        "id": "SwF1Vbw8nFHB",
        "colab": {
          "base_uri": "https://localhost:8080/"
        },
        "outputId": "ebca2053-a872-44db-c2ba-0ca1c1b6c1bf"
      },
      "source": [
        "for i in range(10): apply_step(params)"
      ],
      "execution_count": 70,
      "outputs": [
        {
          "output_type": "stream",
          "text": [
            "5435.53564453125\n",
            "1577.44921875\n",
            "847.3778076171875\n",
            "709.2225341796875\n",
            "683.0758056640625\n",
            "678.1243896484375\n",
            "677.1838989257812\n",
            "677.0023803710938\n",
            "676.9645385742188\n",
            "676.9537353515625\n"
          ],
          "name": "stdout"
        }
      ]
    },
    {
      "cell_type": "code",
      "metadata": {
        "id": "KOfsq7Y_nTO4"
      },
      "source": [
        "params = orig_params.detach().requires_grad_()"
      ],
      "execution_count": 71,
      "outputs": []
    },
    {
      "cell_type": "markdown",
      "metadata": {
        "id": "1Hpto2dEnbOa"
      },
      "source": [
        "- The loss is going down just as we'd hoped.\n",
        "\n",
        "- Looking only at the loss disguises the fact that each iteration represents an entirely different quadratic function being tried on the way to find the best possible quadratic function.\n",
        "\n",
        "- We can see this process visually if, instead of printing out the loss, we plot the function at every step.\n",
        "\n",
        "- Then we can see how the shape is approaching the best possible quadratic function for our data."
      ]
    },
    {
      "cell_type": "code",
      "metadata": {
        "id": "Tz1061JpnazX",
        "colab": {
          "base_uri": "https://localhost:8080/",
          "height": 221
        },
        "outputId": "fb7e5a95-9ca9-459d-f900-684a777e2967"
      },
      "source": [
        "_, axs = plt.subplots(1, 4, figsize=(12,3))\n",
        "for ax in axs: show_preds(apply_step(params, False), ax)\n",
        "plt.tight_layout()"
      ],
      "execution_count": 72,
      "outputs": [
        {
          "output_type": "display_data",
          "data": {
            "image/png": "[encoded data removed]",
            "text/plain": [
              "<Figure size 864x216 with 4 Axes>"
            ]
          },
          "metadata": {
            "tags": [],
            "needs_background": "light"
          }
        }
      ]
    },
    {
      "cell_type": "markdown",
      "metadata": {
        "id": "H4CwUzWZoazB"
      },
      "source": [
        "**Step 7:**\n",
        "\n",
        "- Stop.\n",
        "\n",
        "- We decided to stop arbitrarily after 10 epochs.\n",
        "\n",
        "- In practice, we watch the training and validation losses and our metrics decide when to stop."
      ]
    },
    {
      "cell_type": "markdown",
      "metadata": {
        "id": "wvyTyyyLosaQ"
      },
      "source": [
        "# MNIST loss function\n",
        "\n",
        "- We need gradients in order to improve our model using SGD, and in order to calculate gradients, we need some loss function that represents how good our model is.\n",
        "\n",
        "- Gradients are a measure of how that loss function changes with small tweaks to the weights.\n",
        "\n",
        "- In choosing a loss function, the obvious approach would be to use accuracy, which is our metric, as our loss function as well.\n",
        "\n",
        "- In this case, we would calculate our prediction for each image, collect these values to calculate an overall accuracy, and then calculate the gradients of each weight with respect to the overall accuracy.\n",
        "\n",
        "- The gradient of a function is how much the value of a function goes up or down divided by how much you changed the inputs.\n",
        "\n",
        "- Accuracy only changes when a prediction changes from a 3 to a 7 or vice versa meaning that a small change in weights isn't likely to cause any prediction change.\n",
        "\n",
        "- Therefore the problem with accuracy is that the gradient will be zero almost everywhere because a very small change in the value of a weight will often not change the accuracy at all.\n",
        "\n",
        "- This makes accuracy a poor choice as a loss function because with the gradients as zero the model is unable to learn from that number.\n",
        "\n",
        "- We need a loss function which, when our weights result in slightly better predictions, gives us a slightly better loss.\n",
        "\n",
        "- We already have our `x`'s i.e. the images themselves.\n",
        "\n",
        "- We'll concatenate them into a single tensor using `torch.cat()`, and also change them from a list of matrices (rank 3 tensor) to a list of vectors (rank 2 tensor) using the `view` method.\n",
        "\n",
        "- `view` is a PyTorch method that changes the shape of a tensor without changing its contents.\n",
        "\n",
        "- `-1` is a special parameter to `view` that means make this axis as big as necessary to fit all the data"
      ]
    },
    {
      "cell_type": "code",
      "metadata": {
        "id": "dV2pYecuoV7V"
      },
      "source": [
        "# view(-1, 28*28) -> put everything in as many rows of length 28*28 as is necessary\n",
        "train_x = torch.cat([stacked_threes, stacked_sevens]).view(-1, 28*28)"
      ],
      "execution_count": 73,
      "outputs": []
    },
    {
      "cell_type": "markdown",
      "metadata": {
        "id": "-DzENEn27GzQ"
      },
      "source": [
        "- We need a label for each. We'll use 1 for threes and 0 for sevens"
      ]
    },
    {
      "cell_type": "code",
      "metadata": {
        "id": "y88ed6os7GQr",
        "colab": {
          "base_uri": "https://localhost:8080/"
        },
        "outputId": "b000f815-8fef-482d-ce81-4eb7f1671bca"
      },
      "source": [
        "# unsqueeze(1) create a matrix with one column\n",
        "train_y = tensor([1] * len(threes) + [0] * len(sevens)).unsqueeze(1)\n",
        "train_x.shape, train_y.shape"
      ],
      "execution_count": 74,
      "outputs": [
        {
          "output_type": "execute_result",
          "data": {
            "text/plain": [
              "(torch.Size([12396, 784]), torch.Size([12396, 1]))"
            ]
          },
          "metadata": {
            "tags": []
          },
          "execution_count": 74
        }
      ]
    },
    {
      "cell_type": "markdown",
      "metadata": {
        "id": "DrqEFe_z7g-z"
      },
      "source": [
        "- A dataset in PyTorch is required to return a tuple of (x, y) when indexed.\n",
        "\n",
        "- Python provides a `zip` function which when combined with a list, provides a simple way to get this functionality."
      ]
    },
    {
      "cell_type": "code",
      "metadata": {
        "id": "OGdQVWNA7cov",
        "colab": {
          "base_uri": "https://localhost:8080/"
        },
        "outputId": "c51c04bb-f560-4403-c9d3-84ebfec06923"
      },
      "source": [
        "dset = list(zip(train_x, train_y))\n",
        "x,y = dset[0]  # destructuring the tuple\n",
        "x.shape, y"
      ],
      "execution_count": 75,
      "outputs": [
        {
          "output_type": "execute_result",
          "data": {
            "text/plain": [
              "(torch.Size([784]), tensor([1]))"
            ]
          },
          "metadata": {
            "tags": []
          },
          "execution_count": 75
        }
      ]
    },
    {
      "cell_type": "code",
      "metadata": {
        "id": "ORzCY1Xk75eC"
      },
      "source": [
        "valid_x = torch.cat([valid_3_tens, valid_7_tens]).view(-1, 28*28)\n",
        "valid_y = tensor([1] * len(valid_3_tens) + [0] * len(valid_7_tens)).unsqueeze(1)\n",
        "valid_dset = list(zip(valid_x, valid_y))"
      ],
      "execution_count": 76,
      "outputs": []
    },
    {
      "cell_type": "markdown",
      "metadata": {
        "id": "NIviZEgxwbu0"
      },
      "source": [
        "- We initialize a random weight for every pixel"
      ]
    },
    {
      "cell_type": "code",
      "metadata": {
        "id": "dOO7z9H1_OXz"
      },
      "source": [
        "def init_params(size, std=1.0): return (torch.randn(size)*std).requires_grad_()"
      ],
      "execution_count": 77,
      "outputs": []
    },
    {
      "cell_type": "code",
      "metadata": {
        "colab": {
          "base_uri": "https://localhost:8080/"
        },
        "id": "mpjlWGFz4C_L",
        "outputId": "c68a642b-7997-4307-a3ef-965f8a5ff27b"
      },
      "source": [
        "torch.randn(3)"
      ],
      "execution_count": 78,
      "outputs": [
        {
          "output_type": "execute_result",
          "data": {
            "text/plain": [
              "tensor([ 0.6863, -0.3278,  0.7950])"
            ]
          },
          "metadata": {
            "tags": []
          },
          "execution_count": 78
        }
      ]
    },
    {
      "cell_type": "code",
      "metadata": {
        "colab": {
          "base_uri": "https://localhost:8080/"
        },
        "id": "Te2YUkSh36-i",
        "outputId": "035e4601-41d2-4f7d-8830-54ab77e07a9d"
      },
      "source": [
        "torch.randn((3,1))"
      ],
      "execution_count": 79,
      "outputs": [
        {
          "output_type": "execute_result",
          "data": {
            "text/plain": [
              "tensor([[0.2815],\n",
              "        [0.0562],\n",
              "        [0.5227]])"
            ]
          },
          "metadata": {
            "tags": []
          },
          "execution_count": 79
        }
      ]
    },
    {
      "cell_type": "code",
      "metadata": {
        "id": "F4jJR1TTwtBj"
      },
      "source": [
        "weights = init_params((28*28, 1))  # the 1 tells Pytorch that we want the results as a column"
      ],
      "execution_count": 80,
      "outputs": []
    },
    {
      "cell_type": "markdown",
      "metadata": {
        "id": "dtTgJMSMw_2W"
      },
      "source": [
        "- The function `weights*pixels` won't be flexible enough.\n",
        "\n",
        "- It's always equal to zero when the pixels are equal to zero i.e. its intercept is zero.\n",
        "\n",
        "- The formula for a line is `y=w*x_b`; we still need the b"
      ]
    },
    {
      "cell_type": "code",
      "metadata": {
        "id": "CjhjGU_bwzBa"
      },
      "source": [
        "bias = init_params(1)"
      ],
      "execution_count": 81,
      "outputs": []
    },
    {
      "cell_type": "code",
      "metadata": {
        "id": "HZzR_CzCxZd5",
        "colab": {
          "base_uri": "https://localhost:8080/"
        },
        "outputId": "6402fc1a-f5eb-4e21-af7e-6024457a9d2a"
      },
      "source": [
        "bias"
      ],
      "execution_count": 82,
      "outputs": [
        {
          "output_type": "execute_result",
          "data": {
            "text/plain": [
              "tensor([-0.2384], requires_grad=True)"
            ]
          },
          "metadata": {
            "tags": []
          },
          "execution_count": 82
        }
      ]
    },
    {
      "cell_type": "markdown",
      "metadata": {
        "id": "5lcjKJKnyrJr"
      },
      "source": [
        "- In neural networks, the `w` in the equation `y=w*x+b` is called the *weights* and `b` is called the *bias*.\n",
        "\n",
        "- Together, the weights and bias make up the parameters.\n",
        "\n",
        "- We can now calculate the prediction for one image."
      ]
    },
    {
      "cell_type": "code",
      "metadata": {
        "id": "y906iKDIxaPX",
        "colab": {
          "base_uri": "https://localhost:8080/"
        },
        "outputId": "92885f22-f7f3-4317-d251-62f3476664c7"
      },
      "source": [
        "(train_x[0]*weights.T).sum() + bias"
      ],
      "execution_count": 83,
      "outputs": [
        {
          "output_type": "execute_result",
          "data": {
            "text/plain": [
              "tensor([21.2574], grad_fn=<AddBackward0>)"
            ]
          },
          "metadata": {
            "tags": []
          },
          "execution_count": 83
        }
      ]
    },
    {
      "cell_type": "markdown",
      "metadata": {
        "id": "m36OafDr0YQ0"
      },
      "source": [
        "- We don't use a python for loop to calculate the prediction of each image.\n",
        "\n",
        "- This is because for loops are very slow and don't run on the GPU.\n",
        "\n",
        "- We need to represent as much of the computation in a model as possible using higher-level functions\n",
        "\n",
        "- We can use *matrix multiplication* to calculate `w*x` for every row of a matrix.\n",
        "\n",
        "- In Python, matrix multiplication is represented with the `@` operator"
      ]
    },
    {
      "cell_type": "code",
      "metadata": {
        "id": "pu_dKH5Fzm1Y",
        "colab": {
          "base_uri": "https://localhost:8080/"
        },
        "outputId": "7cc6741b-5b14-439c-bb2d-c5e0b7f688d5"
      },
      "source": [
        "def linear1(xb): return xb@weights + bias\n",
        "preds = linear1(train_x)\n",
        "preds"
      ],
      "execution_count": 84,
      "outputs": [
        {
          "output_type": "execute_result",
          "data": {
            "text/plain": [
              "tensor([[21.2574],\n",
              "        [10.8843],\n",
              "        [18.9925],\n",
              "        ...,\n",
              "        [ 6.1623],\n",
              "        [ 7.2080],\n",
              "        [-0.1182]], grad_fn=<AddBackward0>)"
            ]
          },
          "metadata": {
            "tags": []
          },
          "execution_count": 84
        }
      ]
    },
    {
      "cell_type": "markdown",
      "metadata": {
        "id": "KSvhG8LFr1yd"
      },
      "source": [
        "- The `batch@weights + bias` equation is one of the two fundamental equations of any neural network (the other one is the *activation function*).\n",
        "\n",
        "- To decide if an output represents a 3 or a 7, we can just check if its greater than zero.\n",
        "\n",
        "- Our accuracy for each item can be calculated with:"
      ]
    },
    {
      "cell_type": "code",
      "metadata": {
        "id": "iy7vwCOerj7i",
        "colab": {
          "base_uri": "https://localhost:8080/"
        },
        "outputId": "797cadc7-f307-4761-a333-9e7436175a12"
      },
      "source": [
        "corrects = (preds>0.0).float() == train_y  # broadcasting\n",
        "corrects"
      ],
      "execution_count": 85,
      "outputs": [
        {
          "output_type": "execute_result",
          "data": {
            "text/plain": [
              "tensor([[ True],\n",
              "        [ True],\n",
              "        [ True],\n",
              "        ...,\n",
              "        [False],\n",
              "        [False],\n",
              "        [ True]])"
            ]
          },
          "metadata": {
            "tags": []
          },
          "execution_count": 85
        }
      ]
    },
    {
      "cell_type": "code",
      "metadata": {
        "id": "mpO2O8gNsfUs",
        "colab": {
          "base_uri": "https://localhost:8080/"
        },
        "outputId": "1bb9e815-6f51-4e83-89b4-5d459a2319fc"
      },
      "source": [
        "# .item() unwraps a tensor to create a normal python scalar\n",
        "corrects.float().mean().item()"
      ],
      "execution_count": 86,
      "outputs": [
        {
          "output_type": "execute_result",
          "data": {
            "text/plain": [
              "0.5004033446311951"
            ]
          },
          "metadata": {
            "tags": []
          },
          "execution_count": 86
        }
      ]
    },
    {
      "cell_type": "markdown",
      "metadata": {
        "id": "loFl_OkptTAs"
      },
      "source": [
        "- Our randomly initialized model is right about half the time at predicting 3's from 7's\n",
        "\n",
        "- Let's see what the change in accuracy is for a small change in one of the weights."
      ]
    },
    {
      "cell_type": "code",
      "metadata": {
        "id": "8tiAIctqtJac"
      },
      "source": [
        "weights[0].data *= 1.0001"
      ],
      "execution_count": 87,
      "outputs": []
    },
    {
      "cell_type": "code",
      "metadata": {
        "id": "wCsR-i7ttz4M",
        "colab": {
          "base_uri": "https://localhost:8080/"
        },
        "outputId": "ba62719b-5af1-4321-b5cd-95fcd53cdb17"
      },
      "source": [
        "preds = linear1(train_x)\n",
        "((preds>0.0).float() == train_y).float().mean().item()"
      ],
      "execution_count": 88,
      "outputs": [
        {
          "output_type": "execute_result",
          "data": {
            "text/plain": [
              "0.5004033446311951"
            ]
          },
          "metadata": {
            "tags": []
          },
          "execution_count": 88
        }
      ]
    },
    {
      "cell_type": "markdown",
      "metadata": {
        "id": "f7ZkXLF2uJSw"
      },
      "source": [
        "- We get back the exact same figure.\n",
        "\n",
        "- We can see that we need gradients in order to improve our model using SGD, and in order to calculate gradients we need some *loss function* that represents how good our model is.\n",
        "\n",
        "- Gradients are a measure of how that loss function changes with small tweaks to the weights.\n",
        "\n",
        "- Accuracy as a loss function will not be useful in this case, due to the gradient being zero most of the time.\n",
        "\n",
        "- We need a loss function which, when our weights result in slightly better predictions, gives us a better loss.\n",
        "\n",
        "- The loss function receives not the images themselves, but the prediction from the model.\n",
        "\n",
        "- One of the arguments to the loss function will be `predictions`, a vector (rank-1 tensor), indexed over the images, of values between 0 and 1, where each value is the prediction indicating how likely the component's image is a 3.\n",
        "\n",
        "- The purpose of the loss function is to measure the difference between predicted values and true values (labels/targets).\n",
        "\n",
        "- The loss will be smaller i.e. better when the predictions are closer to the targets.\n",
        "\n",
        "- Another argument to the loss function will be the `targets`, a vector indexed over the images, with a value of 0 or 1 that tells us whether the image is actually a 3.\n",
        "\n",
        "- For example, let's say we had three images of a 3, a 7 and a 3. Suppose our model predicted with high confidence the first was a 3, slight confidence the second was a 7 and fair confidence (incorrectly) that the last was a 7. This would mean our loss function would receive these values as inputs:"
      ]
    },
    {
      "cell_type": "code",
      "metadata": {
        "id": "vtH9N9NyuB9u"
      },
      "source": [
        "trgts = tensor([1,0,1])\n",
        "prds = tensor([0.9, 0.4, 0.2])"
      ],
      "execution_count": 89,
      "outputs": []
    },
    {
      "cell_type": "markdown",
      "metadata": {
        "id": "VF5EokKVxh9v"
      },
      "source": [
        "- Here's a first try at a loss function that measures the distance between predictions and targets:"
      ]
    },
    {
      "cell_type": "code",
      "metadata": {
        "id": "2BKMGRAYxhFR"
      },
      "source": [
        "def mnist_loss(predictions, targets):\n",
        "  \"\"\"Return 1-predictions where targets==1 and predictions where targets==0\"\"\"\n",
        "  return torch.where(targets==1, 1-predictions, predictions).mean()"
      ],
      "execution_count": 90,
      "outputs": []
    },
    {
      "cell_type": "markdown",
      "metadata": {
        "id": "9wqPhw2jyEqh"
      },
      "source": [
        "- `torch.where(a, b, c)` is the equivalent of running the list comprehension `[b[i] if a[i] else c[i] for i in range(len(a))], except it works on tensors, at C/CUDA speeds.\n",
        "\n",
        "- Our function measures how distant each prediction is from 1 if it should be 1, and how distant it is from 0 if it should be 0, and then takes the mean of all those distances."
      ]
    },
    {
      "cell_type": "code",
      "metadata": {
        "id": "_9aeosINyDzt",
        "colab": {
          "base_uri": "https://localhost:8080/"
        },
        "outputId": "62b90e4d-1c7f-49ef-9ee1-9557b86ee0e8"
      },
      "source": [
        "torch.where(trgts==1, 1-prds, prds)"
      ],
      "execution_count": 91,
      "outputs": [
        {
          "output_type": "execute_result",
          "data": {
            "text/plain": [
              "tensor([0.1000, 0.4000, 0.8000])"
            ]
          },
          "metadata": {
            "tags": []
          },
          "execution_count": 91
        }
      ]
    },
    {
      "cell_type": "code",
      "metadata": {
        "id": "5xMwuB4xyj4Z",
        "colab": {
          "base_uri": "https://localhost:8080/"
        },
        "outputId": "9082c2d7-34d0-46ad-ff50-c38a53c9b134"
      },
      "source": [
        "mnist_loss(prds, trgts)"
      ],
      "execution_count": 92,
      "outputs": [
        {
          "output_type": "execute_result",
          "data": {
            "text/plain": [
              "tensor(0.4333)"
            ]
          },
          "metadata": {
            "tags": []
          },
          "execution_count": 92
        }
      ]
    },
    {
      "cell_type": "markdown",
      "metadata": {
        "id": "IrRdAml9zjB4"
      },
      "source": [
        "- If we change the prediction for the one \"false\" target from 0.2 to 0.8, the loss will go down indicating that this is a better prediction"
      ]
    },
    {
      "cell_type": "code",
      "metadata": {
        "id": "bPYmcnALzTk1",
        "colab": {
          "base_uri": "https://localhost:8080/"
        },
        "outputId": "9f42c666-da64-4e30-d99e-f4c98087df6c"
      },
      "source": [
        "mnist_loss(tensor([0.9, 0.4, 0.8]), trgts)"
      ],
      "execution_count": 93,
      "outputs": [
        {
          "output_type": "execute_result",
          "data": {
            "text/plain": [
              "tensor(0.2333)"
            ]
          },
          "metadata": {
            "tags": []
          },
          "execution_count": 93
        }
      ]
    },
    {
      "cell_type": "markdown",
      "metadata": {
        "id": "PuGj3uM60Gsb"
      },
      "source": [
        "- `mnist_loss` as it is currently defined assumes that predictions are always between zero and one.\n",
        "\n",
        "- We need to ensure that this is always the case.\n",
        "\n",
        "- The `sigmoid function` always outputs a number between zero and one"
      ]
    },
    {
      "cell_type": "markdown",
      "metadata": {
        "id": "xTrG4alQ0YBn"
      },
      "source": [
        "## Sigmoid\n",
        "\n",
        "- The `sigmoid` function is defined by:"
      ]
    },
    {
      "cell_type": "code",
      "metadata": {
        "id": "XqYdwJcg0pLr"
      },
      "source": [
        "# torch.exp is the same as e\n",
        "def sigmoid(x): return 1/(1+torch.exp(-x))"
      ],
      "execution_count": 94,
      "outputs": []
    },
    {
      "cell_type": "code",
      "metadata": {
        "id": "fTJjXJ9c1kX1",
        "colab": {
          "base_uri": "https://localhost:8080/"
        },
        "outputId": "e8e6ab5f-c85f-4a18-e4c0-15376be027f3"
      },
      "source": [
        "math.e"
      ],
      "execution_count": 95,
      "outputs": [
        {
          "output_type": "execute_result",
          "data": {
            "text/plain": [
              "2.718281828459045"
            ]
          },
          "metadata": {
            "tags": []
          },
          "execution_count": 95
        }
      ]
    },
    {
      "cell_type": "code",
      "metadata": {
        "id": "DztAd-pj1oq1",
        "colab": {
          "base_uri": "https://localhost:8080/"
        },
        "outputId": "94a1c071-9bf2-4f11-f67a-0d0cff6b642e"
      },
      "source": [
        "math.e**2 == torch.exp(tensor(2.))"
      ],
      "execution_count": 96,
      "outputs": [
        {
          "output_type": "execute_result",
          "data": {
            "text/plain": [
              "tensor(True)"
            ]
          },
          "metadata": {
            "tags": []
          },
          "execution_count": 96
        }
      ]
    },
    {
      "cell_type": "markdown",
      "metadata": {
        "id": "p8EfE0J400Lj"
      },
      "source": [
        "- PyTorch already defines this for us.\n",
        "\n",
        "- The sigmoid function is important in deep learning since we always want to ensure values are between zero and one."
      ]
    },
    {
      "cell_type": "code",
      "metadata": {
        "id": "NtE0Fn6iz3Ih",
        "colab": {
          "base_uri": "https://localhost:8080/",
          "height": 285
        },
        "outputId": "147d87c4-094d-47d3-94e7-8a3b787d3d82"
      },
      "source": [
        "plot_function(torch.sigmoid, title='Sigmoid', min=-4, max=4)"
      ],
      "execution_count": 97,
      "outputs": [
        {
          "output_type": "display_data",
          "data": {
            "image/png": "[encoded data removed]",
            "text/plain": [
              "<Figure size 432x288 with 1 Axes>"
            ]
          },
          "metadata": {
            "tags": [],
            "needs_background": "light"
          }
        }
      ]
    },
    {
      "cell_type": "markdown",
      "metadata": {
        "id": "PsBaI4iw2Rph"
      },
      "source": [
        "- The sigmoid function takes in any input value, positive or negative and outputs a value between zero and one.\n",
        "\n",
        "- Smaller numbers give an output closer to zero and larger numbers give an output closer to one.\n",
        "\n",
        "- It never goes below zero and beyond one.\n",
        "\n",
        "- It's also a smooth curve that only goes up, making it easier for SGD to find meaningful gradients.\n",
        "\n",
        "- We update `mnist_loss` to apply `sigmoid` to the inputs"
      ]
    },
    {
      "cell_type": "code",
      "metadata": {
        "id": "m3QlNXWX1HxZ"
      },
      "source": [
        "def mnist_loss(predictions, targets):\n",
        "  predictions = predictions.sigmoid()\n",
        "  return torch.where(targets==1, 1-predictions, predictions).mean()"
      ],
      "execution_count": 98,
      "outputs": []
    },
    {
      "cell_type": "markdown",
      "metadata": {
        "id": "RJecIUIP8BcS"
      },
      "source": [
        "- We can now be confident that our loss function will work, even when the predictions are not between 0 and 1.\n",
        "\n",
        "- Metrics, are the numbers we really care about i.e. accuracy.\n",
        "\n",
        "- These are things printed out at the end of every epoch that tell us how our model is really doing.\n",
        "\n",
        "- When judging the performance of a model it is important to focus on the metrics.\n",
        "\n",
        "- The loss function needs to respond to small changes in confidence level.\n",
        "\n",
        "- This means that sometimes the loss doesn't really reflect what we are trying to achieve, but is rather a compromise between our real goal, and a function that can be optimized using its gradient.\n",
        "\n",
        "- The loss function is calculated for each item in our dataset, and at the end of an epoch these are all averaged, and the overall mean is reported for the epoch.\n",
        "\n",
        "- In summary, the key difference between the loss and the metric is that the metric is to drive human understanding and the loss is to drive automated learning."
      ]
    },
    {
      "cell_type": "markdown",
      "metadata": {
        "id": "IEuxhhnF_0ZV"
      },
      "source": [
        "### SGD and mini-batches\n",
        "\n",
        "- Now that we have a loss function that is suitable to drive SGD, we can now consider the `optimization step`.\n",
        "\n",
        "- The optimization step is where we step (change or update) the weights based on the gradient.\n",
        "\n",
        "- To do this we need to calculate the loss of one or more data items.\n",
        "\n",
        "- We calculate the loss of a few data items at a time, called a `mini-batch`.\n",
        "\n",
        "- The number of items in a mini-batch is called a `batch size`.\n",
        "\n",
        "- We take mini-batches because:\n",
        "  - Calculating the loss for the whole dataset takes a very long time.\n",
        "  - Calculating the loss for each individual item does not use much information and results in a very imprecise and unstable gradient.\n",
        "\n",
        "- A larger batch size means that you will get a more accurate and stable estimate of your dataset's gradient on the loss function, but it takes longer and you will get less mini-batches per epoch.\n",
        "\n",
        "- Mini-batches are ideal since we train on a GPU and GPUs only perform well if they have lots of work to do at a time.\n",
        "\n",
        "- From data augmentation, we get better generalization if we vary things during training.\n",
        "\n",
        "- A simple and effective thing we can do is to randomly shuffle our dataset on every epoch before we create mini-batches.\n",
        "\n",
        "- PyTorch and fastai provide a `DataLoader` that does the shuffling and mini batch collation for you."
      ]
    },
    {
      "cell_type": "code",
      "metadata": {
        "id": "-WQBp40X7XJ6",
        "colab": {
          "base_uri": "https://localhost:8080/"
        },
        "outputId": "018b99b4-a165-40be-d263-12fd9b3e09e8"
      },
      "source": [
        "coll = range(15)\n",
        "dl = DataLoader(coll, batch_size=5, shuffle=True)\n",
        "list(dl)"
      ],
      "execution_count": 99,
      "outputs": [
        {
          "output_type": "execute_result",
          "data": {
            "text/plain": [
              "[tensor([ 3, 12,  8, 10,  2]),\n",
              " tensor([ 9,  4,  7, 14,  5]),\n",
              " tensor([ 1, 13,  0,  6, 11])]"
            ]
          },
          "metadata": {
            "tags": []
          },
          "execution_count": 99
        }
      ]
    },
    {
      "cell_type": "markdown",
      "metadata": {
        "id": "L3E9DGbLqNQv"
      },
      "source": [
        "- `Dataset` - A PyTorch collection that contains tuples of independent and dependent variables\n",
        "\n",
        "- For training a model, we just don't want any collection but a PyTorch collection i.e. a *dataset*"
      ]
    },
    {
      "cell_type": "code",
      "metadata": {
        "id": "Z1p5yr2uDBA-",
        "colab": {
          "base_uri": "https://localhost:8080/"
        },
        "outputId": "d06137ad-c572-41c3-ee6a-2a531aba9761"
      },
      "source": [
        "ds = L(enumerate(string.ascii_lowercase))\n",
        "ds"
      ],
      "execution_count": 100,
      "outputs": [
        {
          "output_type": "execute_result",
          "data": {
            "text/plain": [
              "(#26) [(0, 'a'),(1, 'b'),(2, 'c'),(3, 'd'),(4, 'e'),(5, 'f'),(6, 'g'),(7, 'h'),(8, 'i'),(9, 'j')...]"
            ]
          },
          "metadata": {
            "tags": []
          },
          "execution_count": 100
        }
      ]
    },
    {
      "cell_type": "markdown",
      "metadata": {
        "id": "aT55w85Sqv3o"
      },
      "source": [
        "- When we pass a Dataset to a Dataloader, we get back many batches that are themselves tuples of tensors representing batches of independent and dependent variables."
      ]
    },
    {
      "cell_type": "code",
      "metadata": {
        "id": "7RSC5Yb_qoin",
        "colab": {
          "base_uri": "https://localhost:8080/"
        },
        "outputId": "1bd5278c-3483-47cf-aa95-5d5862c821df"
      },
      "source": [
        "dl = DataLoader(ds, batch_size=6, shuffle=True)\n",
        "list(dl)"
      ],
      "execution_count": 101,
      "outputs": [
        {
          "output_type": "execute_result",
          "data": {
            "text/plain": [
              "[(tensor([17, 18, 10, 22,  8, 14]), ('r', 's', 'k', 'w', 'i', 'o')),\n",
              " (tensor([20, 15,  9, 13, 21, 12]), ('u', 'p', 'j', 'n', 'v', 'm')),\n",
              " (tensor([ 7, 25,  6,  5, 11, 23]), ('h', 'z', 'g', 'f', 'l', 'x')),\n",
              " (tensor([ 1,  3,  0, 24, 19, 16]), ('b', 'd', 'a', 'y', 't', 'q')),\n",
              " (tensor([2, 4]), ('c', 'e'))]"
            ]
          },
          "metadata": {
            "tags": []
          },
          "execution_count": 101
        }
      ]
    },
    {
      "cell_type": "markdown",
      "metadata": {
        "id": "TB_EQzE9rsEQ"
      },
      "source": [
        "### Putting it all together\n",
        "\n",
        "- We can now write our first training loop for a model using SGD.\n",
        "\n",
        "- In code, our process will be implemented something like this for every epoch:\n",
        "```python\n",
        "    for x,y in dl:\n",
        "        pred = model(x)\n",
        "        loss = loss_func(pred, y)\n",
        "        loss.backward()\n",
        "        parameter -= parameter.grad - lr\n",
        "```\n",
        "\n",
        "- First, let's re-initialize our parameters:"
      ]
    },
    {
      "cell_type": "code",
      "metadata": {
        "id": "aFq24a_WrAMp"
      },
      "source": [
        "weights = init_params((28*28,1))\n",
        "bias = init_params(1)"
      ],
      "execution_count": 102,
      "outputs": []
    },
    {
      "cell_type": "markdown",
      "metadata": {
        "id": "0CGi-2b3tTiD"
      },
      "source": [
        "- A `DataLoader` can be created from a `Dataset`"
      ]
    },
    {
      "cell_type": "code",
      "metadata": {
        "id": "LVDM58LIs2ww",
        "colab": {
          "base_uri": "https://localhost:8080/"
        },
        "outputId": "b990fd88-96ad-46ef-bcd7-6dc0a03bb762"
      },
      "source": [
        "dl = DataLoader(dset, batch_size=256)\n",
        "xb, yb = first(dl)\n",
        "xb.shape, yb.shape"
      ],
      "execution_count": 103,
      "outputs": [
        {
          "output_type": "execute_result",
          "data": {
            "text/plain": [
              "(torch.Size([256, 784]), torch.Size([256, 1]))"
            ]
          },
          "metadata": {
            "tags": []
          },
          "execution_count": 103
        }
      ]
    },
    {
      "cell_type": "markdown",
      "metadata": {
        "id": "xdlESscWtqQh"
      },
      "source": [
        "- We'll do the same for the validation set."
      ]
    },
    {
      "cell_type": "code",
      "metadata": {
        "id": "Mb12G71VthMQ"
      },
      "source": [
        "valid_dl = DataLoader(valid_dset, batch_size=256)"
      ],
      "execution_count": 104,
      "outputs": []
    },
    {
      "cell_type": "markdown",
      "metadata": {
        "id": "gnI5HuHpt0_x"
      },
      "source": [
        "- Let's create a mini-batch of size 4 for testing"
      ]
    },
    {
      "cell_type": "code",
      "metadata": {
        "id": "kpVLXVG4t0LA",
        "colab": {
          "base_uri": "https://localhost:8080/"
        },
        "outputId": "b5ac703f-9c64-41a8-abf5-4ffbd3d732d2"
      },
      "source": [
        "batch = train_x[:4]\n",
        "batch.shape"
      ],
      "execution_count": 105,
      "outputs": [
        {
          "output_type": "execute_result",
          "data": {
            "text/plain": [
              "torch.Size([4, 784])"
            ]
          },
          "metadata": {
            "tags": []
          },
          "execution_count": 105
        }
      ]
    },
    {
      "cell_type": "code",
      "metadata": {
        "id": "HAs6mE8V8X_j",
        "colab": {
          "base_uri": "https://localhost:8080/"
        },
        "outputId": "38bb3ef1-ca67-45ee-ed9d-5e83e6539831"
      },
      "source": [
        "preds = linear1(batch)\n",
        "preds"
      ],
      "execution_count": 106,
      "outputs": [
        {
          "output_type": "execute_result",
          "data": {
            "text/plain": [
              "tensor([[ 0.9350],\n",
              "        [ 7.4629],\n",
              "        [-0.6780],\n",
              "        [ 6.4046]], grad_fn=<AddBackward0>)"
            ]
          },
          "metadata": {
            "tags": []
          },
          "execution_count": 106
        }
      ]
    },
    {
      "cell_type": "code",
      "metadata": {
        "id": "rb0aveCh8jdD",
        "colab": {
          "base_uri": "https://localhost:8080/"
        },
        "outputId": "89ca1029-5c51-40ba-9b96-79c63a2df720"
      },
      "source": [
        "loss = mnist_loss(preds, train_y[:4])\n",
        "loss"
      ],
      "execution_count": 107,
      "outputs": [
        {
          "output_type": "execute_result",
          "data": {
            "text/plain": [
              "tensor(0.2369, grad_fn=<MeanBackward0>)"
            ]
          },
          "metadata": {
            "tags": []
          },
          "execution_count": 107
        }
      ]
    },
    {
      "cell_type": "markdown",
      "metadata": {
        "id": "YWc52hFK9Aas"
      },
      "source": [
        "- Now we calculate the gradients:"
      ]
    },
    {
      "cell_type": "code",
      "metadata": {
        "id": "nMq0lSXg8zm1",
        "colab": {
          "base_uri": "https://localhost:8080/"
        },
        "outputId": "49245848-7f9b-4c16-b9be-fc36eea84c73"
      },
      "source": [
        "loss.backward()\n",
        "weights.grad.shape, weights.grad.mean(), bias.grad"
      ],
      "execution_count": 108,
      "outputs": [
        {
          "output_type": "execute_result",
          "data": {
            "text/plain": [
              "(torch.Size([784, 1]), tensor(-0.0153), tensor([-0.1070]))"
            ]
          },
          "metadata": {
            "tags": []
          },
          "execution_count": 108
        }
      ]
    },
    {
      "cell_type": "markdown",
      "metadata": {
        "id": "Y8O4e2Br9rWg"
      },
      "source": [
        "- Let's put all that in a function"
      ]
    },
    {
      "cell_type": "code",
      "metadata": {
        "id": "KZxf6BT69LWz"
      },
      "source": [
        "def calc_grad(xb, yb, model):\n",
        "  preds = model(xb)\n",
        "  loss = mnist_loss(preds, yb)\n",
        "  loss.backward()\n"
      ],
      "execution_count": 109,
      "outputs": []
    },
    {
      "cell_type": "code",
      "metadata": {
        "id": "scKAiR1T-GyS",
        "colab": {
          "base_uri": "https://localhost:8080/"
        },
        "outputId": "8c7a038c-71a3-4c83-9c8d-c88cd131a0de"
      },
      "source": [
        "calc_grad(batch, train_y[:4], linear1)\n",
        "weights.grad.mean(), bias.grad"
      ],
      "execution_count": 110,
      "outputs": [
        {
          "output_type": "execute_result",
          "data": {
            "text/plain": [
              "(tensor(-0.0307), tensor([-0.2140]))"
            ]
          },
          "metadata": {
            "tags": []
          },
          "execution_count": 110
        }
      ]
    },
    {
      "cell_type": "code",
      "metadata": {
        "id": "2rx83ez1-RB0",
        "colab": {
          "base_uri": "https://localhost:8080/"
        },
        "outputId": "857b58dc-100f-4727-a06e-20223f2df6ce"
      },
      "source": [
        "calc_grad(batch, train_y[:4], linear1)\n",
        "weights.grad.mean(), bias.grad"
      ],
      "execution_count": 111,
      "outputs": [
        {
          "output_type": "execute_result",
          "data": {
            "text/plain": [
              "(tensor(-0.0460), tensor([-0.3210]))"
            ]
          },
          "metadata": {
            "tags": []
          },
          "execution_count": 111
        }
      ]
    },
    {
      "cell_type": "markdown",
      "metadata": {
        "id": "oxSl8xMkAHKS"
      },
      "source": [
        "- When we call the function a second time, notice that the gradients have changed. This is very concerning.\n",
        "\n",
        "- `loss.backward` not only calculates the gradient, it also adds the gradients of `loss` to any gradients that have been stored.\n",
        "\n",
        "- To prevent this from happening we have to set the current gradients to zero first."
      ]
    },
    {
      "cell_type": "code",
      "metadata": {
        "id": "zTNgTtTVAFsQ",
        "colab": {
          "base_uri": "https://localhost:8080/"
        },
        "outputId": "c2a8ce6f-52fb-4813-b88a-a91cda54943c"
      },
      "source": [
        "weights.grad[541]"
      ],
      "execution_count": 112,
      "outputs": [
        {
          "output_type": "execute_result",
          "data": {
            "text/plain": [
              "tensor([-0.1044])"
            ]
          },
          "metadata": {
            "tags": []
          },
          "execution_count": 112
        }
      ]
    },
    {
      "cell_type": "code",
      "metadata": {
        "id": "xCIPQWa1AxZq"
      },
      "source": [
        "# change the weights.grad tensor to be a tensor containing zeros\n",
        "# the _ just means do it in place\n",
        "weights.grad.zero_()\n",
        "bias.grad.zero_();"
      ],
      "execution_count": 113,
      "outputs": []
    },
    {
      "cell_type": "markdown",
      "metadata": {
        "id": "F_6BjfdFBng9"
      },
      "source": [
        "- The remaining step will be to update the weights and bias based on the gradient and learning rate.\n",
        "\n",
        "- We have to be careful and tell PyTorch not to take the gradient of this step too, otherwise it gets very confusing when we try to compute the derivative at the next batch.\n",
        "\n",
        "- We do this by assigning to the `data` attribute of a tensor"
      ]
    },
    {
      "cell_type": "code",
      "metadata": {
        "id": "RJgU_fSSBIeS"
      },
      "source": [
        "def train_epoch(model, lr, params):\n",
        "  \"\"\"A basic standard SGD loop.\"\"\"\n",
        "  for xb, yb in dl:\n",
        "    calc_grad(xb, yb, model)\n",
        "    for p in params:\n",
        "      p.data -= p.grad*lr\n",
        "      p.grad.zero_()"
      ],
      "execution_count": 114,
      "outputs": []
    },
    {
      "cell_type": "markdown",
      "metadata": {
        "id": "4lh0SOMkDXWF"
      },
      "source": [
        "> The difference between `gradient descent` and `stochastic gradient descent` is that gradient descent calculates the gradient on the entire dataset while stochastic gradient descent loops through a mini-batch and calculates the gradient on that"
      ]
    },
    {
      "cell_type": "markdown",
      "metadata": {
        "id": "yWusz-IrCZhe"
      },
      "source": [
        "- We also want to know how we're doing by looking at the accuracy of the validation set.\n",
        "\n",
        "- To decide if an input represents a 3 or a 7, we can just check whether it's greater than zero.\n",
        "\n",
        "- The accuracy of each item can be calculated (using broadcasting) with:"
      ]
    },
    {
      "cell_type": "code",
      "metadata": {
        "id": "f7JIoZRyCYz4",
        "colab": {
          "base_uri": "https://localhost:8080/"
        },
        "outputId": "28e94f5e-f8e0-4633-f37e-df8dbf4982bf"
      },
      "source": [
        "(preds>0.0).float() == train_y[:4]"
      ],
      "execution_count": 115,
      "outputs": [
        {
          "output_type": "execute_result",
          "data": {
            "text/plain": [
              "tensor([[ True],\n",
              "        [ True],\n",
              "        [False],\n",
              "        [ True]])"
            ]
          },
          "metadata": {
            "tags": []
          },
          "execution_count": 115
        }
      ]
    },
    {
      "cell_type": "markdown",
      "metadata": {
        "id": "sOAs_vwkES8N"
      },
      "source": [
        "- The above gives us this function to calculate our validation accuracy:"
      ]
    },
    {
      "cell_type": "code",
      "metadata": {
        "id": "u6x1z59BC_nG"
      },
      "source": [
        "def batch_accuracy(xb, yb):\n",
        "  preds = xb.sigmoid()\n",
        "  correct = (preds>0.5) == yb\n",
        "  return correct.float().mean()"
      ],
      "execution_count": 116,
      "outputs": []
    },
    {
      "cell_type": "markdown",
      "metadata": {
        "id": "PARmR4rjFFtB"
      },
      "source": [
        "- You'll notice that we're working with the sigmoid of the predictions.\n",
        "\n",
        "- To measure the accuracy we use `(preds>0.5)`, this is because on the sigmoid curve 0 corresponds to 0.5"
      ]
    },
    {
      "cell_type": "code",
      "metadata": {
        "id": "vjQm7-MUEj5z",
        "colab": {
          "base_uri": "https://localhost:8080/"
        },
        "outputId": "2acc3630-cff6-43da-8939-e361670c66a7"
      },
      "source": [
        "batch_accuracy(linear1(batch), train_y[:4])"
      ],
      "execution_count": 117,
      "outputs": [
        {
          "output_type": "execute_result",
          "data": {
            "text/plain": [
              "tensor(0.7500)"
            ]
          },
          "metadata": {
            "tags": []
          },
          "execution_count": 117
        }
      ]
    },
    {
      "cell_type": "code",
      "metadata": {
        "id": "Jjfs1dYHEsN1"
      },
      "source": [
        "def validate_epoch(model):\n",
        "  accs = [batch_accuracy(model(xb), yb) for xb, yb in valid_dl]\n",
        "  return round(torch.stack(accs).mean().item(), 4)"
      ],
      "execution_count": 118,
      "outputs": []
    },
    {
      "cell_type": "code",
      "metadata": {
        "id": "ezSgLXn1GhpQ",
        "colab": {
          "base_uri": "https://localhost:8080/"
        },
        "outputId": "1e6e174b-c55d-4bf6-ddc1-dc3db9cf52a7"
      },
      "source": [
        "validate_epoch(linear1)"
      ],
      "execution_count": 119,
      "outputs": [
        {
          "output_type": "execute_result",
          "data": {
            "text/plain": [
              "0.4642"
            ]
          },
          "metadata": {
            "tags": []
          },
          "execution_count": 119
        }
      ]
    },
    {
      "cell_type": "markdown",
      "metadata": {
        "id": "JjmvJxUaNZB2"
      },
      "source": [
        "- Let's train for one epoch and see if the accuracy improves."
      ]
    },
    {
      "cell_type": "code",
      "metadata": {
        "id": "x61Kodz-GkK1",
        "colab": {
          "base_uri": "https://localhost:8080/"
        },
        "outputId": "356bd958-fbfe-4eef-bb4a-9c27dc91231f"
      },
      "source": [
        "lr = 1.\n",
        "params = weights,bias\n",
        "train_epoch(linear1, lr, params)\n",
        "validate_epoch(linear1)"
      ],
      "execution_count": 120,
      "outputs": [
        {
          "output_type": "execute_result",
          "data": {
            "text/plain": [
              "0.6096"
            ]
          },
          "metadata": {
            "tags": []
          },
          "execution_count": 120
        }
      ]
    },
    {
      "cell_type": "code",
      "metadata": {
        "id": "-B_TovaLNx8d",
        "colab": {
          "base_uri": "https://localhost:8080/"
        },
        "outputId": "21d0513d-7206-4825-b55d-62197a0efcd2"
      },
      "source": [
        "for i in range(20):\n",
        "  train_epoch(linear1, lr, params)\n",
        "  print(validate_epoch(linear1), end=' ')"
      ],
      "execution_count": 121,
      "outputs": [
        {
          "output_type": "stream",
          "text": [
            "0.8158 0.8973 0.931 0.9437 0.9505 0.953 0.9564 0.9608 0.9613 0.9622 0.9627 0.9647 0.9661 0.9676 0.9696 0.9691 0.9691 0.9691 0.9696 0.9711 "
          ],
          "name": "stdout"
        }
      ]
    },
    {
      "cell_type": "markdown",
      "metadata": {
        "id": "Z0VVe7bIOy2x"
      },
      "source": [
        "- We're already at about the same accuracy as our \"pixel similarity\" approach, and we've created a general purpose foundation we can build on.\n",
        "\n",
        "- The next step will be to create an object that will handle the SGD step for us. In PyTorch, it's called an *optimizer*."
      ]
    },
    {
      "cell_type": "markdown",
      "metadata": {
        "id": "Gkn1uf7QPKFE"
      },
      "source": [
        "## Creating an optimizer\n",
        "\n",
        "- PyTorch provides some useful classes to make implementation easier.\n",
        "\n",
        "- A \"module\" is an object of a class that inherits from the PyTorch `nn.module` class.\n",
        "\n",
        "- Objects of this class behave like a standard Python function, in that you can call it using parentheses, and it will return activations of a model.\n",
        "\n",
        "- First, we'll replace our `linear1()` function with PyTorch's `nn.Linear` module.\n",
        "\n",
        "- `nn.Linear` does the same thing as our `init_params` and `linear1` together.\n",
        "\n",
        "- It contains both the weights and bias in a single class"
      ]
    },
    {
      "cell_type": "code",
      "metadata": {
        "id": "R65DIO8KODXf"
      },
      "source": [
        "linear_model = nn.Linear(28*28, 1)"
      ],
      "execution_count": 122,
      "outputs": []
    },
    {
      "cell_type": "markdown",
      "metadata": {
        "id": "7zloV2_kRNnO"
      },
      "source": [
        "- Every PyTorch module knows what parameters it has that can be trained; they are available through the `parameters` method."
      ]
    },
    {
      "cell_type": "code",
      "metadata": {
        "id": "TTuWolT_RLXf",
        "colab": {
          "base_uri": "https://localhost:8080/"
        },
        "outputId": "42c63cf0-7bec-4ecf-cf32-a977d95016f6"
      },
      "source": [
        "w,b = linear_model.parameters()\n",
        "w.shape, b.shape"
      ],
      "execution_count": 123,
      "outputs": [
        {
          "output_type": "execute_result",
          "data": {
            "text/plain": [
              "(torch.Size([1, 784]), torch.Size([1]))"
            ]
          },
          "metadata": {
            "tags": []
          },
          "execution_count": 123
        }
      ]
    },
    {
      "cell_type": "markdown",
      "metadata": {
        "id": "hsMyLG-YRgou"
      },
      "source": [
        "- We can use this information to create an optimizer"
      ]
    },
    {
      "cell_type": "code",
      "metadata": {
        "id": "SY--ykf0RaLV"
      },
      "source": [
        "class BasicOptim:\n",
        "  def __init__(self, params, lr): self.params, self.lr = list(params), lr\n",
        "\n",
        "  def step(self, *args, **kwargs):\n",
        "    for p in self.params: p.data -= p.grad.data * self.lr\n",
        "\n",
        "  def zero_grad(self, *args, **kwargs):\n",
        "    for p in self.params: p.grad = None"
      ],
      "execution_count": 124,
      "outputs": []
    },
    {
      "cell_type": "markdown",
      "metadata": {
        "id": "XFb3GuEkSElf"
      },
      "source": [
        "- We can create our optimizer by passing in the model's parameters:"
      ]
    },
    {
      "cell_type": "code",
      "metadata": {
        "id": "smXw3Cs7SB6c"
      },
      "source": [
        "opt = BasicOptim(linear_model.parameters(),lr)"
      ],
      "execution_count": 125,
      "outputs": []
    },
    {
      "cell_type": "markdown",
      "metadata": {
        "id": "r3IdpqvfSUM5"
      },
      "source": [
        "- Our training loop can now be simplified to:"
      ]
    },
    {
      "cell_type": "code",
      "metadata": {
        "id": "_6md-hzGSP3I"
      },
      "source": [
        "def train_epoch(model):\n",
        "  for xb, yb in dl:\n",
        "    calc_grad(xb, yb, model)\n",
        "    opt.step()\n",
        "    opt.zero_grad()"
      ],
      "execution_count": 126,
      "outputs": []
    },
    {
      "cell_type": "markdown",
      "metadata": {
        "id": "79kbLs3CSjFH"
      },
      "source": [
        "- Our validation function doesn't need to change"
      ]
    },
    {
      "cell_type": "code",
      "metadata": {
        "id": "tpXtunU-Siqe",
        "colab": {
          "base_uri": "https://localhost:8080/"
        },
        "outputId": "37043a5e-e2b1-4f8a-9b34-9b3052a2e5bc"
      },
      "source": [
        "validate_epoch(linear_model)"
      ],
      "execution_count": 127,
      "outputs": [
        {
          "output_type": "execute_result",
          "data": {
            "text/plain": [
              "0.4185"
            ]
          },
          "metadata": {
            "tags": []
          },
          "execution_count": 127
        }
      ]
    },
    {
      "cell_type": "markdown",
      "metadata": {
        "id": "pyB-zD03SuBu"
      },
      "source": [
        "- Putting our training loop into a function:"
      ]
    },
    {
      "cell_type": "code",
      "metadata": {
        "id": "GxJb3LmDSoQ-"
      },
      "source": [
        "def train_model(model, epochs):\n",
        "  for i in range(epochs):\n",
        "    train_epoch(model)\n",
        "    print(validate_epoch(model), end=' ')"
      ],
      "execution_count": 129,
      "outputs": []
    },
    {
      "cell_type": "code",
      "metadata": {
        "id": "2jj30Ug0S69G",
        "colab": {
          "base_uri": "https://localhost:8080/"
        },
        "outputId": "c917172a-45f6-4c0d-84f3-72cac0978e66"
      },
      "source": [
        "train_model(linear_model, 20)"
      ],
      "execution_count": 130,
      "outputs": [
        {
          "output_type": "stream",
          "text": [
            "0.4932 0.7798 0.8516 0.9165 0.9336 0.9487 0.956 0.9633 0.9658 0.9672 0.9692 0.9721 0.9736 0.9741 0.976 0.976 0.9775 0.9775 0.978 0.9785 "
          ],
          "name": "stdout"
        }
      ]
    },
    {
      "cell_type": "markdown",
      "metadata": {
        "id": "3giF44huTMVr"
      },
      "source": [
        "- fastai provides the `SGD` class which, by default, does the same thing as our `BasicOptim`"
      ]
    },
    {
      "cell_type": "code",
      "metadata": {
        "id": "3WXVcHTeS-BD",
        "colab": {
          "base_uri": "https://localhost:8080/"
        },
        "outputId": "a878256e-6a9d-464a-e3ad-0e95fede0168"
      },
      "source": [
        "linear_model = nn.Linear(28*28, 1)\n",
        "opt = SGD(linear_model.parameters(), lr)\n",
        "train_model(linear_model, 20)"
      ],
      "execution_count": 131,
      "outputs": [
        {
          "output_type": "stream",
          "text": [
            "0.4932 0.7983 0.8535 0.917 0.9355 0.9492 0.958 0.9643 0.9663 0.9672 0.9707 0.9726 0.9736 0.9751 0.9755 0.9765 0.9775 0.9775 0.978 0.9785 "
          ],
          "name": "stdout"
        }
      ]
    },
    {
      "cell_type": "markdown",
      "metadata": {
        "id": "FYvm8ZT1ePLC"
      },
      "source": [
        "- fastai also provides a `Learner.fit` that can be used instead of `train_model`.\n",
        "\n",
        "- To create a `Learner` we first need to create `DataLoaders` by passing in our training and validation `DataLoader`.\n",
        "\n",
        "- `DataLoaders` stores away a `DataLoader` as a `.train` and a `.valid`.\n",
        "\n",
        "- With `DataLoaders` we now have a sigle object that knows all the data we have.\n",
        "\n",
        "- It can make sure that the training `DataLoader` is shuffled and the validation `DataLoader` isn't shuffled so that everything works properly."
      ]
    },
    {
      "cell_type": "code",
      "metadata": {
        "id": "uXuP8CSwTj5I"
      },
      "source": [
        "dls = DataLoaders(dl, valid_dl)"
      ],
      "execution_count": 132,
      "outputs": []
    },
    {
      "cell_type": "markdown",
      "metadata": {
        "id": "rcbJS8aOfUZH"
      },
      "source": [
        "- To create a `Learner` class without using an application (such as `cnn_learner`), we need to pass in: the `DataLoaders`, the model, the optimization function, the loss function, and optionally any metrics to print"
      ]
    },
    {
      "cell_type": "code",
      "metadata": {
        "id": "Lj4fu7v2fTXr"
      },
      "source": [
        "learn = Learner(dls, nn.Linear(28*28, 1), opt_func=SGD,\n",
        "                loss_func=mnist_loss, metrics=batch_accuracy)"
      ],
      "execution_count": 133,
      "outputs": []
    },
    {
      "cell_type": "markdown",
      "metadata": {
        "id": "qEYsIWBhf9ew"
      },
      "source": [
        "- We can now call `fit`"
      ]
    },
    {
      "cell_type": "code",
      "metadata": {
        "id": "fWWJvcOJfz5-",
        "colab": {
          "base_uri": "https://localhost:8080/",
          "height": 363
        },
        "outputId": "4a6d8d80-624c-41f3-e27b-25f2d9cde430"
      },
      "source": [
        "learn.fit(10, lr=lr)"
      ],
      "execution_count": 134,
      "outputs": [
        {
          "output_type": "display_data",
          "data": {
            "text/html": [
              "<table border=\"1\" class=\"dataframe\">\n",
              "  <thead>\n",
              "    <tr style=\"text-align: left;\">\n",
              "      <th>epoch</th>\n",
              "      <th>train_loss</th>\n",
              "      <th>valid_loss</th>\n",
              "      <th>batch_accuracy</th>\n",
              "      <th>time</th>\n",
              "    </tr>\n",
              "  </thead>\n",
              "  <tbody>\n",
              "    <tr>\n",
              "      <td>0</td>\n",
              "      <td>0.636508</td>\n",
              "      <td>0.503531</td>\n",
              "      <td>0.495584</td>\n",
              "      <td>00:00</td>\n",
              "    </tr>\n",
              "    <tr>\n",
              "      <td>1</td>\n",
              "      <td>0.533227</td>\n",
              "      <td>0.187808</td>\n",
              "      <td>0.842002</td>\n",
              "      <td>00:00</td>\n",
              "    </tr>\n",
              "    <tr>\n",
              "      <td>2</td>\n",
              "      <td>0.195589</td>\n",
              "      <td>0.183700</td>\n",
              "      <td>0.833170</td>\n",
              "      <td>00:00</td>\n",
              "    </tr>\n",
              "    <tr>\n",
              "      <td>3</td>\n",
              "      <td>0.085569</td>\n",
              "      <td>0.107622</td>\n",
              "      <td>0.911187</td>\n",
              "      <td>00:00</td>\n",
              "    </tr>\n",
              "    <tr>\n",
              "      <td>4</td>\n",
              "      <td>0.045021</td>\n",
              "      <td>0.078366</td>\n",
              "      <td>0.933759</td>\n",
              "      <td>00:00</td>\n",
              "    </tr>\n",
              "    <tr>\n",
              "      <td>5</td>\n",
              "      <td>0.029193</td>\n",
              "      <td>0.062697</td>\n",
              "      <td>0.946516</td>\n",
              "      <td>00:00</td>\n",
              "    </tr>\n",
              "    <tr>\n",
              "      <td>6</td>\n",
              "      <td>0.022696</td>\n",
              "      <td>0.052944</td>\n",
              "      <td>0.955348</td>\n",
              "      <td>00:00</td>\n",
              "    </tr>\n",
              "    <tr>\n",
              "      <td>7</td>\n",
              "      <td>0.019819</td>\n",
              "      <td>0.046463</td>\n",
              "      <td>0.961727</td>\n",
              "      <td>00:00</td>\n",
              "    </tr>\n",
              "    <tr>\n",
              "      <td>8</td>\n",
              "      <td>0.018365</td>\n",
              "      <td>0.041913</td>\n",
              "      <td>0.965653</td>\n",
              "      <td>00:00</td>\n",
              "    </tr>\n",
              "    <tr>\n",
              "      <td>9</td>\n",
              "      <td>0.017493</td>\n",
              "      <td>0.038563</td>\n",
              "      <td>0.966634</td>\n",
              "      <td>00:00</td>\n",
              "    </tr>\n",
              "  </tbody>\n",
              "</table>"
            ],
            "text/plain": [
              "<IPython.core.display.HTML object>"
            ]
          },
          "metadata": {
            "tags": []
          }
        }
      ]
    },
    {
      "cell_type": "markdown",
      "metadata": {
        "id": "R3FVLa6XgYWg"
      },
      "source": [
        "- With these classes, we can now replace a linear function with a neural network"
      ]
    },
    {
      "cell_type": "markdown",
      "metadata": {
        "id": "ApAaQpghh1wR"
      },
      "source": [
        "## Adding a non-linearity\n",
        "\n",
        "- A linear classifier is very constrained in terms of what it can do.\n",
        "\n",
        "- To make it a bit more complex (and able to handle more tasks), we need to add a non-linearity between two linear classifiers, and this is what gives us a neural network.\n",
        "\n",
        "- Below is the entire definition of a basic neural network:"
      ]
    },
    {
      "cell_type": "code",
      "metadata": {
        "id": "YMaEIRqYgC7_"
      },
      "source": [
        "def simple_net(xb):\n",
        "  \"\"\"res.max(tensor(0.0)) takes any negative numbers and turns them into zeros.\n",
        "  The first and third lines are known as linear layers.\n",
        "  The second line is known as a nonlinearity or activation function.\n",
        "  \"\"\"\n",
        "  res = xb@w1 + b1\n",
        "  res = res.max(tensor(0.0))  # recified linear unit (ReLU)\n",
        "  res = res@w2 + b2\n",
        "  return res"
      ],
      "execution_count": 135,
      "outputs": []
    },
    {
      "cell_type": "markdown",
      "metadata": {
        "id": "0M1O8ZQHfSaF"
      },
      "source": [
        "- Here, `w1` and `w2` are weight tensors and `b1` and `b2` are bias tensors; i.e. parameters that are initially randomly initialized.\n",
        "\n",
        "- Our `simple_net` function is an example of *function composition*.\n",
        "\n",
        "- `Function composition` - take the result of a function and pass it to a new one.\n",
        "\n",
        "- Every neural network is basically doing function composition of linear layers and activation functions."
      ]
    },
    {
      "cell_type": "code",
      "metadata": {
        "id": "NxBUAHWSi3Yo"
      },
      "source": [
        "w1 = init_params((28*28,30))\n",
        "b1 = init_params(30)\n",
        "w2 = init_params((30,1))\n",
        "b2 = init_params(1)"
      ],
      "execution_count": 136,
      "outputs": []
    },
    {
      "cell_type": "markdown",
      "metadata": {
        "id": "SEV1NIZjf_WU"
      },
      "source": [
        "- `w1` has 30 output activations (meaning that `w2` must have 30 input activations so that they match).\n",
        "\n",
        "- This means that the first layer can construct 30 different features, each representing some different mix of pixels.\n",
        "\n",
        "- You can change the `30` to anything you like, to make the model more or less complex.\n",
        "\n",
        "- The function `res.max(tensor(0.0))` is called a *rectified linear unit (ReLU)*.\n",
        "\n",
        "- It replaces every negative number with zero.\n",
        "\n",
        "- It is also available in PyTorch as `F.relu`:"
      ]
    },
    {
      "cell_type": "code",
      "metadata": {
        "id": "vwjVJbVqfyBh",
        "colab": {
          "base_uri": "https://localhost:8080/",
          "height": 268
        },
        "outputId": "eeedc782-9f3d-466d-a1ec-58edfbea3851"
      },
      "source": [
        "plot_function(F.relu)"
      ],
      "execution_count": 137,
      "outputs": [
        {
          "output_type": "display_data",
          "data": {
            "image/png": "[encoded data removed]",
            "text/plain": [
              "<Figure size 432x288 with 1 Axes>"
            ]
          },
          "metadata": {
            "tags": [],
            "needs_background": "light"
          }
        }
      ]
    },
    {
      "cell_type": "markdown",
      "metadata": {
        "id": "CVYDhkeEhrBZ"
      },
      "source": [
        "- According to the `Universal Approximation Theorem` if the size of the weights and bias matrices are big enough and you can find the right parameters, then our `simple_net` function can solve any computable problem to an arbitrarily high level of accuracy (including the function of how to recognize 3s and 7s.\n",
        "\n",
        "- This is only possible because of the `max` function that adds a non-linearity to our `simple_net` function.\n",
        "\n",
        "- Mathematically, the composition of two linear functions is a linear function. Without non-linear functions, we can stack as many linear classifiers on top of each other and it will just be the same as one linear classifier.\n",
        "\n",
        ">> A series of any number of linear layers in a row can be replaced with a single linear layer with a different set of parameters.\n",
        "\n",
        "- We can replace our `simple_net` code with something a bit simpler by taking advantage of PyTorch:"
      ]
    },
    {
      "cell_type": "code",
      "metadata": {
        "id": "qzIkahINgvYA"
      },
      "source": [
        "simple_net = nn.Sequential(\n",
        "    nn.Linear(28*28, 30),\n",
        "    nn.ReLU(),\n",
        "    nn.Linear(30,1)\n",
        ")"
      ],
      "execution_count": 138,
      "outputs": []
    },
    {
      "cell_type": "markdown",
      "metadata": {
        "id": "n7hWY7p6xIKy"
      },
      "source": [
        "- `nn.Sequential` creates a module which will call each of the listed layers or functions in turn. It is an easier way to do function composition.\n",
        "\n",
        "- `F.relu` is a function, not a PyTorch module.\n",
        "\n",
        "- `nn.ReLU` is a PyTorch module that does exactly the same thing.\n",
        "\n",
        "- When using `nn.Sequential` PyTorch requires us to use the module version and since modules are classes, we have to instantiate them i.e. `nn.ReLU()`."
      ]
    },
    {
      "cell_type": "code",
      "metadata": {
        "id": "6KaJNU6GxGOE"
      },
      "source": [
        "learn = Learner(dls, simple_net, opt_func=SGD,\n",
        "                loss_func=mnist_loss, metrics=batch_accuracy)"
      ],
      "execution_count": 139,
      "outputs": []
    },
    {
      "cell_type": "code",
      "metadata": {
        "id": "HlXF6vwZzv4r",
        "colab": {
          "base_uri": "https://localhost:8080/",
          "height": 1000
        },
        "outputId": "32b543c0-4e94-407a-84d5-5ffde45f7dfc"
      },
      "source": [
        "learn.fit(40, 0.1)"
      ],
      "execution_count": 140,
      "outputs": [
        {
          "output_type": "display_data",
          "data": {
            "text/html": [
              "<table border=\"1\" class=\"dataframe\">\n",
              "  <thead>\n",
              "    <tr style=\"text-align: left;\">\n",
              "      <th>epoch</th>\n",
              "      <th>train_loss</th>\n",
              "      <th>valid_loss</th>\n",
              "      <th>batch_accuracy</th>\n",
              "      <th>time</th>\n",
              "    </tr>\n",
              "  </thead>\n",
              "  <tbody>\n",
              "    <tr>\n",
              "      <td>0</td>\n",
              "      <td>0.319728</td>\n",
              "      <td>0.406920</td>\n",
              "      <td>0.505397</td>\n",
              "      <td>00:00</td>\n",
              "    </tr>\n",
              "    <tr>\n",
              "      <td>1</td>\n",
              "      <td>0.148601</td>\n",
              "      <td>0.235673</td>\n",
              "      <td>0.798332</td>\n",
              "      <td>00:00</td>\n",
              "    </tr>\n",
              "    <tr>\n",
              "      <td>2</td>\n",
              "      <td>0.082089</td>\n",
              "      <td>0.117067</td>\n",
              "      <td>0.915604</td>\n",
              "      <td>00:00</td>\n",
              "    </tr>\n",
              "    <tr>\n",
              "      <td>3</td>\n",
              "      <td>0.053686</td>\n",
              "      <td>0.078488</td>\n",
              "      <td>0.938665</td>\n",
              "      <td>00:00</td>\n",
              "    </tr>\n",
              "    <tr>\n",
              "      <td>4</td>\n",
              "      <td>0.040527</td>\n",
              "      <td>0.061038</td>\n",
              "      <td>0.955348</td>\n",
              "      <td>00:00</td>\n",
              "    </tr>\n",
              "    <tr>\n",
              "      <td>5</td>\n",
              "      <td>0.033825</td>\n",
              "      <td>0.051260</td>\n",
              "      <td>0.964181</td>\n",
              "      <td>00:00</td>\n",
              "    </tr>\n",
              "    <tr>\n",
              "      <td>6</td>\n",
              "      <td>0.029992</td>\n",
              "      <td>0.045093</td>\n",
              "      <td>0.966143</td>\n",
              "      <td>00:00</td>\n",
              "    </tr>\n",
              "    <tr>\n",
              "      <td>7</td>\n",
              "      <td>0.027511</td>\n",
              "      <td>0.040880</td>\n",
              "      <td>0.968106</td>\n",
              "      <td>00:00</td>\n",
              "    </tr>\n",
              "    <tr>\n",
              "      <td>8</td>\n",
              "      <td>0.025728</td>\n",
              "      <td>0.037834</td>\n",
              "      <td>0.969578</td>\n",
              "      <td>00:00</td>\n",
              "    </tr>\n",
              "    <tr>\n",
              "      <td>9</td>\n",
              "      <td>0.024352</td>\n",
              "      <td>0.035526</td>\n",
              "      <td>0.972522</td>\n",
              "      <td>00:00</td>\n",
              "    </tr>\n",
              "    <tr>\n",
              "      <td>10</td>\n",
              "      <td>0.023240</td>\n",
              "      <td>0.033708</td>\n",
              "      <td>0.973503</td>\n",
              "      <td>00:00</td>\n",
              "    </tr>\n",
              "    <tr>\n",
              "      <td>11</td>\n",
              "      <td>0.022314</td>\n",
              "      <td>0.032228</td>\n",
              "      <td>0.973503</td>\n",
              "      <td>00:00</td>\n",
              "    </tr>\n",
              "    <tr>\n",
              "      <td>12</td>\n",
              "      <td>0.021527</td>\n",
              "      <td>0.030987</td>\n",
              "      <td>0.974485</td>\n",
              "      <td>00:00</td>\n",
              "    </tr>\n",
              "    <tr>\n",
              "      <td>13</td>\n",
              "      <td>0.020846</td>\n",
              "      <td>0.029925</td>\n",
              "      <td>0.975466</td>\n",
              "      <td>00:00</td>\n",
              "    </tr>\n",
              "    <tr>\n",
              "      <td>14</td>\n",
              "      <td>0.020249</td>\n",
              "      <td>0.029002</td>\n",
              "      <td>0.975466</td>\n",
              "      <td>00:00</td>\n",
              "    </tr>\n",
              "    <tr>\n",
              "      <td>15</td>\n",
              "      <td>0.019720</td>\n",
              "      <td>0.028189</td>\n",
              "      <td>0.976448</td>\n",
              "      <td>00:00</td>\n",
              "    </tr>\n",
              "    <tr>\n",
              "      <td>16</td>\n",
              "      <td>0.019247</td>\n",
              "      <td>0.027466</td>\n",
              "      <td>0.976938</td>\n",
              "      <td>00:00</td>\n",
              "    </tr>\n",
              "    <tr>\n",
              "      <td>17</td>\n",
              "      <td>0.018819</td>\n",
              "      <td>0.026817</td>\n",
              "      <td>0.977429</td>\n",
              "      <td>00:00</td>\n",
              "    </tr>\n",
              "    <tr>\n",
              "      <td>18</td>\n",
              "      <td>0.018430</td>\n",
              "      <td>0.026231</td>\n",
              "      <td>0.977429</td>\n",
              "      <td>00:00</td>\n",
              "    </tr>\n",
              "    <tr>\n",
              "      <td>19</td>\n",
              "      <td>0.018074</td>\n",
              "      <td>0.025699</td>\n",
              "      <td>0.977920</td>\n",
              "      <td>00:00</td>\n",
              "    </tr>\n",
              "    <tr>\n",
              "      <td>20</td>\n",
              "      <td>0.017747</td>\n",
              "      <td>0.025213</td>\n",
              "      <td>0.978410</td>\n",
              "      <td>00:00</td>\n",
              "    </tr>\n",
              "    <tr>\n",
              "      <td>21</td>\n",
              "      <td>0.017444</td>\n",
              "      <td>0.024767</td>\n",
              "      <td>0.978901</td>\n",
              "      <td>00:00</td>\n",
              "    </tr>\n",
              "    <tr>\n",
              "      <td>22</td>\n",
              "      <td>0.017163</td>\n",
              "      <td>0.024357</td>\n",
              "      <td>0.978901</td>\n",
              "      <td>00:00</td>\n",
              "    </tr>\n",
              "    <tr>\n",
              "      <td>23</td>\n",
              "      <td>0.016900</td>\n",
              "      <td>0.023978</td>\n",
              "      <td>0.980373</td>\n",
              "      <td>00:00</td>\n",
              "    </tr>\n",
              "    <tr>\n",
              "      <td>24</td>\n",
              "      <td>0.016654</td>\n",
              "      <td>0.023627</td>\n",
              "      <td>0.980864</td>\n",
              "      <td>00:00</td>\n",
              "    </tr>\n",
              "    <tr>\n",
              "      <td>25</td>\n",
              "      <td>0.016421</td>\n",
              "      <td>0.023302</td>\n",
              "      <td>0.981354</td>\n",
              "      <td>00:00</td>\n",
              "    </tr>\n",
              "    <tr>\n",
              "      <td>26</td>\n",
              "      <td>0.016202</td>\n",
              "      <td>0.022999</td>\n",
              "      <td>0.981845</td>\n",
              "      <td>00:00</td>\n",
              "    </tr>\n",
              "    <tr>\n",
              "      <td>27</td>\n",
              "      <td>0.015995</td>\n",
              "      <td>0.022717</td>\n",
              "      <td>0.981845</td>\n",
              "      <td>00:00</td>\n",
              "    </tr>\n",
              "    <tr>\n",
              "      <td>28</td>\n",
              "      <td>0.015798</td>\n",
              "      <td>0.022454</td>\n",
              "      <td>0.981845</td>\n",
              "      <td>00:00</td>\n",
              "    </tr>\n",
              "    <tr>\n",
              "      <td>29</td>\n",
              "      <td>0.015611</td>\n",
              "      <td>0.022208</td>\n",
              "      <td>0.981845</td>\n",
              "      <td>00:00</td>\n",
              "    </tr>\n",
              "    <tr>\n",
              "      <td>30</td>\n",
              "      <td>0.015434</td>\n",
              "      <td>0.021978</td>\n",
              "      <td>0.982336</td>\n",
              "      <td>00:00</td>\n",
              "    </tr>\n",
              "    <tr>\n",
              "      <td>31</td>\n",
              "      <td>0.015264</td>\n",
              "      <td>0.021763</td>\n",
              "      <td>0.982826</td>\n",
              "      <td>00:00</td>\n",
              "    </tr>\n",
              "    <tr>\n",
              "      <td>32</td>\n",
              "      <td>0.015101</td>\n",
              "      <td>0.021561</td>\n",
              "      <td>0.982826</td>\n",
              "      <td>00:00</td>\n",
              "    </tr>\n",
              "    <tr>\n",
              "      <td>33</td>\n",
              "      <td>0.014946</td>\n",
              "      <td>0.021371</td>\n",
              "      <td>0.982336</td>\n",
              "      <td>00:00</td>\n",
              "    </tr>\n",
              "    <tr>\n",
              "      <td>34</td>\n",
              "      <td>0.014797</td>\n",
              "      <td>0.021193</td>\n",
              "      <td>0.982336</td>\n",
              "      <td>00:00</td>\n",
              "    </tr>\n",
              "    <tr>\n",
              "      <td>35</td>\n",
              "      <td>0.014655</td>\n",
              "      <td>0.021025</td>\n",
              "      <td>0.982336</td>\n",
              "      <td>00:00</td>\n",
              "    </tr>\n",
              "    <tr>\n",
              "      <td>36</td>\n",
              "      <td>0.014518</td>\n",
              "      <td>0.020866</td>\n",
              "      <td>0.982336</td>\n",
              "      <td>00:00</td>\n",
              "    </tr>\n",
              "    <tr>\n",
              "      <td>37</td>\n",
              "      <td>0.014386</td>\n",
              "      <td>0.020716</td>\n",
              "      <td>0.982826</td>\n",
              "      <td>00:00</td>\n",
              "    </tr>\n",
              "    <tr>\n",
              "      <td>38</td>\n",
              "      <td>0.014259</td>\n",
              "      <td>0.020574</td>\n",
              "      <td>0.983317</td>\n",
              "      <td>00:00</td>\n",
              "    </tr>\n",
              "    <tr>\n",
              "      <td>39</td>\n",
              "      <td>0.014136</td>\n",
              "      <td>0.020440</td>\n",
              "      <td>0.983317</td>\n",
              "      <td>00:00</td>\n",
              "    </tr>\n",
              "  </tbody>\n",
              "</table>"
            ],
            "text/plain": [
              "<IPython.core.display.HTML object>"
            ]
          },
          "metadata": {
            "tags": []
          }
        }
      ]
    },
    {
      "cell_type": "markdown",
      "metadata": {
        "id": "4fVl71LUz73s"
      },
      "source": [
        "> For deeper models, you may want to use a lower learning rate and a few more epochs.\n",
        "\n",
        "- The training process is recorded in `learn.recorder`, with the table of output stored in the `values` attribute.\n",
        "\n",
        "- We can plot the accuracy over training as:"
      ]
    },
    {
      "cell_type": "code",
      "metadata": {
        "id": "mAS_X7aLz5KS",
        "colab": {
          "base_uri": "https://localhost:8080/",
          "height": 287
        },
        "outputId": "50bc8faf-5e0a-4972-b391-86569cb96fef"
      },
      "source": [
        "# itemgot(2) get the third item (index 2) from every row (batch_accuracy) for plotting\n",
        "plt.plot(L(learn.recorder.values).itemgot(2))"
      ],
      "execution_count": 141,
      "outputs": [
        {
          "output_type": "execute_result",
          "data": {
            "text/plain": [
              "[<matplotlib.lines.Line2D at 0x7f5fa90fc310>]"
            ]
          },
          "metadata": {
            "tags": []
          },
          "execution_count": 141
        },
        {
          "output_type": "display_data",
          "data": {
            "image/png": "[encoded data removed]",
            "text/plain": [
              "<Figure size 432x288 with 1 Axes>"
            ]
          },
          "metadata": {
            "tags": [],
            "needs_background": "light"
          }
        }
      ]
    },
    {
      "cell_type": "markdown",
      "metadata": {
        "id": "bN0j8Ryq0-RN"
      },
      "source": [
        "- ...and view the final accuracy:"
      ]
    },
    {
      "cell_type": "code",
      "metadata": {
        "id": "CHlXl4QE0foA",
        "colab": {
          "base_uri": "https://localhost:8080/"
        },
        "outputId": "ba99347c-91af-4b27-874f-29ca647bcb51"
      },
      "source": [
        "learn.recorder.values[-1][2]"
      ],
      "execution_count": 142,
      "outputs": [
        {
          "output_type": "execute_result",
          "data": {
            "text/plain": [
              "0.983316957950592"
            ]
          },
          "metadata": {
            "tags": []
          },
          "execution_count": 142
        }
      ]
    },
    {
      "cell_type": "markdown",
      "metadata": {
        "id": "ZHDt5p0i1MXm"
      },
      "source": [
        "- At this point we have:\n",
        "  - A function that can solve any problem to any level of accuracy (the neural network) given the correct set of parameters.\n",
        "  - A way to find the best set of parameters for any function (stochastic gradient descent).\n",
        "\n",
        "- Below we see a way to look into what the model is doing.\n",
        "\n",
        "- To understand the features that make up the first layer, we can plot them as seen below. For layers other than the first though we have to be a lot more sophisticated."
      ]
    },
    {
      "cell_type": "code",
      "metadata": {
        "id": "0fEYCFrc1ErY",
        "colab": {
          "base_uri": "https://localhost:8080/"
        },
        "outputId": "fcd65f45-82e6-4b41-e84f-55c2296de60f"
      },
      "source": [
        "m = learn.model\n",
        "m"
      ],
      "execution_count": 143,
      "outputs": [
        {
          "output_type": "execute_result",
          "data": {
            "text/plain": [
              "Sequential(\n",
              "  (0): Linear(in_features=784, out_features=30, bias=True)\n",
              "  (1): ReLU()\n",
              "  (2): Linear(in_features=30, out_features=1, bias=True)\n",
              ")"
            ]
          },
          "metadata": {
            "tags": []
          },
          "execution_count": 143
        }
      ]
    },
    {
      "cell_type": "code",
      "metadata": {
        "id": "zfMOQ_kIak0Y",
        "colab": {
          "base_uri": "https://localhost:8080/"
        },
        "outputId": "50074715-11e1-4735-f7f8-bc3fb3b6a95e"
      },
      "source": [
        "m[0].parameters()"
      ],
      "execution_count": 144,
      "outputs": [
        {
          "output_type": "execute_result",
          "data": {
            "text/plain": [
              "<generator object Module.parameters at 0x7f5fa8ed62d0>"
            ]
          },
          "metadata": {
            "tags": []
          },
          "execution_count": 144
        }
      ]
    },
    {
      "cell_type": "code",
      "metadata": {
        "id": "T1ifx4EBaoiP",
        "colab": {
          "base_uri": "https://localhost:8080/"
        },
        "outputId": "b81e0418-76bc-415d-9e53-6c639322b307"
      },
      "source": [
        "w,b = m[0].parameters()\n",
        "w.shape, b.shape"
      ],
      "execution_count": 145,
      "outputs": [
        {
          "output_type": "execute_result",
          "data": {
            "text/plain": [
              "(torch.Size([30, 784]), torch.Size([30]))"
            ]
          },
          "metadata": {
            "tags": []
          },
          "execution_count": 145
        }
      ]
    },
    {
      "cell_type": "code",
      "metadata": {
        "id": "z9TB33Arasih",
        "colab": {
          "base_uri": "https://localhost:8080/",
          "height": 102
        },
        "outputId": "43feebf3-6181-490f-c1bc-488ba4e06d26"
      },
      "source": [
        "show_image(w[0].view(28,28))"
      ],
      "execution_count": 146,
      "outputs": [
        {
          "output_type": "execute_result",
          "data": {
            "text/plain": [
              "<matplotlib.axes._subplots.AxesSubplot at 0x7f5fa8673d10>"
            ]
          },
          "metadata": {
            "tags": []
          },
          "execution_count": 146
        },
        {
          "output_type": "display_data",
          "data": {
            "image/png": "[encoded data removed]",
            "text/plain": [
              "<Figure size 72x72 with 1 Axes>"
            ]
          },
          "metadata": {
            "tags": [],
            "needs_background": "light"
          }
        }
      ]
    },
    {
      "cell_type": "markdown",
      "metadata": {
        "id": "iK55MbUUcXWz"
      },
      "source": [
        "- In practice, we can add as many linear layers as we want as long as we add a nonlinearity between each pair of linear layers (making the model deeper).\n",
        "\n",
        "- However, the deeper the model gets, the harder it is to optimise the parameters in practice.\n",
        "\n",
        "- **Why use deeper models?**\n",
        "> Performance. With a deeper model, we do not need to use as many parameters; we can use smaller matrices, with more layers, and get better results than we would with larger matrices and fewer layers. We can therefore train quicker and our model takes up less memory.\n",
        "\n",
        "- Below we see what happens when we train an 18 layer model using the same approach:"
      ]
    },
    {
      "cell_type": "code",
      "metadata": {
        "colab": {
          "base_uri": "https://localhost:8080/",
          "height": 135
        },
        "id": "Xh1IM0gCbDu7",
        "outputId": "79a26dd4-ed3f-4f79-8282-3846f1eb38db"
      },
      "source": [
        "dls = ImageDataLoaders.from_folder(path)\n",
        "learn = cnn_learner(dls, resnet18, pretrained=False,\n",
        "                    loss_func=F.cross_entropy, metrics=accuracy)\n",
        "learn.fit_one_cycle(1, 0.1)"
      ],
      "execution_count": 147,
      "outputs": [
        {
          "output_type": "stream",
          "text": [
            "/usr/local/lib/python3.7/dist-packages/torch/nn/functional.py:718: UserWarning: Named tensors and all their associated APIs are an experimental feature and subject to change. Please do not use them for anything important until they are released as stable. (Triggered internally at  /pytorch/c10/core/TensorImpl.h:1156.)\n",
            "  return torch.max_pool2d(input, kernel_size, stride, padding, dilation, ceil_mode)\n"
          ],
          "name": "stderr"
        },
        {
          "output_type": "display_data",
          "data": {
            "text/html": [
              "<table border=\"1\" class=\"dataframe\">\n",
              "  <thead>\n",
              "    <tr style=\"text-align: left;\">\n",
              "      <th>epoch</th>\n",
              "      <th>train_loss</th>\n",
              "      <th>valid_loss</th>\n",
              "      <th>accuracy</th>\n",
              "      <th>time</th>\n",
              "    </tr>\n",
              "  </thead>\n",
              "  <tbody>\n",
              "    <tr>\n",
              "      <td>0</td>\n",
              "      <td>0.154869</td>\n",
              "      <td>0.051741</td>\n",
              "      <td>0.994112</td>\n",
              "      <td>02:55</td>\n",
              "    </tr>\n",
              "  </tbody>\n",
              "</table>"
            ],
            "text/plain": [
              "<IPython.core.display.HTML object>"
            ]
          },
          "metadata": {
            "tags": []
          }
        }
      ]
    },
    {
      "cell_type": "markdown",
      "metadata": {
        "id": "WyWzqOydfEmF"
      },
      "source": [
        "- It gives nearly 100% accuracy, a big difference compared to our `simple_net` function."
      ]
    },
    {
      "cell_type": "markdown",
      "metadata": {
        "id": "ynNtKk2Vggrq"
      },
      "source": [
        "### Summary of key concepts related to SGD.\n",
        "\n",
        "> Activations - numbers that are calculated.\n",
        "\n",
        "> Parameters - numbers that are randomly initialized, and optimised (the numbers we're learning).\n",
        "\n",
        "> ReLU - A function that returns zero for negative numbers and doesn't change for positive numbers.\n",
        "\n",
        "> Mini-batch - A small batch of inputs and labels gathered together in two arrays. A gradient descent step is updated on this batch (rather than a whole epoch).\n",
        "\n",
        ">Forward pass - Applying the model to some input and computing the predictions.\n",
        "\n",
        "> Loss - A value that represents how well (or badly) our model is doing.\n",
        "\n",
        "> Gradient - The derivative of the loss with respect  to some parameter of the model.\n",
        "\n",
        "> Backward pass - Computing the gradients of the loss with respect to all model parameters.\n",
        "\n",
        "> Gradient descent - Taking a step in the directions opposite to the gradients to make the model parameters a little bit better.\n",
        "\n",
        "> Learning rate - The size of the step we make when applying SGD to update the parameters of the model.\n",
        "\n",
        "> Stochastic Gradient Descent - Taking the gradient descent on a set of mini batches.\n",
        "\n",
        "> Dataset - A PyTorch tuple containing and independent and dependent variables.\n",
        "\n",
        "> Dataloader - A fastai module that batches and shuffles a list of datasets.\n",
        "\n",
        "> Dataloaders - Stores away a Dataloader as a .train and a .valid. A single object that knows all the data we have."
      ]
    },
    {
      "cell_type": "code",
      "metadata": {
        "id": "JyayD_Djdvuf"
      },
      "source": [
        ""
      ],
      "execution_count": null,
      "outputs": []
    }
  ]
}